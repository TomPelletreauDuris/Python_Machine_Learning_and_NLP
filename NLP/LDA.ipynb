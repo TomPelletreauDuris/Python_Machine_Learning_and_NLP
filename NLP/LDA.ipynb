{
 "cells": [
  {
   "cell_type": "markdown",
   "metadata": {},
   "source": [
    "# LDA QUI FONCTIONNE MAIS AVEC DES MESSAGES D'ERREUR\n",
    "Dans le domaine du traitement automatique des langues, \n",
    "l’allocation de Dirichlet latente (de l’anglais Latent Dirichlet Allocation) \n",
    "ou LDA est un modèle génératif probabiliste permettant d’expliquer des ensembles d’observations, \n",
    "par le moyen de groupes non observés, eux-mêmes définis par des similarités de données."
   ]
  },
  {
   "cell_type": "code",
   "execution_count": 3,
   "metadata": {},
   "outputs": [
    {
     "name": "stdout",
     "output_type": "stream",
     "text": [
      "Requirement already satisfied: gensim in c:\\users\\tomdu\\anaconda3\\lib\\site-packages (4.0.1)\n",
      "Requirement already satisfied: Cython==0.29.21 in c:\\users\\tomdu\\anaconda3\\lib\\site-packages (from gensim) (0.29.21)\n",
      "Requirement already satisfied: scipy>=0.18.1 in c:\\users\\tomdu\\anaconda3\\lib\\site-packages (from gensim) (1.5.2)\n",
      "Requirement already satisfied: smart-open>=1.8.1 in c:\\users\\tomdu\\anaconda3\\lib\\site-packages (from gensim) (3.0.0)\n",
      "Requirement already satisfied: numpy>=1.11.3 in c:\\users\\tomdu\\appdata\\roaming\\python\\python38\\site-packages (from gensim) (1.20.2)\n",
      "Requirement already satisfied: requests in c:\\users\\tomdu\\anaconda3\\lib\\site-packages (from smart-open>=1.8.1->gensim) (2.24.0)\n",
      "Requirement already satisfied: urllib3!=1.25.0,!=1.25.1,<1.26,>=1.21.1 in c:\\users\\tomdu\\anaconda3\\lib\\site-packages (from requests->smart-open>=1.8.1->gensim) (1.25.11)\n",
      "Requirement already satisfied: chardet<4,>=3.0.2 in c:\\users\\tomdu\\anaconda3\\lib\\site-packages (from requests->smart-open>=1.8.1->gensim) (3.0.4)\n",
      "Requirement already satisfied: certifi>=2017.4.17 in c:\\users\\tomdu\\anaconda3\\lib\\site-packages (from requests->smart-open>=1.8.1->gensim) (2020.6.20)\n",
      "Requirement already satisfied: idna<3,>=2.5 in c:\\users\\tomdu\\anaconda3\\lib\\site-packages (from requests->smart-open>=1.8.1->gensim) (2.10)\n"
     ]
    },
    {
     "name": "stderr",
     "output_type": "stream",
     "text": [
      "WARNING: Value for scheme.headers does not match. Please report this to <https://github.com/pypa/pip/issues/9617>\n",
      "distutils: C:\\Users\\tomdu\\AppData\\Roaming\\Python\\Python38\\Include\\UNKNOWN\n",
      "sysconfig: C:\\Users\\tomdu\\AppData\\Roaming\\Python\\Python38\\Include\n",
      "WARNING: Additional context:\n",
      "user = True\n",
      "home = None\n",
      "root = None\n",
      "prefix = None\n",
      "WARNING: You are using pip version 21.1; however, version 21.1.3 is available.\n",
      "You should consider upgrading via the 'c:\\users\\tomdu\\anaconda3\\python.exe -m pip install --upgrade pip' command.\n"
     ]
    },
    {
     "name": "stdout",
     "output_type": "stream",
     "text": [
      "Requirement already satisfied: pyldavis in c:\\users\\tomdu\\appdata\\roaming\\python\\python38\\site-packages (3.3.1)\n",
      "Requirement already satisfied: pandas>=1.2.0 in c:\\users\\tomdu\\appdata\\roaming\\python\\python38\\site-packages (from pyldavis) (1.2.4)\n",
      "Requirement already satisfied: gensim in c:\\users\\tomdu\\anaconda3\\lib\\site-packages (from pyldavis) (4.0.1)\n",
      "Requirement already satisfied: setuptools in c:\\users\\tomdu\\anaconda3\\lib\\site-packages (from pyldavis) (50.3.1.post20201107)\n",
      "Requirement already satisfied: numexpr in c:\\users\\tomdu\\anaconda3\\lib\\site-packages (from pyldavis) (2.7.1)\n",
      "Requirement already satisfied: scikit-learn in c:\\users\\tomdu\\anaconda3\\lib\\site-packages (from pyldavis) (0.23.2)\n",
      "Requirement already satisfied: funcy in c:\\users\\tomdu\\appdata\\roaming\\python\\python38\\site-packages (from pyldavis) (1.15)\n",
      "Requirement already satisfied: sklearn in c:\\users\\tomdu\\appdata\\roaming\\python\\python38\\site-packages (from pyldavis) (0.0)\n",
      "Requirement already satisfied: joblib in c:\\users\\tomdu\\anaconda3\\lib\\site-packages (from pyldavis) (0.17.0)\n",
      "Requirement already satisfied: numpy>=1.20.0 in c:\\users\\tomdu\\appdata\\roaming\\python\\python38\\site-packages (from pyldavis) (1.20.2)\n",
      "Requirement already satisfied: scipy in c:\\users\\tomdu\\anaconda3\\lib\\site-packages (from pyldavis) (1.5.2)\n",
      "Requirement already satisfied: jinja2 in c:\\users\\tomdu\\anaconda3\\lib\\site-packages (from pyldavis) (2.11.2)\n",
      "Requirement already satisfied: future in c:\\users\\tomdu\\anaconda3\\lib\\site-packages (from pyldavis) (0.18.2)\n",
      "Requirement already satisfied: pytz>=2017.3 in c:\\users\\tomdu\\anaconda3\\lib\\site-packages (from pandas>=1.2.0->pyldavis) (2020.1)\n",
      "Requirement already satisfied: python-dateutil>=2.7.3 in c:\\users\\tomdu\\anaconda3\\lib\\site-packages (from pandas>=1.2.0->pyldavis) (2.8.1)\n",
      "Requirement already satisfied: six>=1.5 in c:\\users\\tomdu\\anaconda3\\lib\\site-packages (from python-dateutil>=2.7.3->pandas>=1.2.0->pyldavis) (1.15.0)\n",
      "Requirement already satisfied: smart-open>=1.8.1 in c:\\users\\tomdu\\anaconda3\\lib\\site-packages (from gensim->pyldavis) (3.0.0)\n",
      "Requirement already satisfied: Cython==0.29.21 in c:\\users\\tomdu\\anaconda3\\lib\\site-packages (from gensim->pyldavis) (0.29.21)\n",
      "Requirement already satisfied: requests in c:\\users\\tomdu\\anaconda3\\lib\\site-packages (from smart-open>=1.8.1->gensim->pyldavis) (2.24.0)\n",
      "Requirement already satisfied: MarkupSafe>=0.23 in c:\\users\\tomdu\\anaconda3\\lib\\site-packages (from jinja2->pyldavis) (1.1.1)\n",
      "Requirement already satisfied: certifi>=2017.4.17 in c:\\users\\tomdu\\anaconda3\\lib\\site-packages (from requests->smart-open>=1.8.1->gensim->pyldavis) (2020.6.20)\n",
      "Requirement already satisfied: urllib3!=1.25.0,!=1.25.1,<1.26,>=1.21.1 in c:\\users\\tomdu\\anaconda3\\lib\\site-packages (from requests->smart-open>=1.8.1->gensim->pyldavis) (1.25.11)\n",
      "Requirement already satisfied: idna<3,>=2.5 in c:\\users\\tomdu\\anaconda3\\lib\\site-packages (from requests->smart-open>=1.8.1->gensim->pyldavis) (2.10)\n",
      "Requirement already satisfied: chardet<4,>=3.0.2 in c:\\users\\tomdu\\anaconda3\\lib\\site-packages (from requests->smart-open>=1.8.1->gensim->pyldavis) (3.0.4)\n",
      "Requirement already satisfied: threadpoolctl>=2.0.0 in c:\\users\\tomdu\\anaconda3\\lib\\site-packages (from scikit-learn->pyldavis) (2.1.0)\n"
     ]
    },
    {
     "name": "stderr",
     "output_type": "stream",
     "text": [
      "WARNING: Value for scheme.headers does not match. Please report this to <https://github.com/pypa/pip/issues/9617>\n",
      "distutils: C:\\Users\\tomdu\\AppData\\Roaming\\Python\\Python38\\Include\\UNKNOWN\n",
      "sysconfig: C:\\Users\\tomdu\\AppData\\Roaming\\Python\\Python38\\Include\n",
      "WARNING: Additional context:\n",
      "user = True\n",
      "home = None\n",
      "root = None\n",
      "prefix = None\n",
      "WARNING: You are using pip version 21.1; however, version 21.1.3 is available.\n",
      "You should consider upgrading via the 'c:\\users\\tomdu\\anaconda3\\python.exe -m pip install --upgrade pip' command.\n"
     ]
    },
    {
     "name": "stdout",
     "output_type": "stream",
     "text": [
      "Requirement already satisfied: python-Levenshtein in c:\\users\\tomdu\\anaconda3\\lib\\site-packages (0.12.2)\n",
      "Requirement already satisfied: setuptools in c:\\users\\tomdu\\anaconda3\\lib\\site-packages (from python-Levenshtein) (50.3.1.post20201107)\n"
     ]
    },
    {
     "name": "stderr",
     "output_type": "stream",
     "text": [
      "WARNING: Value for scheme.headers does not match. Please report this to <https://github.com/pypa/pip/issues/9617>\n",
      "distutils: c:\\users\\tomdu\\anaconda3\\Include\\UNKNOWN\n",
      "sysconfig: c:\\users\\tomdu\\anaconda3\\Include\n",
      "WARNING: Additional context:\n",
      "user = False\n",
      "home = None\n",
      "root = None\n",
      "prefix = None\n",
      "WARNING: Value for scheme.headers does not match. Please report this to <https://github.com/pypa/pip/issues/9617>\n",
      "distutils: c:\\users\\tomdu\\anaconda3\\Include\\UNKNOWN\n",
      "sysconfig: c:\\users\\tomdu\\anaconda3\\Include\n",
      "WARNING: Additional context:\n",
      "user = False\n",
      "home = None\n",
      "root = None\n",
      "prefix = None\n",
      "WARNING: You are using pip version 21.1; however, version 21.1.3 is available.\n",
      "You should consider upgrading via the 'c:\\users\\tomdu\\anaconda3\\python.exe -m pip install --upgrade pip' command.\n"
     ]
    }
   ],
   "source": [
    "!pip install --upgrade gensim --user\n",
    "!pip install pyldavis --user\n",
    "!pip install python-Levenshtein\n",
    "\n"
   ]
  },
  {
   "cell_type": "code",
   "execution_count": 4,
   "metadata": {},
   "outputs": [
    {
     "name": "stdout",
     "output_type": "stream",
     "text": [
      "Requirement already satisfied: python-Levenshtein in c:\\users\\tomdu\\anaconda3\\lib\\site-packages (0.12.2)\n",
      "Requirement already satisfied: setuptools in c:\\users\\tomdu\\anaconda3\\lib\\site-packages (from python-Levenshtein) (50.3.1.post20201107)\n",
      "Note: you may need to restart the kernel to use updated packages.\n"
     ]
    },
    {
     "name": "stderr",
     "output_type": "stream",
     "text": [
      "WARNING: Value for scheme.headers does not match. Please report this to <https://github.com/pypa/pip/issues/9617>\n",
      "distutils: C:\\Users\\tomdu\\anaconda3\\Include\\UNKNOWN\n",
      "sysconfig: C:\\Users\\tomdu\\anaconda3\\Include\n",
      "WARNING: Additional context:\n",
      "user = False\n",
      "home = None\n",
      "root = None\n",
      "prefix = None\n",
      "WARNING: Value for scheme.headers does not match. Please report this to <https://github.com/pypa/pip/issues/9617>\n",
      "distutils: C:\\Users\\tomdu\\anaconda3\\Include\\UNKNOWN\n",
      "sysconfig: C:\\Users\\tomdu\\anaconda3\\Include\n",
      "WARNING: Additional context:\n",
      "user = False\n",
      "home = None\n",
      "root = None\n",
      "prefix = None\n",
      "WARNING: You are using pip version 21.1; however, version 21.1.3 is available.\n",
      "You should consider upgrading via the 'C:\\Users\\tomdu\\anaconda3\\python.exe -m pip install --upgrade pip' command.\n"
     ]
    }
   ],
   "source": [
    "pip install python-Levenshtein"
   ]
  },
  {
   "cell_type": "code",
   "execution_count": 5,
   "metadata": {},
   "outputs": [
    {
     "name": "stdout",
     "output_type": "stream",
     "text": [
      "Requirement already satisfied: pyLDAvis in c:\\users\\tomdu\\appdata\\roaming\\python\\python38\\site-packages (3.3.1)\n",
      "Requirement already satisfied: numexpr in c:\\users\\tomdu\\anaconda3\\lib\\site-packages (from pyLDAvis) (2.7.1)\n",
      "Requirement already satisfied: pandas>=1.2.0 in c:\\users\\tomdu\\appdata\\roaming\\python\\python38\\site-packages (from pyLDAvis) (1.2.4)\n",
      "Requirement already satisfied: scipy in c:\\users\\tomdu\\anaconda3\\lib\\site-packages (from pyLDAvis) (1.5.2)\n",
      "Requirement already satisfied: joblib in c:\\users\\tomdu\\anaconda3\\lib\\site-packages (from pyLDAvis) (0.17.0)\n",
      "Requirement already satisfied: scikit-learn in c:\\users\\tomdu\\anaconda3\\lib\\site-packages (from pyLDAvis) (0.23.2)\n",
      "Requirement already satisfied: setuptools in c:\\users\\tomdu\\anaconda3\\lib\\site-packages (from pyLDAvis) (50.3.1.post20201107)\n",
      "Requirement already satisfied: numpy>=1.20.0 in c:\\users\\tomdu\\appdata\\roaming\\python\\python38\\site-packages (from pyLDAvis) (1.20.2)\n",
      "Requirement already satisfied: jinja2 in c:\\users\\tomdu\\anaconda3\\lib\\site-packages (from pyLDAvis) (2.11.2)\n",
      "Requirement already satisfied: funcy in c:\\users\\tomdu\\appdata\\roaming\\python\\python38\\site-packages (from pyLDAvis) (1.15)\n",
      "Requirement already satisfied: sklearn in c:\\users\\tomdu\\appdata\\roaming\\python\\python38\\site-packages (from pyLDAvis) (0.0)\n",
      "Requirement already satisfied: future in c:\\users\\tomdu\\anaconda3\\lib\\site-packages (from pyLDAvis) (0.18.2)\n",
      "Requirement already satisfied: gensim in c:\\users\\tomdu\\anaconda3\\lib\\site-packages (from pyLDAvis) (4.0.1)\n",
      "Requirement already satisfied: pytz>=2017.3 in c:\\users\\tomdu\\anaconda3\\lib\\site-packages (from pandas>=1.2.0->pyLDAvis) (2020.1)\n",
      "Requirement already satisfied: python-dateutil>=2.7.3 in c:\\users\\tomdu\\anaconda3\\lib\\site-packages (from pandas>=1.2.0->pyLDAvis) (2.8.1)\n",
      "Requirement already satisfied: six>=1.5 in c:\\users\\tomdu\\anaconda3\\lib\\site-packages (from python-dateutil>=2.7.3->pandas>=1.2.0->pyLDAvis) (1.15.0)\n",
      "Requirement already satisfied: Cython==0.29.21 in c:\\users\\tomdu\\anaconda3\\lib\\site-packages (from gensim->pyLDAvis) (0.29.21)\n",
      "Requirement already satisfied: smart-open>=1.8.1 in c:\\users\\tomdu\\anaconda3\\lib\\site-packages (from gensim->pyLDAvis) (3.0.0)\n",
      "Requirement already satisfied: requests in c:\\users\\tomdu\\anaconda3\\lib\\site-packages (from smart-open>=1.8.1->gensim->pyLDAvis) (2.24.0)\n",
      "Requirement already satisfied: MarkupSafe>=0.23 in c:\\users\\tomdu\\anaconda3\\lib\\site-packages (from jinja2->pyLDAvis) (1.1.1)\n",
      "Requirement already satisfied: chardet<4,>=3.0.2 in c:\\users\\tomdu\\anaconda3\\lib\\site-packages (from requests->smart-open>=1.8.1->gensim->pyLDAvis) (3.0.4)\n",
      "Requirement already satisfied: urllib3!=1.25.0,!=1.25.1,<1.26,>=1.21.1 in c:\\users\\tomdu\\anaconda3\\lib\\site-packages (from requests->smart-open>=1.8.1->gensim->pyLDAvis) (1.25.11)\n",
      "Requirement already satisfied: certifi>=2017.4.17 in c:\\users\\tomdu\\anaconda3\\lib\\site-packages (from requests->smart-open>=1.8.1->gensim->pyLDAvis) (2020.6.20)\n",
      "Requirement already satisfied: idna<3,>=2.5 in c:\\users\\tomdu\\anaconda3\\lib\\site-packages (from requests->smart-open>=1.8.1->gensim->pyLDAvis) (2.10)\n",
      "Requirement already satisfied: threadpoolctl>=2.0.0 in c:\\users\\tomdu\\anaconda3\\lib\\site-packages (from scikit-learn->pyLDAvis) (2.1.0)\n"
     ]
    },
    {
     "name": "stderr",
     "output_type": "stream",
     "text": [
      "WARNING: Value for scheme.headers does not match. Please report this to <https://github.com/pypa/pip/issues/9617>\n",
      "distutils: c:\\users\\tomdu\\anaconda3\\Include\\UNKNOWN\n",
      "sysconfig: c:\\users\\tomdu\\anaconda3\\Include\n",
      "WARNING: Additional context:\n",
      "user = False\n",
      "home = None\n",
      "root = None\n",
      "prefix = None\n",
      "WARNING: Value for scheme.headers does not match. Please report this to <https://github.com/pypa/pip/issues/9617>\n",
      "distutils: c:\\users\\tomdu\\anaconda3\\Include\\UNKNOWN\n",
      "sysconfig: c:\\users\\tomdu\\anaconda3\\Include\n",
      "WARNING: Additional context:\n",
      "user = False\n",
      "home = None\n",
      "root = None\n",
      "prefix = None\n",
      "WARNING: You are using pip version 21.1; however, version 21.1.3 is available.\n",
      "You should consider upgrading via the 'c:\\users\\tomdu\\anaconda3\\python.exe -m pip install --upgrade pip' command.\n"
     ]
    }
   ],
   "source": [
    "! pip install pyLDAvis"
   ]
  },
  {
   "cell_type": "code",
   "execution_count": 6,
   "metadata": {},
   "outputs": [
    {
     "name": "stderr",
     "output_type": "stream",
     "text": [
      "C:\\Users\\tomdu\\anaconda3\\lib\\site-packages\\sklearn\\linear_model\\_least_angle.py:34: DeprecationWarning: `np.float` is a deprecated alias for the builtin `float`. To silence this warning, use `float` by itself. Doing this will not modify any behavior and is safe. If you specifically wanted the numpy scalar type, use `np.float64` here.\n",
      "Deprecated in NumPy 1.20; for more details and guidance: https://numpy.org/devdocs/release/1.20.0-notes.html#deprecations\n",
      "  method='lar', copy_X=True, eps=np.finfo(np.float).eps,\n",
      "C:\\Users\\tomdu\\anaconda3\\lib\\site-packages\\sklearn\\linear_model\\_least_angle.py:164: DeprecationWarning: `np.float` is a deprecated alias for the builtin `float`. To silence this warning, use `float` by itself. Doing this will not modify any behavior and is safe. If you specifically wanted the numpy scalar type, use `np.float64` here.\n",
      "Deprecated in NumPy 1.20; for more details and guidance: https://numpy.org/devdocs/release/1.20.0-notes.html#deprecations\n",
      "  method='lar', copy_X=True, eps=np.finfo(np.float).eps,\n",
      "C:\\Users\\tomdu\\anaconda3\\lib\\site-packages\\sklearn\\linear_model\\_least_angle.py:281: DeprecationWarning: `np.float` is a deprecated alias for the builtin `float`. To silence this warning, use `float` by itself. Doing this will not modify any behavior and is safe. If you specifically wanted the numpy scalar type, use `np.float64` here.\n",
      "Deprecated in NumPy 1.20; for more details and guidance: https://numpy.org/devdocs/release/1.20.0-notes.html#deprecations\n",
      "  eps=np.finfo(np.float).eps, copy_Gram=True, verbose=0,\n",
      "C:\\Users\\tomdu\\anaconda3\\lib\\site-packages\\sklearn\\linear_model\\_least_angle.py:865: DeprecationWarning: `np.float` is a deprecated alias for the builtin `float`. To silence this warning, use `float` by itself. Doing this will not modify any behavior and is safe. If you specifically wanted the numpy scalar type, use `np.float64` here.\n",
      "Deprecated in NumPy 1.20; for more details and guidance: https://numpy.org/devdocs/release/1.20.0-notes.html#deprecations\n",
      "  eps=np.finfo(np.float).eps, copy_X=True, fit_path=True,\n",
      "C:\\Users\\tomdu\\anaconda3\\lib\\site-packages\\sklearn\\linear_model\\_least_angle.py:1121: DeprecationWarning: `np.float` is a deprecated alias for the builtin `float`. To silence this warning, use `float` by itself. Doing this will not modify any behavior and is safe. If you specifically wanted the numpy scalar type, use `np.float64` here.\n",
      "Deprecated in NumPy 1.20; for more details and guidance: https://numpy.org/devdocs/release/1.20.0-notes.html#deprecations\n",
      "  eps=np.finfo(np.float).eps, copy_X=True, fit_path=True,\n",
      "C:\\Users\\tomdu\\anaconda3\\lib\\site-packages\\sklearn\\linear_model\\_least_angle.py:1149: DeprecationWarning: `np.float` is a deprecated alias for the builtin `float`. To silence this warning, use `float` by itself. Doing this will not modify any behavior and is safe. If you specifically wanted the numpy scalar type, use `np.float64` here.\n",
      "Deprecated in NumPy 1.20; for more details and guidance: https://numpy.org/devdocs/release/1.20.0-notes.html#deprecations\n",
      "  eps=np.finfo(np.float).eps, positive=False):\n",
      "C:\\Users\\tomdu\\anaconda3\\lib\\site-packages\\sklearn\\linear_model\\_least_angle.py:1379: DeprecationWarning: `np.float` is a deprecated alias for the builtin `float`. To silence this warning, use `float` by itself. Doing this will not modify any behavior and is safe. If you specifically wanted the numpy scalar type, use `np.float64` here.\n",
      "Deprecated in NumPy 1.20; for more details and guidance: https://numpy.org/devdocs/release/1.20.0-notes.html#deprecations\n",
      "  max_n_alphas=1000, n_jobs=None, eps=np.finfo(np.float).eps,\n",
      "C:\\Users\\tomdu\\anaconda3\\lib\\site-packages\\sklearn\\linear_model\\_least_angle.py:1621: DeprecationWarning: `np.float` is a deprecated alias for the builtin `float`. To silence this warning, use `float` by itself. Doing this will not modify any behavior and is safe. If you specifically wanted the numpy scalar type, use `np.float64` here.\n",
      "Deprecated in NumPy 1.20; for more details and guidance: https://numpy.org/devdocs/release/1.20.0-notes.html#deprecations\n",
      "  max_n_alphas=1000, n_jobs=None, eps=np.finfo(np.float).eps,\n",
      "C:\\Users\\tomdu\\anaconda3\\lib\\site-packages\\sklearn\\linear_model\\_least_angle.py:1755: DeprecationWarning: `np.float` is a deprecated alias for the builtin `float`. To silence this warning, use `float` by itself. Doing this will not modify any behavior and is safe. If you specifically wanted the numpy scalar type, use `np.float64` here.\n",
      "Deprecated in NumPy 1.20; for more details and guidance: https://numpy.org/devdocs/release/1.20.0-notes.html#deprecations\n",
      "  eps=np.finfo(np.float).eps, copy_X=True, positive=False):\n",
      "C:\\Users\\tomdu\\anaconda3\\lib\\site-packages\\sklearn\\decomposition\\_lda.py:28: DeprecationWarning: `np.float` is a deprecated alias for the builtin `float`. To silence this warning, use `float` by itself. Doing this will not modify any behavior and is safe. If you specifically wanted the numpy scalar type, use `np.float64` here.\n",
      "Deprecated in NumPy 1.20; for more details and guidance: https://numpy.org/devdocs/release/1.20.0-notes.html#deprecations\n",
      "  EPS = np.finfo(np.float).eps\n"
     ]
    }
   ],
   "source": [
    "import gensim as gs\n",
    "import pandas as pd\n",
    "import pyLDAvis\n",
    "pyLDAvis.enable_notebook()"
   ]
  },
  {
   "cell_type": "code",
   "execution_count": 7,
   "metadata": {
    "scrolled": true
   },
   "outputs": [
    {
     "name": "stderr",
     "output_type": "stream",
     "text": [
      "C:\\Users\\tomdu\\anaconda3\\lib\\site-packages\\ipykernel\\ipkernel.py:287: DeprecationWarning: `should_run_async` will not call `transform_cell` automatically in the future. Please pass the result to `transformed_cell` argument and any exception that happen during thetransform in `preprocessing_exc_tuple` in IPython 7.17 and above.\n",
      "  and should_run_async(code)\n"
     ]
    }
   ],
   "source": [
    "dataset = pd.read_csv(\"insurance_QA_train.csv\", sep=\";\")"
   ]
  },
  {
   "cell_type": "code",
   "execution_count": 8,
   "metadata": {},
   "outputs": [
    {
     "name": "stderr",
     "output_type": "stream",
     "text": [
      "C:\\Users\\tomdu\\anaconda3\\lib\\site-packages\\ipykernel\\ipkernel.py:287: DeprecationWarning: `should_run_async` will not call `transform_cell` automatically in the future. Please pass the result to `transformed_cell` argument and any exception that happen during thetransform in `preprocessing_exc_tuple` in IPython 7.17 and above.\n",
      "  and should_run_async(code)\n"
     ]
    },
    {
     "data": {
      "text/html": [
       "<div>\n",
       "<style scoped>\n",
       "    .dataframe tbody tr th:only-of-type {\n",
       "        vertical-align: middle;\n",
       "    }\n",
       "\n",
       "    .dataframe tbody tr th {\n",
       "        vertical-align: top;\n",
       "    }\n",
       "\n",
       "    .dataframe thead th {\n",
       "        text-align: right;\n",
       "    }\n",
       "</style>\n",
       "<table border=\"1\" class=\"dataframe\">\n",
       "  <thead>\n",
       "    <tr style=\"text-align: right;\">\n",
       "      <th></th>\n",
       "      <th>Question</th>\n",
       "      <th>Answer</th>\n",
       "    </tr>\n",
       "  </thead>\n",
       "  <tbody>\n",
       "    <tr>\n",
       "      <th>0</th>\n",
       "      <td>be Life Insurance exempt from creditor in Conn...</td>\n",
       "      <td>provided that you have name a primarybeneficia...</td>\n",
       "    </tr>\n",
       "    <tr>\n",
       "      <th>1</th>\n",
       "      <td>which country have the good retirement plan?</td>\n",
       "      <td>not many sovereign nation have retirement plan...</td>\n",
       "    </tr>\n",
       "    <tr>\n",
       "      <th>2</th>\n",
       "      <td>how do I purchase homeowner insurance?</td>\n",
       "      <td>it simple really contact a broker like myself ...</td>\n",
       "    </tr>\n",
       "    <tr>\n",
       "      <th>3</th>\n",
       "      <td>when be Medicare primary or secondary?</td>\n",
       "      <td>the factor that determine whether Medicare be ...</td>\n",
       "    </tr>\n",
       "    <tr>\n",
       "      <th>4</th>\n",
       "      <td>do smoking void Life Insurance?</td>\n",
       "      <td>if you buy a life insurance policy as a nonsmo...</td>\n",
       "    </tr>\n",
       "  </tbody>\n",
       "</table>\n",
       "</div>"
      ],
      "text/plain": [
       "                                            Question  \\\n",
       "0  be Life Insurance exempt from creditor in Conn...   \n",
       "1       which country have the good retirement plan?   \n",
       "2             how do I purchase homeowner insurance?   \n",
       "3             when be Medicare primary or secondary?   \n",
       "4                    do smoking void Life Insurance?   \n",
       "\n",
       "                                              Answer  \n",
       "0  provided that you have name a primarybeneficia...  \n",
       "1  not many sovereign nation have retirement plan...  \n",
       "2  it simple really contact a broker like myself ...  \n",
       "3  the factor that determine whether Medicare be ...  \n",
       "4  if you buy a life insurance policy as a nonsmo...  "
      ]
     },
     "execution_count": 8,
     "metadata": {},
     "output_type": "execute_result"
    }
   ],
   "source": [
    "dataset.head()"
   ]
  },
  {
   "cell_type": "code",
   "execution_count": 9,
   "metadata": {
    "scrolled": true
   },
   "outputs": [
    {
     "name": "stderr",
     "output_type": "stream",
     "text": [
      "C:\\Users\\tomdu\\anaconda3\\lib\\site-packages\\ipykernel\\ipkernel.py:287: DeprecationWarning: `should_run_async` will not call `transform_cell` automatically in the future. Please pass the result to `transformed_cell` argument and any exception that happen during thetransform in `preprocessing_exc_tuple` in IPython 7.17 and above.\n",
      "  and should_run_async(code)\n"
     ]
    }
   ],
   "source": [
    "docs = list(dataset[\"Question\"] + dataset[\"Answer\"])"
   ]
  },
  {
   "cell_type": "code",
   "execution_count": 10,
   "metadata": {},
   "outputs": [
    {
     "name": "stderr",
     "output_type": "stream",
     "text": [
      "C:\\Users\\tomdu\\anaconda3\\lib\\site-packages\\ipykernel\\ipkernel.py:287: DeprecationWarning: `should_run_async` will not call `transform_cell` automatically in the future. Please pass the result to `transformed_cell` argument and any exception that happen during thetransform in `preprocessing_exc_tuple` in IPython 7.17 and above.\n",
      "  and should_run_async(code)\n",
      "C:\\Users\\tomdu\\anaconda3\\lib\\site-packages\\sklearn\\feature_extraction\\image.py:172: DeprecationWarning: `np.int` is a deprecated alias for the builtin `int`. To silence this warning, use `int` by itself. Doing this will not modify any behavior and is safe. When replacing `np.int`, you may wish to use e.g. `np.int64` or `np.int32` to specify the precision. If you wish to review your current use, check the release note link for additional information.\n",
      "Deprecated in NumPy 1.20; for more details and guidance: https://numpy.org/devdocs/release/1.20.0-notes.html#deprecations\n",
      "  dtype=np.int):\n"
     ]
    }
   ],
   "source": [
    "# Tokenize the documents.\n",
    "from nltk.tokenize import RegexpTokenizer\n",
    "\n",
    "# Split the documents into tokens.\n",
    "tokenizer = RegexpTokenizer(r'\\w+')\n",
    "for idx in range(len(docs)):\n",
    "    docs[idx] = docs[idx].lower()  # Convert to lowercase.\n",
    "    docs[idx] = tokenizer.tokenize(docs[idx])  # Split into words.\n",
    "\n",
    "# Remove numbers, but not words that contain numbers.\n",
    "docs = [[token for token in doc if not token.isnumeric()] for doc in docs]\n",
    "\n",
    "# Remove words that are only one character.\n",
    "docs = [[token for token in doc if len(token) > 1] for doc in docs]"
   ]
  },
  {
   "cell_type": "code",
   "execution_count": 11,
   "metadata": {},
   "outputs": [
    {
     "name": "stderr",
     "output_type": "stream",
     "text": [
      "C:\\Users\\tomdu\\anaconda3\\lib\\site-packages\\ipykernel\\ipkernel.py:287: DeprecationWarning: `should_run_async` will not call `transform_cell` automatically in the future. Please pass the result to `transformed_cell` argument and any exception that happen during thetransform in `preprocessing_exc_tuple` in IPython 7.17 and above.\n",
      "  and should_run_async(code)\n"
     ]
    },
    {
     "data": {
      "text/plain": [
       "['how',\n",
       " 'determine',\n",
       " 'term',\n",
       " 'life',\n",
       " 'insurance',\n",
       " 'amount',\n",
       " 'many',\n",
       " 'life',\n",
       " 'insurance',\n",
       " 'expert',\n",
       " 'recommend',\n",
       " 'about',\n",
       " 'to',\n",
       " 'time',\n",
       " 'your',\n",
       " 'annual',\n",
       " 'salary',\n",
       " 'for',\n",
       " 'the',\n",
       " 'amount',\n",
       " 'of',\n",
       " 'term',\n",
       " 'life',\n",
       " 'insurance',\n",
       " 'that',\n",
       " 'you',\n",
       " 'may',\n",
       " 'need',\n",
       " 'however',\n",
       " 'the',\n",
       " 'figure',\n",
       " 'will',\n",
       " 'depend',\n",
       " 'on',\n",
       " 'your',\n",
       " 'financial',\n",
       " 'need',\n",
       " 'and',\n",
       " 'goal',\n",
       " 'you',\n",
       " 'have',\n",
       " 'factor',\n",
       " 'in',\n",
       " 'that',\n",
       " 'mortgage',\n",
       " 'education',\n",
       " 'expense',\n",
       " 'for',\n",
       " 'child',\n",
       " 'basically',\n",
       " 'whatever',\n",
       " 'your',\n",
       " 'family',\n",
       " 'will',\n",
       " 'need',\n",
       " 'survive',\n",
       " 'and',\n",
       " 'thrive',\n",
       " 'when',\n",
       " 'you',\n",
       " 'be',\n",
       " 'gone',\n",
       " 'of',\n",
       " 'course',\n",
       " 'since',\n",
       " 'term',\n",
       " 'life',\n",
       " 'insurance',\n",
       " 'be',\n",
       " 'for',\n",
       " 'specific',\n",
       " 'period',\n",
       " 'of',\n",
       " 'time',\n",
       " 'you',\n",
       " 'will',\n",
       " 'need',\n",
       " 'calculate',\n",
       " 'how',\n",
       " 'long',\n",
       " 'you',\n",
       " 'need',\n",
       " 'this',\n",
       " 'certain',\n",
       " 'amount',\n",
       " 'of',\n",
       " 'money',\n",
       " 'as',\n",
       " 'well']"
      ]
     },
     "execution_count": 11,
     "metadata": {},
     "output_type": "execute_result"
    }
   ],
   "source": [
    "docs[97]"
   ]
  },
  {
   "cell_type": "code",
   "execution_count": 12,
   "metadata": {},
   "outputs": [
    {
     "name": "stderr",
     "output_type": "stream",
     "text": [
      "C:\\Users\\tomdu\\anaconda3\\lib\\site-packages\\ipykernel\\ipkernel.py:287: DeprecationWarning: `should_run_async` will not call `transform_cell` automatically in the future. Please pass the result to `transformed_cell` argument and any exception that happen during thetransform in `preprocessing_exc_tuple` in IPython 7.17 and above.\n",
      "  and should_run_async(code)\n"
     ]
    }
   ],
   "source": [
    "# Remove words that are only one character.\n",
    "docs = [[token for token in doc if len(token) > 3] for doc in docs]"
   ]
  },
  {
   "cell_type": "code",
   "execution_count": 13,
   "metadata": {},
   "outputs": [
    {
     "name": "stderr",
     "output_type": "stream",
     "text": [
      "C:\\Users\\tomdu\\anaconda3\\lib\\site-packages\\ipykernel\\ipkernel.py:287: DeprecationWarning: `should_run_async` will not call `transform_cell` automatically in the future. Please pass the result to `transformed_cell` argument and any exception that happen during thetransform in `preprocessing_exc_tuple` in IPython 7.17 and above.\n",
      "  and should_run_async(code)\n"
     ]
    },
    {
     "data": {
      "text/plain": [
       "['determine',\n",
       " 'term',\n",
       " 'life',\n",
       " 'insurance',\n",
       " 'amount',\n",
       " 'many',\n",
       " 'life',\n",
       " 'insurance',\n",
       " 'expert',\n",
       " 'recommend',\n",
       " 'about',\n",
       " 'time',\n",
       " 'your',\n",
       " 'annual',\n",
       " 'salary',\n",
       " 'amount',\n",
       " 'term',\n",
       " 'life',\n",
       " 'insurance',\n",
       " 'that',\n",
       " 'need',\n",
       " 'however',\n",
       " 'figure',\n",
       " 'will',\n",
       " 'depend',\n",
       " 'your',\n",
       " 'financial',\n",
       " 'need',\n",
       " 'goal',\n",
       " 'have',\n",
       " 'factor',\n",
       " 'that',\n",
       " 'mortgage',\n",
       " 'education',\n",
       " 'expense',\n",
       " 'child',\n",
       " 'basically',\n",
       " 'whatever',\n",
       " 'your',\n",
       " 'family',\n",
       " 'will',\n",
       " 'need',\n",
       " 'survive',\n",
       " 'thrive',\n",
       " 'when',\n",
       " 'gone',\n",
       " 'course',\n",
       " 'since',\n",
       " 'term',\n",
       " 'life',\n",
       " 'insurance',\n",
       " 'specific',\n",
       " 'period',\n",
       " 'time',\n",
       " 'will',\n",
       " 'need',\n",
       " 'calculate',\n",
       " 'long',\n",
       " 'need',\n",
       " 'this',\n",
       " 'certain',\n",
       " 'amount',\n",
       " 'money',\n",
       " 'well']"
      ]
     },
     "execution_count": 13,
     "metadata": {},
     "output_type": "execute_result"
    }
   ],
   "source": [
    "docs[97]"
   ]
  },
  {
   "cell_type": "code",
   "execution_count": 14,
   "metadata": {},
   "outputs": [
    {
     "name": "stderr",
     "output_type": "stream",
     "text": [
      "C:\\Users\\tomdu\\anaconda3\\lib\\site-packages\\ipykernel\\ipkernel.py:287: DeprecationWarning: `should_run_async` will not call `transform_cell` automatically in the future. Please pass the result to `transformed_cell` argument and any exception that happen during thetransform in `preprocessing_exc_tuple` in IPython 7.17 and above.\n",
      "  and should_run_async(code)\n"
     ]
    },
    {
     "name": "stdout",
     "output_type": "stream",
     "text": [
      "showing info https://raw.githubusercontent.com/nltk/nltk_data/gh-pages/index.xml\n"
     ]
    },
    {
     "data": {
      "text/plain": [
       "True"
      ]
     },
     "execution_count": 14,
     "metadata": {},
     "output_type": "execute_result"
    }
   ],
   "source": [
    "#!pip install --user -U nltk\n",
    "import nltk\n",
    "nltk.download()"
   ]
  },
  {
   "cell_type": "code",
   "execution_count": 15,
   "metadata": {},
   "outputs": [
    {
     "name": "stderr",
     "output_type": "stream",
     "text": [
      "C:\\Users\\tomdu\\anaconda3\\lib\\site-packages\\ipykernel\\ipkernel.py:287: DeprecationWarning: `should_run_async` will not call `transform_cell` automatically in the future. Please pass the result to `transformed_cell` argument and any exception that happen during thetransform in `preprocessing_exc_tuple` in IPython 7.17 and above.\n",
      "  and should_run_async(code)\n"
     ]
    }
   ],
   "source": [
    "# Lemmatize the documents.\n",
    "from nltk.stem.wordnet import WordNetLemmatizer\n",
    "\n",
    "lemmatizer = WordNetLemmatizer()\n",
    "docs = [[lemmatizer.lemmatize(token) for token in doc] for doc in docs]"
   ]
  },
  {
   "cell_type": "code",
   "execution_count": 16,
   "metadata": {},
   "outputs": [
    {
     "name": "stderr",
     "output_type": "stream",
     "text": [
      "C:\\Users\\tomdu\\anaconda3\\lib\\site-packages\\ipykernel\\ipkernel.py:287: DeprecationWarning: `should_run_async` will not call `transform_cell` automatically in the future. Please pass the result to `transformed_cell` argument and any exception that happen during thetransform in `preprocessing_exc_tuple` in IPython 7.17 and above.\n",
      "  and should_run_async(code)\n"
     ]
    }
   ],
   "source": [
    "# Compute bigrams.\n",
    "from gensim.models import Phrases\n",
    "\n",
    "# Add bigrams and trigrams to docs (only ones that appear 20 times or more).\n",
    "bigram = Phrases(docs, min_count=20)\n",
    "for idx in range(len(docs)):\n",
    "    for token in bigram[docs[idx]]:\n",
    "        if '_' in token:\n",
    "            # Token is a bigram, add to document.\n",
    "            docs[idx].append(token)"
   ]
  },
  {
   "cell_type": "code",
   "execution_count": 17,
   "metadata": {},
   "outputs": [
    {
     "name": "stderr",
     "output_type": "stream",
     "text": [
      "C:\\Users\\tomdu\\anaconda3\\lib\\site-packages\\ipykernel\\ipkernel.py:287: DeprecationWarning: `should_run_async` will not call `transform_cell` automatically in the future. Please pass the result to `transformed_cell` argument and any exception that happen during thetransform in `preprocessing_exc_tuple` in IPython 7.17 and above.\n",
      "  and should_run_async(code)\n"
     ]
    }
   ],
   "source": [
    "# Remove rare and common tokens.\n",
    "from gensim.corpora import Dictionary\n",
    "\n",
    "# Create a dictionary representation of the documents.\n",
    "dictionary = Dictionary(docs)\n",
    "\n",
    "# Filter out words that occur less than 20 documents, or more than 50% of the documents.\n",
    "dictionary.filter_extremes(no_below=20, no_above=0.4)"
   ]
  },
  {
   "cell_type": "code",
   "execution_count": 18,
   "metadata": {},
   "outputs": [
    {
     "name": "stderr",
     "output_type": "stream",
     "text": [
      "C:\\Users\\tomdu\\anaconda3\\lib\\site-packages\\ipykernel\\ipkernel.py:287: DeprecationWarning: `should_run_async` will not call `transform_cell` automatically in the future. Please pass the result to `transformed_cell` argument and any exception that happen during thetransform in `preprocessing_exc_tuple` in IPython 7.17 and above.\n",
      "  and should_run_async(code)\n"
     ]
    }
   ],
   "source": [
    "# Bag-of-words representation of the documents.\n",
    "corpus = [dictionary.doc2bow(doc) for doc in docs]"
   ]
  },
  {
   "cell_type": "code",
   "execution_count": 19,
   "metadata": {},
   "outputs": [
    {
     "name": "stdout",
     "output_type": "stream",
     "text": [
      "Number of unique tokens: 2542\n",
      "Number of documents: 12887\n"
     ]
    },
    {
     "name": "stderr",
     "output_type": "stream",
     "text": [
      "C:\\Users\\tomdu\\anaconda3\\lib\\site-packages\\ipykernel\\ipkernel.py:287: DeprecationWarning: `should_run_async` will not call `transform_cell` automatically in the future. Please pass the result to `transformed_cell` argument and any exception that happen during thetransform in `preprocessing_exc_tuple` in IPython 7.17 and above.\n",
      "  and should_run_async(code)\n"
     ]
    }
   ],
   "source": [
    "print('Number of unique tokens: %d' % len(dictionary))\n",
    "print('Number of documents: %d' % len(corpus))"
   ]
  },
  {
   "cell_type": "code",
   "execution_count": 20,
   "metadata": {},
   "outputs": [
    {
     "name": "stderr",
     "output_type": "stream",
     "text": [
      "C:\\Users\\tomdu\\anaconda3\\lib\\site-packages\\ipykernel\\ipkernel.py:287: DeprecationWarning: `should_run_async` will not call `transform_cell` automatically in the future. Please pass the result to `transformed_cell` argument and any exception that happen during thetransform in `preprocessing_exc_tuple` in IPython 7.17 and above.\n",
      "  and should_run_async(code)\n"
     ]
    }
   ],
   "source": [
    "# Train LDA model.\n",
    "from gensim.models import LdaModel\n",
    "\n",
    "# Set training parameters.\n",
    "num_topics = 5\n",
    "chunksize = 200\n",
    "passes = 2\n",
    "iterations = 10\n",
    "eval_every = None  # Don't evaluate model perplexity, takes too much time.\n",
    "\n",
    "# Make a index to word dictionary.\n",
    "temp = dictionary[0]  # This is only to \"load\" the dictionary.\n",
    "id2word = dictionary.id2token\n",
    "\n",
    "lda_model = LdaModel(\n",
    "    corpus=corpus,\n",
    "    id2word=id2word,\n",
    "    chunksize=chunksize,\n",
    "    alpha='auto',\n",
    "    eta='auto',\n",
    "    iterations=iterations,\n",
    "    num_topics=num_topics,\n",
    "    passes=passes,\n",
    "    eval_every=eval_every\n",
    ")"
   ]
  },
  {
   "cell_type": "code",
   "execution_count": 21,
   "metadata": {},
   "outputs": [
    {
     "name": "stderr",
     "output_type": "stream",
     "text": [
      "C:\\Users\\tomdu\\anaconda3\\lib\\site-packages\\ipykernel\\ipkernel.py:287: DeprecationWarning: `should_run_async` will not call `transform_cell` automatically in the future. Please pass the result to `transformed_cell` argument and any exception that happen during thetransform in `preprocessing_exc_tuple` in IPython 7.17 and above.\n",
      "  and should_run_async(code)\n"
     ]
    },
    {
     "name": "stdout",
     "output_type": "stream",
     "text": [
      "Average topic coherence: -1.9932.\n",
      "[([(0.12614127, 'life'),\n",
      "   (0.01966556, 'term'),\n",
      "   (0.019394673, 'cash'),\n",
      "   (0.01894011, 'value'),\n",
      "   (0.018666994, 'death'),\n",
      "   (0.012816806, 'whole'),\n",
      "   (0.012449187, 'beneficiary'),\n",
      "   (0.011088992, 'cash_value'),\n",
      "   (0.01017957, 'whole_life'),\n",
      "   (0.01004031, 'when'),\n",
      "   (0.009540585, 'benefit'),\n",
      "   (0.009373764, 'premium'),\n",
      "   (0.009226393, 'what'),\n",
      "   (0.00883872, 'amount'),\n",
      "   (0.008817394, 'take'),\n",
      "   (0.008777546, 'year'),\n",
      "   (0.008550702, 'loan'),\n",
      "   (0.008188961, 'from'),\n",
      "   (0.0081020035, 'insured'),\n",
      "   (0.007476705, 'need')],\n",
      "  -1.6102195433079032),\n",
      " ([(0.025017295, 'company'),\n",
      "   (0.015590106, 'good'),\n",
      "   (0.014857169, 'coverage'),\n",
      "   (0.013260337, 'they'),\n",
      "   (0.012420598, 'agent'),\n",
      "   (0.011980588, 'there'),\n",
      "   (0.011702982, 'this'),\n",
      "   (0.010669974, 'what'),\n",
      "   (0.010209811, 'rate'),\n",
      "   (0.009815579, 'state'),\n",
      "   (0.0086553935, 'need'),\n",
      "   (0.008586847, 'carrier'),\n",
      "   (0.008339755, 'claim'),\n",
      "   (0.008303673, 'more'),\n",
      "   (0.007927701, 'cost'),\n",
      "   (0.007514473, 'auto'),\n",
      "   (0.007502808, 'many'),\n",
      "   (0.007462304, 'question'),\n",
      "   (0.0068000844, 'find'),\n",
      "   (0.0067807827, 'their')],\n",
      "  -1.6258585782660822),\n",
      " ([(0.047499254, 'health'),\n",
      "   (0.02884378, 'care'),\n",
      "   (0.026057137, 'disability'),\n",
      "   (0.026022209, 'term'),\n",
      "   (0.023791455, 'long'),\n",
      "   (0.018547922, 'long_term'),\n",
      "   (0.01648582, 'benefit'),\n",
      "   (0.011322177, 'period'),\n",
      "   (0.011092854, 'plan'),\n",
      "   (0.01088838, 'group'),\n",
      "   (0.010788704, 'premium'),\n",
      "   (0.010006704, 'their'),\n",
      "   (0.009104127, 'year'),\n",
      "   (0.009025803, 'individual'),\n",
      "   (0.0087220045, 'qualify'),\n",
      "   (0.008701975, 'employer'),\n",
      "   (0.008677473, 'when'),\n",
      "   (0.008602606, 'coverage'),\n",
      "   (0.008316472, 'employee'),\n",
      "   (0.0076151066, 'income')],\n",
      "  -1.7598578763294337),\n",
      " ([(0.061937653, 'medicare'),\n",
      "   (0.05254399, 'cover'),\n",
      "   (0.025860807, 'coverage'),\n",
      "   (0.024658907, 'part'),\n",
      "   (0.019144941, 'renter'),\n",
      "   (0.01591726, 'damage'),\n",
      "   (0.014648288, 'property'),\n",
      "   (0.014119978, 'homeowner'),\n",
      "   (0.013676797, 'home'),\n",
      "   (0.012480358, 'deductible'),\n",
      "   (0.0123406835, 'plan'),\n",
      "   (0.010949498, 'medicare_part'),\n",
      "   (0.008975725, 'personal'),\n",
      "   (0.008937432, 'provide'),\n",
      "   (0.0081316475, 'loss'),\n",
      "   (0.007397514, 'there'),\n",
      "   (0.007185958, 'most'),\n",
      "   (0.007157672, 'under'),\n",
      "   (0.006917353, 'from'),\n",
      "   (0.006889715, 'other')],\n",
      "  -2.3022934185636736),\n",
      " ([(0.06392838, 'plan'),\n",
      "   (0.032373574, 'annuity'),\n",
      "   (0.023428453, 'retirement'),\n",
      "   (0.013514823, 'medigap'),\n",
      "   (0.010457887, 'income'),\n",
      "   (0.008814811, 'please'),\n",
      "   (0.0083389, 'what'),\n",
      "   (0.008196491, 'product'),\n",
      "   (0.007849567, 'medigap_plan'),\n",
      "   (0.0076112812, 'free'),\n",
      "   (0.0073126797, 'feel'),\n",
      "   (0.007276072, 'retirement_plan'),\n",
      "   (0.0068751574, 'question'),\n",
      "   (0.0065418575, 'benefit'),\n",
      "   (0.006433936, 'variable'),\n",
      "   (0.0063957674, 'rate'),\n",
      "   (0.0063319774, 'account'),\n",
      "   (0.006290932, 'money'),\n",
      "   (0.0061202995, 'from'),\n",
      "   (0.0059608086, 'there')],\n",
      "  -2.667890566273875)]\n"
     ]
    }
   ],
   "source": [
    "top_topics = lda_model.top_topics(corpus) #, num_words=20)\n",
    "\n",
    "# Average topic coherence is the sum of topic coherences of all topics, divided by the number of topics.\n",
    "avg_topic_coherence = sum([t[1] for t in top_topics]) / num_topics\n",
    "print('Average topic coherence: %.4f.' % avg_topic_coherence)\n",
    "\n",
    "from pprint import pprint\n",
    "pprint(top_topics)"
   ]
  },
  {
   "cell_type": "code",
   "execution_count": 22,
   "metadata": {},
   "outputs": [
    {
     "name": "stderr",
     "output_type": "stream",
     "text": [
      "C:\\Users\\tomdu\\anaconda3\\lib\\site-packages\\ipykernel\\ipkernel.py:287: DeprecationWarning: `should_run_async` will not call `transform_cell` automatically in the future. Please pass the result to `transformed_cell` argument and any exception that happen during thetransform in `preprocessing_exc_tuple` in IPython 7.17 and above.\n",
      "  and should_run_async(code)\n",
      "ERROR: Could not find a version that satisfies the requirement pyLDAvis.gensim (from versions: none)\n",
      "ERROR: No matching distribution found for pyLDAvis.gensim\n",
      "WARNING: You are using pip version 21.1; however, version 21.1.3 is available.\n",
      "You should consider upgrading via the 'c:\\users\\tomdu\\anaconda3\\python.exe -m pip install --upgrade pip' command.\n"
     ]
    }
   ],
   "source": [
    "!pip install pyLDAvis.gensim --user"
   ]
  },
  {
   "cell_type": "code",
   "execution_count": 23,
   "metadata": {},
   "outputs": [
    {
     "name": "stderr",
     "output_type": "stream",
     "text": [
      "C:\\Users\\tomdu\\anaconda3\\lib\\site-packages\\ipykernel\\ipkernel.py:287: DeprecationWarning: `should_run_async` will not call `transform_cell` automatically in the future. Please pass the result to `transformed_cell` argument and any exception that happen during thetransform in `preprocessing_exc_tuple` in IPython 7.17 and above.\n",
      "  and should_run_async(code)\n"
     ]
    }
   ],
   "source": [
    "import pyLDAvis.gensim_models"
   ]
  },
  {
   "cell_type": "code",
   "execution_count": 24,
   "metadata": {},
   "outputs": [
    {
     "name": "stderr",
     "output_type": "stream",
     "text": [
      "C:\\Users\\tomdu\\anaconda3\\lib\\site-packages\\ipykernel\\ipkernel.py:287: DeprecationWarning: `should_run_async` will not call `transform_cell` automatically in the future. Please pass the result to `transformed_cell` argument and any exception that happen during thetransform in `preprocessing_exc_tuple` in IPython 7.17 and above.\n",
      "  and should_run_async(code)\n"
     ]
    }
   ],
   "source": [
    "vis = pyLDAvis.gensim_models.prepare(lda_model, corpus, dictionary)"
   ]
  },
  {
   "cell_type": "code",
   "execution_count": 25,
   "metadata": {},
   "outputs": [
    {
     "name": "stderr",
     "output_type": "stream",
     "text": [
      "C:\\Users\\tomdu\\anaconda3\\lib\\site-packages\\ipykernel\\ipkernel.py:287: DeprecationWarning: `should_run_async` will not call `transform_cell` automatically in the future. Please pass the result to `transformed_cell` argument and any exception that happen during thetransform in `preprocessing_exc_tuple` in IPython 7.17 and above.\n",
      "  and should_run_async(code)\n"
     ]
    },
    {
     "data": {
      "text/html": [
       "\n",
       "<link rel=\"stylesheet\" type=\"text/css\" href=\"https://cdn.jsdelivr.net/gh/bmabey/pyLDAvis@3.3.1/pyLDAvis/js/ldavis.v1.0.0.css\">\n",
       "\n",
       "\n",
       "<div id=\"ldavis_el162201986911668144891454214\"></div>\n",
       "<script type=\"text/javascript\">\n",
       "\n",
       "var ldavis_el162201986911668144891454214_data = {\"mdsDat\": {\"x\": [-0.01659284729084393, 0.045590331843196524, -0.288615790589903, 0.1326839828651037, 0.12693432317244693], \"y\": [0.03123649390001909, -0.10052029659648382, 0.006529715305715989, -0.1704470637140491, 0.23320115110479786], \"topics\": [1, 2, 3, 4, 5], \"cluster\": [1, 1, 1, 1, 1], \"Freq\": [37.725679228128456, 18.00335572538492, 17.048726302040293, 14.826732682736893, 12.395506061709424]}, \"tinfo\": {\"Term\": [\"life\", \"medicare\", \"plan\", \"health\", \"cover\", \"term\", \"annuity\", \"care\", \"disability\", \"retirement\", \"long\", \"long_term\", \"renter\", \"part\", \"cash\", \"death\", \"coverage\", \"company\", \"value\", \"damage\", \"property\", \"homeowner\", \"benefit\", \"whole\", \"medigap\", \"good\", \"beneficiary\", \"medicare_part\", \"group\", \"home\", \"auto\", \"vehicle\", \"driver\", \"cheap\", \"record\", \"great_question\", \"drive\", \"discount\", \"tell\", \"critical_illness\", \"customer\", \"driving\", \"commissioner\", \"report\", \"fault\", \"pricing\", \"friend\", \"happy\", \"shall_able\", \"driving_record\", \"reputable\", \"contact_local\", \"estimate\", \"many_factor\", \"cancellation\", \"motor\", \"motor_vehicle\", \"uninsured\", \"score\", \"adjuster\", \"really\", \"accident\", \"rating\", \"shop\", \"agency\", \"deal\", \"student\", \"license\", \"insurer\", \"easy\", \"agent\", \"answer\", \"carrier\", \"company\", \"find\", \"expensive\", \"quote\", \"good\", \"factor\", \"great\", \"process\", \"state\", \"rate\", \"price\", \"insure\", \"claim\", \"look\", \"about\", \"they\", \"many\", \"question\", \"more\", \"make\", \"area\", \"this\", \"there\", \"much\", \"coverage\", \"cost\", \"help\", \"what\", \"need\", \"shall\", \"their\", \"some\", \"most\", \"premium\", \"when\", \"other\", \"disability\", \"long_term\", \"social\", \"social_security\", \"short_term\", \"eligible\", \"elimination\", \"elimination_period\", \"disabled\", \"medicaid\", \"occupation\", \"obamacare\", \"subsidy\", \"nursing_home\", \"waiting\", \"waiting_period\", \"affordable_care\", \"open_enrollment\", \"existing\", \"secondary\", \"citizen\", \"existing_condition\", \"cobra\", \"unable\", \"worker\", \"paycheck\", \"daily\", \"group\", \"voluntary\", \"pregnancy\", \"enrollment\", \"health\", \"care\", \"american\", \"qualify\", \"long\", \"employee\", \"federal\", \"short\", \"period\", \"security\", \"individual\", \"employer\", \"open\", \"term\", \"illness\", \"benefit\", \"month\", \"condition\", \"medical\", \"their\", \"income\", \"premium\", \"work\", \"year\", \"people\", \"when\", \"plan\", \"time\", \"coverage\", \"under\", \"need\", \"medicare_part\", \"doctor\", \"personal_property\", \"medicare_advantage\", \"prescription\", \"hospital\", \"fire\", \"peril\", \"exclusion\", \"prescription_drug\", \"roof\", \"landlord\", \"water\", \"network\", \"rental\", \"unit\", \"damage\", \"surgery\", \"original_medicare\", \"therapy\", \"theft\", \"apartment\", \"tenant\", \"leak\", \"copay\", \"policy_completely\", \"outpatient\", \"flood\", \"property\", \"inpatient\", \"medicare\", \"renter\", \"medicare_supplement\", \"cover\", \"coinsurance\", \"drug\", \"procedure\", \"deductible\", \"part\", \"supplement\", \"homeowner\", \"personal\", \"item\", \"advantage\", \"loss\", \"home\", \"coverage\", \"liability\", \"limit\", \"provide\", \"under\", \"plan\", \"cause\", \"most\", \"other\", \"from\", \"there\", \"this\", \"what\", \"some\", \"medical\", \"life\", \"cash\", \"death\", \"whole\", \"cash_value\", \"whole_life\", \"beneficiary\", \"loan\", \"death_benefit\", \"universal\", \"estate\", \"permanent\", \"universal_life\", \"debt\", \"borrow\", \"surrender\", \"proceeds\", \"face_amount\", \"funeral\", \"love\", \"final_expense\", \"insurable\", \"borrow_from\", \"creditor\", \"accidental_death\", \"insurable_interest\", \"ownership\", \"survivor\", \"certificate\", \"probate\", \"college\", \"face\", \"value\", \"pas\", \"exam\", \"final\", \"mortgage\", \"insured\", \"child\", \"term\", \"interest\", \"guarantee\", \"amount\", \"take\", \"money\", \"when\", \"benefit\", \"premium\", \"year\", \"what\", \"from\", \"person\", \"need\", \"there\", \"annuity\", \"retirement_plan\", \"retirement\", \"contribution\", \"very_much\", \"defer\", \"variable_annuity\", \"feel_free\", \"planner\", \"question_thanks\", \"hope_information\", \"search\", \"community\", \"profile\", \"helpful_please\", \"fixed\", \"withdrawal\", \"roth\", \"helpful\", \"aarp\", \"consult_with\", \"retirement_planner\", \"401k\", \"distribution\", \"tolerance\", \"halifax\", \"popular\", \"defer_annuity\", \"risk_tolerance\", \"suitable\", \"method\", \"variable\", \"plan\", \"medigap_plan\", \"please_feel\", \"investment\", \"medigap\", \"account\", \"feel\", \"product\", \"please\", \"free\", \"fund\", \"income\", \"assistance\", \"thanks\", \"qualified\", \"money\", \"financial\", \"question\", \"what\", \"rate\", \"benefit\", \"very\", \"from\", \"offer\", \"there\", \"much\", \"other\", \"good\"], \"Freq\": [12472.0, 7164.0, 8019.0, 6019.0, 6720.0, 5070.0, 2676.0, 3621.0, 3128.0, 1939.0, 3491.0, 2227.0, 2309.0, 3544.0, 1918.0, 1846.0, 7800.0, 7044.0, 2067.0, 1815.0, 1673.0, 2052.0, 3648.0, 1267.0, 1620.0, 4467.0, 1231.0, 1245.0, 1315.0, 2752.0, 1890.3586827418721, 1168.133713635546, 605.6352586036194, 613.5387701631105, 486.9222752085982, 615.452943051961, 449.43377815903955, 384.4233863678736, 330.9874411970067, 297.0449170633291, 224.18465049927482, 220.62300972599144, 194.0086499994172, 217.04788288105613, 186.81358916594718, 185.07327092283353, 191.34591959816692, 212.38304923235577, 170.73637604248947, 168.20887242919343, 168.3513620744109, 158.36852083761914, 241.28146042533618, 149.0999581840878, 144.5866927521839, 143.12693165657475, 142.97354772546257, 141.26191483996695, 141.58650305962936, 136.04337618209465, 568.3550122717961, 620.6089859945124, 462.9622848117072, 486.2557030546995, 416.64452547303694, 234.77025031747968, 201.93067013064342, 714.4880346924516, 469.58035849276246, 296.08223704738253, 3124.555228900303, 1197.6305198384387, 2160.127675781954, 6293.410138534419, 1710.6453711935394, 563.2475250443347, 887.2605732686696, 3921.8841163935635, 932.6276597344494, 1095.7888610086009, 430.0375856948895, 2469.2304294735895, 2568.4042768306645, 998.3398251086686, 555.9403292090072, 2097.96862903802, 1259.7942522967362, 1376.562722802404, 3335.801758113833, 1887.4241369789765, 1877.2349339530522, 2088.8916974590916, 1695.6668995168534, 772.0907513609114, 2944.029883052805, 3013.8650670667494, 1702.4329539146456, 3737.5047704822246, 1994.311255892391, 1408.2478747558318, 2684.1639130339067, 2177.3713389247337, 1561.652423011224, 1705.7897996845365, 1597.795563609926, 1585.2082119728482, 1595.6194007167353, 1457.3474841405828, 1380.4827914387677, 3128.1587111858926, 2226.6776488973715, 679.5985615959909, 597.6757218877171, 475.8425994150825, 435.5586634938815, 352.99576666124517, 332.4036148478571, 325.5354181319144, 309.9364330324388, 308.82212597449575, 267.0267786866125, 226.89643523226044, 205.04323196585077, 202.30860124876378, 192.57705801776524, 188.92551241760083, 186.5445077413398, 183.26073154655558, 176.69526152983158, 162.14162759826877, 157.5300661898439, 154.6279651788306, 151.41567446793465, 148.7226632564233, 146.05201309559055, 135.51882619776296, 1307.1497652428982, 124.40068818983892, 121.29067133448436, 635.513806085689, 5702.284378022454, 3462.6950112422246, 345.4493592782195, 1047.0764347779407, 2856.163586551621, 998.392290656177, 331.5029117265217, 701.9930420453903, 1359.227086999891, 711.5238808708914, 1083.5474202400474, 1044.671950998467, 396.1291992217379, 3123.965566962635, 561.0398236768553, 1979.1222582128207, 895.3522896158942, 856.9267247139679, 825.4286133122827, 1201.3046262976072, 914.1933755019517, 1295.1836961932402, 791.1215626269741, 1092.9502420504134, 731.0913095856178, 1041.730466586946, 1331.6968322358764, 812.0757678021625, 1032.7426658771756, 718.3918539763273, 770.475325022257, 1244.7862041189478, 720.7873495309195, 669.597254403741, 495.54246082968564, 471.79170720243206, 459.74975975945324, 433.80735698070646, 384.6153417991652, 418.35736863796296, 309.6856101056465, 299.33552051852695, 290.6573045468152, 279.96335367796803, 314.5540093023458, 267.95597500059125, 241.7735495828862, 1809.5428509346614, 230.8912968775206, 223.99363702624126, 221.12661318966434, 215.41412467392468, 210.2336139920825, 204.48232163991662, 201.1287543386275, 199.1079108873104, 194.62393701007625, 182.79190349941527, 179.86520486800694, 1665.2805630255798, 160.9507830105561, 7041.339711073348, 2176.479551308264, 562.1087746596896, 5973.427640114472, 292.3763462635269, 540.1066288373388, 268.39337840914715, 1418.8209340449737, 2803.331018301082, 650.0949650121103, 1605.2200591188516, 1020.3991290131437, 453.40906465993385, 626.0147228747385, 924.4407884029737, 1554.8373273059103, 2939.9681670680675, 726.265837149029, 677.256750557898, 1016.0458997130087, 813.7150734593339, 1402.9421712504786, 555.2101089790896, 816.9307097977193, 783.2525266515954, 786.3945256960261, 840.981306439322, 766.0092769759472, 739.3757106387004, 583.1193845253383, 566.1595140262104, 12471.286522423014, 1917.5051796253558, 1845.5612321644314, 1267.1671234857313, 1096.342189633518, 1006.429842137635, 1230.8214986702149, 845.3875135662097, 725.880766293567, 653.6575473341286, 573.5406499505676, 534.5277659417749, 502.39105633655413, 472.64311708608136, 449.69833466637414, 405.2946728296867, 387.26407434525674, 286.1421942977407, 245.8142573572704, 242.13099040518165, 190.9702681089596, 184.10943614305327, 161.3261464036812, 143.6266015836001, 137.8758001621709, 128.79713999021146, 110.8316979496114, 111.08273614010308, 128.62363117715097, 105.05302002103575, 228.63710354869025, 431.95897777436096, 1872.5635541453885, 375.3239286967446, 397.6764907206167, 206.361196164618, 378.1293964357739, 801.0257930970043, 526.9803455031988, 1944.2870677232127, 543.4636712342392, 563.5377489031474, 873.8631699512957, 871.7547760268067, 686.476091903575, 992.6615638978359, 943.2549092368779, 926.7616851589564, 867.815049812853, 912.1915027053232, 809.6230828484909, 635.4427014812427, 739.2040332731226, 719.4610207782688, 2675.8608290966586, 601.408936896257, 1936.4955113724673, 430.407647111319, 360.1596859156178, 349.03793337739484, 320.6307861837821, 287.7792488062701, 287.51638431539857, 274.9759641094416, 266.3686194481008, 262.15424291050783, 265.7430100426353, 253.4776362751831, 245.1897165219239, 219.41733407801792, 220.8032663698846, 214.6596195822452, 365.5394495320027, 233.26278150814818, 220.86182824452564, 198.44579368856708, 190.2620267008542, 182.63605050334712, 178.85608645220586, 178.4064320976254, 182.03284202528297, 163.39311501169743, 162.91782660617324, 148.83608210809024, 410.21886902523664, 531.801557547188, 5284.045916202603, 648.8115316722575, 221.09846209618073, 487.8210700826146, 1117.0773619248475, 523.3741131172455, 604.4347556363372, 677.4867971824983, 728.594474559023, 629.1158819055319, 454.6511085257366, 864.4041383338975, 395.46816624800135, 457.9274173612252, 322.71794063348517, 519.9814888133603, 464.05526418202913, 568.2710371478416, 689.2577532301335, 528.6467217819376, 540.7218993590915, 453.33869130489484, 505.8777186611444, 455.4993030912739, 492.6948883541709, 427.13788150204726, 434.706007881884, 436.05033295292446], \"Total\": [12472.0, 7164.0, 8019.0, 6019.0, 6720.0, 5070.0, 2676.0, 3621.0, 3128.0, 1939.0, 3491.0, 2227.0, 2309.0, 3544.0, 1918.0, 1846.0, 7800.0, 7044.0, 2067.0, 1815.0, 1673.0, 2052.0, 3648.0, 1267.0, 1620.0, 4467.0, 1231.0, 1245.0, 1315.0, 2752.0, 1891.173176756626, 1169.1256564812631, 606.4440127167444, 614.3978164734511, 487.7386175946111, 616.5445806864046, 450.2484132873997, 385.24395694657164, 331.87963349926343, 297.8690261678056, 224.99966277715868, 221.43136381866114, 194.8246544443084, 217.97219311082904, 187.62544303054602, 185.89097103765442, 192.21018757472595, 213.3874918292309, 171.55563637533655, 169.0169931285437, 169.18489905778574, 159.18242253636257, 242.56456298358125, 149.92582866394739, 145.39853507097592, 143.9494325956355, 143.7961626467524, 142.08724683341705, 142.4311437340961, 136.85743902189537, 572.1074954961455, 626.2872051679558, 465.85487940509677, 489.79524051197126, 419.3540153173204, 236.4118764065002, 203.23240007546462, 728.3637304164209, 479.2019743928773, 299.34945386857027, 3333.69635799789, 1253.5273864699202, 2331.0887862600907, 7044.513129946593, 1855.0570264707621, 587.5407376167252, 943.2542620078059, 4467.717830144656, 1013.9454835105554, 1208.2880063703772, 447.8352763693372, 2950.5370992395415, 3160.536393294317, 1140.4085077806726, 595.4886900043848, 2611.7788150431884, 1485.7684223257893, 1683.9592889533822, 4881.433138359782, 2481.5643361669754, 2470.7431217032863, 3007.3867261686346, 2352.9138081966403, 881.8725418437615, 5042.666130552539, 5501.284213992582, 2571.4853191960365, 7800.512738827406, 3432.8191578349556, 2070.3646897010444, 5581.928245616725, 4556.543405847572, 2678.8865441775224, 3556.031882827533, 3441.3121641398257, 3580.93673613889, 4220.3630835149925, 4035.4165342893702, 3307.136246991542, 3128.9666922789793, 2227.4876738403095, 680.4763297711371, 598.5262279772386, 476.65695643982644, 436.37391497190634, 353.80144814088425, 333.2091581179255, 326.34267261788233, 310.7499170101901, 309.6422869048651, 267.8349210306389, 227.72407679175174, 205.85496928635436, 203.12325213555383, 193.38919085510292, 189.73287166602591, 187.37204679642448, 184.07540480156678, 177.5268892962581, 162.96428716353194, 158.34521039649354, 155.43631310354877, 152.2322248443227, 149.53527307731406, 146.8590359795852, 136.37055366889993, 1315.6525467511879, 125.2127909590883, 122.09708670398393, 643.0013767989514, 6019.789661245862, 3621.028813553401, 352.17725642031485, 1176.4258432803495, 3491.04372688844, 1134.8373228956173, 351.35164996957354, 805.5118312250256, 1772.5802002989099, 849.9864427335767, 1411.4632475627839, 1354.0390414865778, 445.9965171553152, 5070.734796752466, 690.3655247133473, 3648.5666648140104, 1374.6256654931028, 1336.8928880919925, 1797.0847959734265, 3556.031882827533, 2200.7231385887903, 4220.3630835149925, 1758.3279216952913, 3702.428107075109, 1610.1925611271106, 4035.4165342893702, 8019.103901208813, 2464.8752869498044, 7800.512738827406, 1867.6894897350821, 4556.543405847572, 1245.602101575917, 721.6407484869026, 670.4109491326425, 496.35543780000785, 472.6160654191185, 460.5729469828782, 434.62012276759174, 385.42558848448425, 419.4412100511665, 310.5040244094481, 300.1497310778558, 291.4679815140639, 280.7737712124842, 315.5397459747635, 268.82915123991467, 242.59657761195808, 1815.8922909854666, 231.7095141882167, 224.80517985188192, 221.94194358776411, 216.22561593024557, 211.0452495693169, 205.29242328053118, 201.94147284447942, 199.9234369721558, 195.4334965370018, 183.60490795532476, 180.68051771373564, 1673.4440096199096, 161.76420778687444, 7164.211992884136, 2309.740941935927, 578.5087769304208, 6720.500389998103, 297.65178091671993, 582.0787776331406, 274.6279224540243, 1673.8318617625732, 3544.420903682291, 735.565116282642, 2052.2255469670395, 1368.5101742150455, 519.4436482865489, 794.0631120707312, 1328.1878695896585, 2752.930466336629, 7800.512738827406, 1107.3422926569042, 1219.961592370509, 2581.583105775416, 1867.6894897350821, 8019.103901208813, 942.6599225958656, 3580.93673613889, 3307.136246991542, 3934.0000425824483, 5501.284213992582, 5042.666130552539, 5581.928245616725, 3441.3121641398257, 1797.0847959734265, 12472.348712081332, 1918.3222105540217, 1846.3749025739965, 1267.9829032997493, 1097.1535819250817, 1007.2414039461352, 1231.853843815822, 846.2018321047268, 726.6933324257473, 654.4706449057875, 574.3577773836851, 535.3455445654901, 503.20326111431285, 473.46209713532977, 450.51301345972405, 406.1093139547143, 388.0751667773811, 286.95408376732325, 246.6300703513586, 243.00755487225442, 191.78361108833832, 184.92720162050747, 162.1372399430678, 144.43845711844895, 138.69010261587994, 129.61076961105803, 111.65101080442517, 111.9340356514883, 129.61272150408115, 105.86429287349871, 233.33788892146825, 447.1385401083053, 2067.616809627812, 407.08937891230346, 480.3796758918284, 226.794293444374, 481.5499147632572, 1274.7584147874547, 821.9823929264836, 5070.734796752466, 882.5587501167829, 974.26979138184, 2155.6757880429705, 2226.516412843329, 1489.156086592133, 4035.4165342893702, 3648.5666648140104, 4220.3630835149925, 3702.428107075109, 5581.928245616725, 3934.0000425824483, 1797.124795065249, 4556.543405847572, 5501.284213992582, 2676.668002253363, 602.2062544330158, 1939.9896044489465, 431.2065982239049, 360.9709107437059, 349.8385601813408, 321.427615073235, 288.58445290837176, 288.32449722399406, 275.77893571034787, 267.1702812248088, 262.971940455233, 266.57964088394823, 254.28984765992718, 245.99131405112246, 220.21595232563593, 221.61459505365542, 215.45710573237517, 366.9485295222736, 234.18685275226457, 221.74214226533, 199.24201771116068, 191.06227510796128, 183.4358735989348, 179.65437605536164, 179.20397010587675, 182.8648007425012, 164.19065611869325, 163.7157487735707, 149.64307729152588, 412.6151030142384, 557.1396469402052, 8019.103901208813, 812.5189366132092, 230.31995860388918, 588.0105860158571, 1620.418086240055, 669.852223401519, 805.9121713096133, 1052.4547028734562, 1238.7671244864327, 1196.1443971120475, 734.0587354595373, 2200.7231385887903, 593.6143617806433, 949.1850125105609, 450.53222497470034, 1489.156086592133, 1130.7330660981304, 2470.7431217032863, 5581.928245616725, 3160.536393294317, 3648.5666648140104, 1795.6189950042742, 3934.0000425824483, 2289.4830837147056, 5501.284213992582, 2571.4853191960365, 3307.136246991542, 4467.717830144656], \"Category\": [\"Default\", \"Default\", \"Default\", \"Default\", \"Default\", \"Default\", \"Default\", \"Default\", \"Default\", \"Default\", \"Default\", \"Default\", \"Default\", \"Default\", \"Default\", \"Default\", \"Default\", \"Default\", \"Default\", \"Default\", \"Default\", \"Default\", \"Default\", \"Default\", \"Default\", \"Default\", \"Default\", \"Default\", \"Default\", \"Default\", \"Topic1\", \"Topic1\", \"Topic1\", \"Topic1\", \"Topic1\", \"Topic1\", \"Topic1\", \"Topic1\", \"Topic1\", \"Topic1\", \"Topic1\", \"Topic1\", \"Topic1\", \"Topic1\", \"Topic1\", \"Topic1\", \"Topic1\", \"Topic1\", \"Topic1\", \"Topic1\", \"Topic1\", \"Topic1\", \"Topic1\", \"Topic1\", \"Topic1\", \"Topic1\", \"Topic1\", \"Topic1\", \"Topic1\", \"Topic1\", \"Topic1\", \"Topic1\", \"Topic1\", \"Topic1\", \"Topic1\", \"Topic1\", \"Topic1\", \"Topic1\", \"Topic1\", \"Topic1\", \"Topic1\", \"Topic1\", \"Topic1\", \"Topic1\", \"Topic1\", \"Topic1\", \"Topic1\", \"Topic1\", \"Topic1\", \"Topic1\", \"Topic1\", \"Topic1\", \"Topic1\", \"Topic1\", \"Topic1\", \"Topic1\", \"Topic1\", \"Topic1\", \"Topic1\", \"Topic1\", \"Topic1\", \"Topic1\", \"Topic1\", \"Topic1\", \"Topic1\", \"Topic1\", \"Topic1\", \"Topic1\", \"Topic1\", \"Topic1\", \"Topic1\", \"Topic1\", \"Topic1\", \"Topic1\", \"Topic1\", \"Topic1\", \"Topic1\", \"Topic1\", \"Topic1\", \"Topic2\", \"Topic2\", \"Topic2\", \"Topic2\", \"Topic2\", \"Topic2\", \"Topic2\", \"Topic2\", \"Topic2\", \"Topic2\", \"Topic2\", \"Topic2\", \"Topic2\", \"Topic2\", \"Topic2\", \"Topic2\", \"Topic2\", \"Topic2\", \"Topic2\", \"Topic2\", \"Topic2\", \"Topic2\", \"Topic2\", \"Topic2\", \"Topic2\", \"Topic2\", \"Topic2\", \"Topic2\", \"Topic2\", \"Topic2\", \"Topic2\", \"Topic2\", \"Topic2\", \"Topic2\", \"Topic2\", \"Topic2\", \"Topic2\", \"Topic2\", \"Topic2\", \"Topic2\", \"Topic2\", \"Topic2\", \"Topic2\", \"Topic2\", \"Topic2\", \"Topic2\", \"Topic2\", \"Topic2\", \"Topic2\", \"Topic2\", \"Topic2\", \"Topic2\", \"Topic2\", \"Topic2\", \"Topic2\", \"Topic2\", \"Topic2\", \"Topic2\", \"Topic2\", \"Topic2\", \"Topic2\", \"Topic2\", \"Topic3\", \"Topic3\", \"Topic3\", \"Topic3\", \"Topic3\", \"Topic3\", \"Topic3\", \"Topic3\", \"Topic3\", \"Topic3\", \"Topic3\", \"Topic3\", \"Topic3\", \"Topic3\", \"Topic3\", \"Topic3\", \"Topic3\", \"Topic3\", \"Topic3\", \"Topic3\", \"Topic3\", \"Topic3\", \"Topic3\", \"Topic3\", \"Topic3\", \"Topic3\", \"Topic3\", \"Topic3\", \"Topic3\", \"Topic3\", \"Topic3\", \"Topic3\", \"Topic3\", \"Topic3\", \"Topic3\", \"Topic3\", \"Topic3\", \"Topic3\", \"Topic3\", \"Topic3\", \"Topic3\", \"Topic3\", \"Topic3\", \"Topic3\", \"Topic3\", \"Topic3\", \"Topic3\", \"Topic3\", \"Topic3\", \"Topic3\", \"Topic3\", \"Topic3\", \"Topic3\", \"Topic3\", \"Topic3\", \"Topic3\", \"Topic3\", \"Topic3\", \"Topic3\", \"Topic3\", \"Topic3\", \"Topic4\", \"Topic4\", \"Topic4\", \"Topic4\", \"Topic4\", \"Topic4\", \"Topic4\", \"Topic4\", \"Topic4\", \"Topic4\", \"Topic4\", \"Topic4\", \"Topic4\", \"Topic4\", \"Topic4\", \"Topic4\", \"Topic4\", \"Topic4\", \"Topic4\", \"Topic4\", \"Topic4\", \"Topic4\", \"Topic4\", \"Topic4\", \"Topic4\", \"Topic4\", \"Topic4\", \"Topic4\", \"Topic4\", \"Topic4\", \"Topic4\", \"Topic4\", \"Topic4\", \"Topic4\", \"Topic4\", \"Topic4\", \"Topic4\", \"Topic4\", \"Topic4\", \"Topic4\", \"Topic4\", \"Topic4\", \"Topic4\", \"Topic4\", \"Topic4\", \"Topic4\", \"Topic4\", \"Topic4\", \"Topic4\", \"Topic4\", \"Topic4\", \"Topic4\", \"Topic4\", \"Topic4\", \"Topic5\", \"Topic5\", \"Topic5\", \"Topic5\", \"Topic5\", \"Topic5\", \"Topic5\", \"Topic5\", \"Topic5\", \"Topic5\", \"Topic5\", \"Topic5\", \"Topic5\", \"Topic5\", \"Topic5\", \"Topic5\", \"Topic5\", \"Topic5\", \"Topic5\", \"Topic5\", \"Topic5\", \"Topic5\", \"Topic5\", \"Topic5\", \"Topic5\", \"Topic5\", \"Topic5\", \"Topic5\", \"Topic5\", \"Topic5\", \"Topic5\", \"Topic5\", \"Topic5\", \"Topic5\", \"Topic5\", \"Topic5\", \"Topic5\", \"Topic5\", \"Topic5\", \"Topic5\", \"Topic5\", \"Topic5\", \"Topic5\", \"Topic5\", \"Topic5\", \"Topic5\", \"Topic5\", \"Topic5\", \"Topic5\", \"Topic5\", \"Topic5\", \"Topic5\", \"Topic5\", \"Topic5\", \"Topic5\", \"Topic5\", \"Topic5\", \"Topic5\", \"Topic5\", \"Topic5\"], \"logprob\": [30.0, 29.0, 28.0, 27.0, 26.0, 25.0, 24.0, 23.0, 22.0, 21.0, 20.0, 19.0, 18.0, 17.0, 16.0, 15.0, 14.0, 13.0, 12.0, 11.0, 10.0, 9.0, 8.0, 7.0, 6.0, 5.0, 4.0, 3.0, 2.0, 1.0, -4.8909, -5.3723, -6.0292, -6.0162, -6.2473, -6.0131, -6.3275, -6.4837, -6.6334, -6.7416, -7.023, -7.039, -7.1675, -7.0553, -7.2053, -7.2147, -7.1814, -7.0771, -7.2953, -7.3102, -7.3094, -7.3705, -6.9495, -7.4308, -7.4616, -7.4717, -7.4728, -7.4848, -7.4825, -7.5225, -6.0927, -6.0047, -6.2978, -6.2487, -6.4032, -6.9768, -7.1275, -5.8639, -6.2836, -6.7448, -4.3884, -5.3473, -4.7575, -3.6882, -4.9908, -6.1017, -5.6473, -4.1611, -5.5974, -5.4362, -6.3716, -4.6238, -4.5844, -5.5294, -6.1148, -4.7867, -5.2967, -5.2081, -4.323, -4.8925, -4.8979, -4.7911, -4.9996, -5.7863, -4.4479, -4.4245, -4.9956, -4.2093, -4.8374, -5.1853, -4.5403, -4.7496, -5.0819, -4.9937, -5.0591, -5.067, -5.0604, -5.1511, -5.2053, -3.6475, -3.9874, -5.1742, -5.3026, -5.5306, -5.619, -5.8292, -5.8893, -5.9102, -5.9593, -5.9629, -6.1083, -6.2712, -6.3724, -6.3859, -6.4352, -6.4543, -6.467, -6.4848, -6.5212, -6.6072, -6.636, -6.6546, -6.6756, -6.6936, -6.7117, -6.7866, -4.5201, -6.8722, -6.8975, -5.2412, -3.047, -3.5459, -5.8508, -4.7419, -3.7384, -4.7895, -5.892, -5.1417, -4.481, -5.1283, -4.7077, -4.7442, -5.7139, -3.6488, -5.3659, -4.1053, -4.8984, -4.9423, -4.9798, -4.6045, -4.8776, -4.5293, -5.0222, -4.699, -5.1011, -4.747, -4.5015, -4.9961, -4.7557, -5.1186, -5.0487, -4.5145, -5.0608, -5.1345, -5.4355, -5.4846, -5.5105, -5.5686, -5.6889, -5.6048, -5.9056, -5.9396, -5.969, -6.0065, -5.89, -6.0504, -6.1532, -4.1404, -6.1992, -6.2296, -6.2424, -6.2686, -6.293, -6.3207, -6.3372, -6.3473, -6.3701, -6.4328, -6.449, -4.2234, -6.5601, -2.7816, -3.9557, -5.3095, -2.9461, -5.9631, -5.3494, -6.0487, -4.3836, -3.7026, -5.1641, -4.2602, -4.7132, -5.5244, -5.2018, -4.812, -4.2921, -3.655, -5.0533, -5.1231, -4.7175, -4.9396, -4.3949, -5.3218, -4.9356, -4.9777, -4.9737, -4.9066, -5.0, -5.0354, -5.2728, -5.3023, -2.0704, -3.9428, -3.981, -4.357, -4.5018, -4.5874, -4.3861, -4.7617, -4.9142, -5.019, -5.1497, -5.2202, -5.2822, -5.3432, -5.393, -5.4969, -5.5424, -5.845, -5.997, -6.0121, -6.2494, -6.286, -6.4181, -6.5343, -6.5752, -6.6433, -6.7935, -6.7913, -6.6446, -6.8471, -6.0694, -5.4332, -3.9665, -5.5737, -5.5159, -6.1719, -5.5663, -4.8156, -5.2344, -3.9289, -5.2036, -5.1673, -4.7286, -4.731, -4.97, -4.6011, -4.6522, -4.6698, -4.7356, -4.6857, -4.805, -5.0472, -4.896, -4.923, -3.4304, -4.9232, -3.7538, -5.2577, -5.4359, -5.4673, -5.5521, -5.6602, -5.6612, -5.7058, -5.7376, -5.7535, -5.7399, -5.7872, -5.8204, -5.9315, -5.9252, -5.9534, -5.4211, -5.8703, -5.9249, -6.0319, -6.074, -6.1149, -6.1359, -6.1384, -6.1183, -6.2263, -6.2292, -6.3196, -5.3057, -5.0462, -2.75, -4.8473, -5.9238, -5.1325, -4.304, -5.0621, -4.9181, -4.804, -4.7313, -4.8781, -5.2029, -4.5604, -5.3424, -5.1957, -5.5457, -5.0686, -5.1824, -4.9798, -4.7868, -5.0521, -5.0295, -5.2058, -5.0961, -5.201, -5.1225, -5.2653, -5.2478, -5.2447], \"loglift\": [30.0, 29.0, 28.0, 27.0, 26.0, 25.0, 24.0, 23.0, 22.0, 21.0, 20.0, 19.0, 18.0, 17.0, 16.0, 15.0, 14.0, 13.0, 12.0, 11.0, 10.0, 9.0, 8.0, 7.0, 6.0, 5.0, 4.0, 3.0, 2.0, 1.0, 0.9744, 0.974, 0.9735, 0.9734, 0.9732, 0.9731, 0.973, 0.9727, 0.9721, 0.9721, 0.9712, 0.9712, 0.9706, 0.9706, 0.9705, 0.9704, 0.9703, 0.9701, 0.97, 0.97, 0.9699, 0.9697, 0.9695, 0.9693, 0.9692, 0.9691, 0.9691, 0.969, 0.9689, 0.9689, 0.9682, 0.9657, 0.9686, 0.9676, 0.9683, 0.9679, 0.9684, 0.9556, 0.9545, 0.9639, 0.91, 0.9292, 0.8987, 0.8621, 0.8938, 0.9326, 0.9136, 0.8445, 0.8912, 0.8771, 0.9343, 0.7967, 0.7674, 0.8418, 0.9061, 0.7558, 0.8098, 0.7733, 0.5941, 0.7012, 0.7001, 0.6104, 0.6473, 0.8419, 0.4367, 0.3731, 0.5624, 0.2391, 0.4317, 0.5895, 0.2427, 0.2364, 0.4352, 0.2402, 0.2076, 0.1599, 0.0022, -0.0437, 0.1012, 1.7144, 1.7142, 1.7133, 1.7132, 1.7129, 1.7127, 1.7123, 1.7122, 1.7121, 1.712, 1.712, 1.7116, 1.711, 1.7107, 1.7106, 1.7104, 1.7103, 1.7102, 1.7102, 1.7099, 1.7096, 1.7095, 1.7094, 1.7092, 1.7092, 1.7091, 1.7083, 1.7081, 1.7081, 1.708, 1.7029, 1.6604, 1.6699, 1.6953, 1.5981, 1.5139, 1.5865, 1.6565, 1.5771, 1.4491, 1.5368, 1.4502, 1.4552, 1.596, 1.2302, 1.5072, 1.1029, 1.2859, 1.2699, 0.9366, 0.6294, 0.8361, 0.5333, 0.9159, 0.4945, 0.925, 0.3604, -0.0808, 0.6043, -0.3074, 0.7592, -0.0627, 1.7684, 1.7679, 1.7679, 1.7675, 1.7673, 1.7673, 1.7672, 1.767, 1.7665, 1.7665, 1.7664, 1.7663, 1.7662, 1.766, 1.7658, 1.7657, 1.7656, 1.7656, 1.7655, 1.7654, 1.7653, 1.7652, 1.7651, 1.7651, 1.765, 1.7649, 1.7647, 1.7646, 1.7642, 1.7641, 1.7518, 1.7097, 1.7403, 1.6513, 1.7512, 1.6943, 1.7461, 1.6038, 1.5345, 1.6456, 1.5234, 1.4756, 1.6331, 1.5313, 1.4067, 1.1978, 0.7933, 1.3473, 1.1806, 0.8366, 0.9382, 0.0258, 1.2397, 0.2913, 0.3287, 0.1591, -0.1091, -0.1154, -0.2524, -0.0061, 0.614, 1.9087, 1.9083, 1.9083, 1.9081, 1.908, 1.9079, 1.9079, 1.9078, 1.9076, 1.9075, 1.9073, 1.9072, 1.9071, 1.907, 1.9069, 1.9067, 1.9066, 1.9059, 1.9054, 1.9051, 1.9045, 1.9043, 1.9037, 1.9031, 1.9028, 1.9024, 1.9014, 1.9011, 1.9011, 1.901, 1.8884, 1.8742, 1.8097, 1.8275, 1.7198, 1.8143, 1.667, 1.4441, 1.4642, 0.9501, 1.4239, 1.3613, 1.0058, 0.9711, 1.1343, 0.5063, 0.556, 0.3928, 0.458, 0.0973, 0.3279, 0.8691, 0.09, -0.1255, 2.0875, 2.0865, 2.086, 2.086, 2.0856, 2.0855, 2.0854, 2.085, 2.085, 2.0849, 2.0848, 2.0847, 2.0847, 2.0846, 2.0846, 2.0842, 2.0842, 2.0841, 2.084, 2.0839, 2.0839, 2.0838, 2.0836, 2.0835, 2.0834, 2.0834, 2.0833, 2.083, 2.083, 2.0824, 2.082, 2.0413, 1.6707, 1.8628, 2.047, 1.901, 1.7159, 1.8411, 1.8002, 1.6473, 1.5571, 1.4453, 1.6088, 1.1533, 1.6817, 1.3589, 1.7542, 1.0357, 1.1972, 0.6182, -0.0038, 0.2997, 0.1787, 0.7114, 0.0367, 0.4731, -0.325, 0.2927, 0.0587, -0.239]}, \"token.table\": {\"Topic\": [5, 5, 1, 2, 3, 4, 5, 1, 3, 4, 4, 5, 1, 2, 3, 4, 5, 2, 1, 2, 1, 3, 5, 1, 2, 1, 2, 3, 4, 5, 5, 1, 2, 3, 4, 5, 3, 1, 2, 3, 5, 2, 3, 5, 1, 4, 2, 3, 4, 5, 4, 4, 1, 2, 3, 1, 2, 3, 5, 4, 4, 1, 2, 3, 4, 4, 1, 1, 2, 4, 2, 1, 3, 2, 3, 5, 4, 5, 1, 5, 1, 2, 3, 4, 5, 1, 2, 3, 4, 5, 1, 5, 3, 1, 2, 3, 4, 5, 1, 2, 3, 4, 1, 2, 3, 4, 5, 4, 1, 1, 2, 1, 3, 1, 4, 4, 4, 4, 1, 2, 3, 5, 5, 5, 2, 2, 1, 5, 3, 1, 1, 1, 1, 3, 4, 1, 5, 2, 2, 2, 2, 5, 2, 5, 2, 5, 4, 1, 3, 1, 3, 4, 3, 2, 2, 1, 2, 3, 4, 5, 1, 4, 4, 1, 2, 5, 1, 2, 4, 5, 1, 2, 3, 5, 5, 1, 4, 4, 1, 2, 3, 4, 5, 1, 2, 3, 4, 5, 3, 5, 3, 1, 2, 3, 4, 5, 1, 1, 2, 3, 4, 5, 2, 4, 5, 4, 1, 2, 3, 4, 5, 1, 2, 4, 5, 1, 2, 5, 1, 2, 4, 5, 5, 1, 1, 2, 3, 5, 1, 2, 3, 4, 5, 2, 5, 5, 1, 2, 3, 1, 3, 5, 3, 1, 2, 2, 4, 5, 1, 2, 3, 5, 3, 4, 4, 1, 3, 4, 1, 2, 3, 4, 1, 2, 4, 4, 5, 4, 5, 3, 4, 3, 3, 1, 3, 4, 1, 5, 4, 1, 2, 3, 4, 5, 4, 1, 2, 4, 5, 2, 1, 2, 3, 4, 5, 1, 3, 4, 5, 4, 1, 2, 3, 4, 5, 1, 2, 3, 4, 5, 1, 2, 1, 2, 3, 4, 2, 3, 3, 3, 3, 5, 3, 5, 3, 5, 4, 5, 1, 2, 3, 4, 5, 1, 2, 3, 5, 1, 2, 3, 4, 5, 1, 3, 4, 1, 2, 3, 4, 5, 1, 1, 1, 2, 3, 4, 5, 1, 2, 3, 4, 5, 3, 2, 2, 2, 1, 2, 3, 4, 5, 1, 2, 5, 2, 3, 1, 2, 3, 4, 5, 3, 4, 1, 2, 3, 4, 5, 1, 2, 4, 2, 1, 2, 3, 4, 5, 3, 1, 2, 4, 5, 4, 1, 2, 3, 4, 1, 2, 3, 5, 3, 2, 3, 5, 5, 1, 3, 5, 1, 5, 3, 5, 2, 1, 2, 3, 4, 5, 3, 3, 1, 2, 4, 5, 1, 4, 1, 3, 4, 1, 4, 5, 1, 2, 4, 5, 5, 1, 3, 1, 2, 3, 4, 5, 2, 5, 1, 2, 5, 1, 2, 3, 4, 5, 5, 1, 5, 1, 4, 5, 1, 5, 1, 2, 3, 5, 1, 3, 1, 3, 1, 1, 2, 5, 5, 5, 5, 3, 5, 1, 5, 2, 2, 5, 1, 2, 3, 4, 5, 1, 1, 5, 1, 2, 4, 5, 2, 2, 2, 1, 2, 3, 4, 5, 1, 2, 3, 4, 5, 1, 4, 2, 5, 3, 5, 3, 4, 4, 1, 2, 3, 4, 5, 1, 3, 1, 2, 4, 1, 5, 3, 1, 2, 3, 4, 5, 3, 1, 2, 3, 4, 5, 1, 2, 3, 4, 5, 1, 2, 3, 4, 5, 1, 2, 3, 4, 5, 5, 2, 1, 2, 3, 4, 5, 1, 3, 4, 4, 1, 3, 4, 5, 4, 5, 5, 1, 1, 2, 3, 4, 5, 5, 2, 2, 2, 3, 1, 2, 3, 4, 5, 1, 2, 3, 4, 5, 4, 4, 5, 1, 2, 3, 4, 5, 2, 1, 2, 3, 4, 5], \"Freq\": [0.994440162992087, 0.9949320265492441, 0.8177157304413433, 0.04988244107267454, 0.1027340750663416, 0.020784350446947725, 0.008907578762977595, 0.9915578585602146, 0.007983557637360826, 0.9950241394096357, 0.2179585211475599, 0.7807692230148892, 0.9937348014983811, 0.026446260606712863, 0.7883504352286786, 0.052892521213425726, 0.1322313030335643, 0.9961373500564734, 0.994386567836869, 0.004769240133510163, 0.9373979104314029, 0.052494282984158556, 0.009898921934155614, 0.017036875296794148, 0.9796203295656635, 0.3409603633704443, 0.08396438880278968, 0.1428786284599957, 0.40544130283777996, 0.026905715748960227, 0.9997504351481766, 0.9557030926733147, 0.014359478854857815, 0.01196623237904818, 0.009572985903238544, 0.008775237077968664, 0.9950472726988646, 0.8754099525379856, 0.0011339507157227793, 0.10772531799366404, 0.01587531002011891, 0.2577430902127292, 0.075806791239038, 0.6654151675426668, 0.9993796566221197, 0.9993068627255509, 0.5424047802346738, 0.050704843023453586, 0.2584576593033337, 0.14827740581453183, 0.9988612682777256, 0.9929859423814841, 0.9972590159124961, 0.9563580347767728, 0.04363400793956977, 0.9266056328405324, 0.001715936357112097, 0.03388974305296392, 0.03775059985646614, 0.9998320352273206, 0.9989485684191474, 0.16442833336243481, 0.030764010758132967, 0.5887595162332344, 0.21640890326410778, 0.9952726746497499, 0.9993525099491164, 0.027981134630041975, 0.33090733127701816, 0.6411329543492227, 0.9940828313962783, 0.8032839488229433, 0.19641785783897517, 0.9971929783019358, 0.9810121044822465, 0.01679815247401107, 0.981409410441147, 0.017142522453120472, 0.9957671966791855, 0.9978256370890658, 0.8933193655709333, 0.0014195445186253508, 0.0011356356149002807, 0.05919500642667713, 0.044857606788561086, 0.15633264404471764, 0.6410386408914976, 0.2019608320194917, 0.0007480030815536729, 0.9966531293612111, 0.992571902616368, 0.9972018094600714, 0.99538104693406, 0.5808636890903381, 0.19604877771203488, 0.15351813648475837, 0.054182871700502955, 0.015439205377025035, 0.029015696552925137, 0.07871437680255076, 0.8887731051826762, 0.0034223642088065547, 0.4791992687088293, 0.13242719223547905, 0.3768983012316635, 0.01140950639782927, 0.00025639340219841053, 0.9969644018137815, 0.9970825225469532, 0.9955570476647836, 0.9972827442660414, 0.0033041607312203855, 0.9967551539181495, 0.994027895603381, 0.0042299059387377914, 0.9997969520851514, 0.9990459078199702, 0.9990240039527437, 0.004182021002174545, 0.06273031503261817, 0.847755400297954, 0.08543271475870855, 0.9976030081392224, 0.9927483320498304, 0.9996910506329886, 0.9989499607417766, 0.9967709890729209, 0.9976238366553765, 0.9991120949194651, 0.997227278874156, 0.9992678421957613, 0.9980519299017894, 0.9939828942065592, 0.9277094797988649, 0.07043720124398789, 0.9888108903314022, 0.01002173199660205, 0.9991431317063706, 0.9977347516662365, 0.9963711738154041, 0.8794211997306651, 0.11984096509355759, 0.7717650436819836, 0.22820612296433773, 0.9891114124299294, 0.010886446363222493, 0.9993770827213052, 0.9935499111480387, 0.00412261373920348, 0.004163373473881853, 0.1665349389552741, 0.8285113213024886, 0.9965639760313711, 0.9941578028703723, 0.9978198873484765, 0.9582314279750691, 0.005106028923490599, 0.015318086770471797, 0.020424115693962398, 0.001702009641163533, 0.03354664976176449, 0.9661435131388172, 0.9966751343810919, 0.9201678149102257, 0.014793694773476296, 0.06509225700329571, 0.9966665340241504, 0.9449222738209729, 0.051230725689088895, 0.0056923028543432105, 0.23699853011231184, 0.0062041500029401, 0.0062041500029401, 0.7494613203551641, 0.9979747595461862, 0.08818564037152643, 0.9083120958267222, 0.9959140873201237, 0.2670833718891095, 0.027415842809809254, 0.0008843820261228791, 0.29449921469891877, 0.4103532601210159, 0.9223436129374254, 0.0010781339718730863, 0.0032344019156192593, 0.0005390669859365432, 0.07277404310143333, 0.9985731844083912, 0.9944783640204327, 0.9962335855445476, 0.1713839905072906, 0.1931204966204104, 0.021736506113119784, 0.08778204391836836, 0.525856244044321, 0.9937038322994433, 0.3362989287441709, 0.12938484862493044, 0.19979664247386117, 0.20589730331275768, 0.12862226602006838, 0.08854877254380542, 0.2915298049903748, 0.619841407806638, 0.9974452817109407, 0.877853111836522, 0.007162493518299007, 0.00022382792244684396, 0.01701092210596014, 0.09758897418682397, 0.9070685086847106, 0.005793320767146874, 0.039725628117578564, 0.04717418338962454, 0.9974947785857026, 0.9934233800766364, 0.006080632777821799, 0.011290507103169365, 0.02463383367964225, 0.5788950914715929, 0.3859300609810619, 0.9932815656641679, 0.9934977827550395, 0.05016786582166025, 0.9472091752155852, 0.001827306370987625, 0.0006644750439955, 0.6800734223318462, 0.08694120455946897, 0.053613742811672534, 0.003864053535976399, 0.17484842250293203, 0.00272517783707129, 0.9974150883680922, 0.9959701257951066, 0.333462835776451, 0.10134654812813708, 0.5648526248718752, 0.21732504044652318, 0.7820777800822191, 0.9956197178090177, 0.9987560125130417, 0.18685753471476318, 0.8126129998060632, 0.415318030684269, 0.191755152022715, 0.39259822594224114, 0.11477450814233406, 0.7679973260882106, 0.0007084846181625559, 0.11689996199682172, 0.9952757918619347, 0.994986126365497, 0.995287663109394, 0.9336869185473631, 0.0016792930189700776, 0.06381313472086295, 0.14198768794178057, 0.04000758058028071, 0.18983989216525357, 0.628354353819703, 0.9807972944925035, 0.016694422033914955, 0.004173605508478739, 0.6152564913419628, 0.38297733715208737, 0.17006496545846753, 0.8299170314373215, 0.8720868981539736, 0.12513388163357236, 0.9983943982058238, 0.9953378925526384, 0.3350364223060968, 0.6556238344857851, 0.009030631329005305, 0.9802794540466631, 0.017848225353790784, 0.9998918638251331, 0.3737822590905881, 0.009016677302623836, 0.554935503079667, 0.024590938098065007, 0.03688640714709751, 0.998579733511404, 0.07476274158061857, 0.818093448100562, 0.10226168101257024, 0.00486960385774144, 0.9997810655268549, 0.8480460218878684, 0.0006730523983237051, 0.004038314389942231, 0.016153257559768923, 0.1312452176731225, 0.21382517225348652, 0.695684715359935, 0.07529055361038257, 0.015058110722076514, 0.99585381255828, 0.7208083840945609, 0.0301753509850907, 0.04292549928865015, 0.11305131495822714, 0.09350108755943597, 0.7604074464233559, 0.10316073464990944, 0.045535793029061584, 0.033043672817549115, 0.057624941620847844, 0.993824755399401, 0.9975867507306029, 0.22313916455054666, 0.45907683479850625, 0.31495453151024794, 0.002225827077810939, 0.01702908849168292, 0.9828017382781922, 0.9992839046922035, 0.9995166180474846, 0.9714632213222127, 0.02765731590952919, 0.3104137162324191, 0.6893282724286524, 0.20061070906165768, 0.7987506146074591, 0.0048471323162666315, 0.9936621248346594, 0.18399683046458662, 0.003357606395339172, 0.002014563837203503, 0.4606635974405344, 0.3491910651152739, 0.3309992032171052, 0.6510863447896904, 0.016731827854930593, 0.0007274707763013301, 0.6946230033612453, 0.14697145403813808, 0.048214617274954796, 0.04921216108064352, 0.06085017214701192, 0.03114941886631711, 0.18274325734906038, 0.7849653554311912, 0.44262161461947824, 0.1806789808572886, 0.22815259251994557, 0.07204818711156176, 0.07651629173863536, 0.9934044019589676, 0.9944632552628804, 0.6618742822658318, 0.08088710382567157, 0.041221312526544165, 0.05016555958419054, 0.16605189102673923, 0.4777744456919207, 0.16898774606466646, 0.10248997066519382, 0.16218434330102405, 0.08822477132207263, 0.9982894517041074, 0.9958467396278151, 0.9968827028700138, 0.997925713211573, 0.5363656140265337, 0.2127117703834869, 0.0384366238064617, 0.0135401742954581, 0.19873481627204628, 0.08296028909821061, 0.8878993103484164, 0.029148209683155082, 0.9980143954085707, 0.996418321622249, 0.41727945174782793, 0.10583174500850709, 0.23676073240474585, 0.10825075632298725, 0.1315337402248588, 0.9967053824319775, 0.9941692350142219, 0.0002821335352584966, 0.12978142621890845, 0.790820299329566, 0.034420291301536586, 0.044577098570842466, 0.00982585202956546, 0.06632450119956686, 0.921173627771762, 0.9941506086169283, 0.30306934200367147, 0.4539829692718932, 0.03291531788154629, 0.1589871958052047, 0.05092558615635464, 0.9988957959793026, 0.014667883571990495, 0.76667899132058, 0.1331392508842214, 0.08575070395932904, 0.9993545391962297, 0.28768174665423224, 0.351672850842311, 0.006677332610929955, 0.35334218399504347, 0.1761039154409163, 0.0007307216408336776, 0.7453360736503511, 0.07745649392836983, 0.9993870190617051, 0.16610334725794138, 0.17495720435652534, 0.6589264916748966, 0.998874541611558, 0.20504257416849284, 0.20665708262651247, 0.5884883329481547, 0.039076075102455435, 0.9595347330714057, 0.9977818718659638, 0.9952708189931044, 0.9910146365191845, 0.3781665151593421, 0.30684563730034337, 0.010899536151209107, 0.2196493480906705, 0.08458987839090545, 0.9986964780417014, 0.9983767540198336, 0.8751250040585797, 0.022798847801125323, 0.06751966464179424, 0.03332139294010624, 0.9952070235973217, 0.9918358414339811, 0.021847742015397086, 0.9758658100210699, 0.9972294883326098, 0.960174471930996, 0.01786371110569295, 0.020096674993904568, 0.05986005842151187, 0.08361404985861975, 0.21283576327648662, 0.6432580881168815, 0.994927647832594, 0.004780560301994833, 0.9949541128526748, 0.3021401860955066, 0.18360826693496168, 0.3935569603500445, 0.08018335707919214, 0.04028535814606755, 0.28188882605929394, 0.7169298489539524, 0.03315126084892209, 0.8899838489441391, 0.07650290965135867, 0.7596904686335946, 0.0004047365309715475, 0.00323789224777238, 0.00647578449554476, 0.22989034959183896, 0.997175506866246, 0.9403615077359275, 0.0583087744368388, 0.8125203068214951, 0.019933325284172194, 0.1673766519893189, 0.9938717408976321, 0.0042931824660804845, 0.9928204130718767, 0.003495846524900974, 0.001747923262450487, 0.001747923262450487, 0.9984856282279764, 0.9969156944621133, 0.05758221521090804, 0.9420969947288413, 0.9955398296592138, 0.9929964254234, 0.0015464000390105952, 0.9979434918415041, 0.997996941373265, 0.9937662862210057, 0.995628100662688, 0.9961694749026526, 0.9978784374234426, 0.9969729672683033, 0.9963040145897298, 0.9970320592089076, 0.837660419277031, 0.1623555307025706, 0.5830780715200347, 0.14147668956856155, 0.09070932866796955, 0.09070932866796955, 0.0940689334334499, 0.9967611884571318, 0.9922513732309767, 0.006125008476734424, 0.06579667479172514, 0.8714955793168122, 0.043450634296422264, 0.0186217004127524, 0.9986217416300115, 0.9993000053781484, 0.9991207937887417, 0.46435775767509563, 0.16563449428961483, 0.1694121231067464, 0.13163583493543074, 0.06915966603671636, 0.8367967990086785, 0.14302480728297381, 0.003050292098452048, 0.014912539147987791, 0.0023724494099071486, 0.9939360058976472, 0.004920475276721026, 0.9968203766507575, 0.9957025924408579, 0.8836743146343505, 0.11555741037526122, 0.9969379151706288, 0.9972684350823877, 0.9916554813194044, 0.4657499913399334, 0.07635245759671039, 0.015270491519342079, 0.3916431942607733, 0.05075192769663691, 0.9973495405849742, 0.9937044764737124, 0.0003944201541127517, 0.6160842807241181, 0.38337638979759464, 0.5172858752808605, 0.48251920749212646, 0.9943317727412975, 0.4797482295472267, 0.33773600450540403, 0.025309109413394138, 0.09898673903905263, 0.05821095165080652, 0.9957559009687971, 0.5478720754571914, 0.0788906704540216, 0.1528733959719635, 0.13069675589041826, 0.08961543901804757, 0.6834058575512795, 0.13868877864574825, 0.046093020967937014, 0.10222407761333586, 0.02949953341947969, 0.5838181477379344, 0.13028822114939637, 0.1519037707769218, 0.09736912722123837, 0.03668694202836884, 0.41624823999498917, 0.3294284316529544, 0.0036513003508332384, 0.1882448180874025, 0.06247780600314652, 0.9963575835460864, 0.9919056241503216, 0.0374794634679499, 0.384432210999829, 0.43583261804158885, 0.0032125254401099913, 0.13920943573809963, 0.9923480336367433, 0.9975408655067165, 0.9992808769813424, 0.9976087970661234, 0.024182430596992686, 0.06819445428351938, 0.905873850163346, 0.001450945835819561, 0.044872053420178, 0.9548772967813879, 0.9986696380361171, 0.9990371809265985, 0.48172802939074555, 0.11695131349370701, 0.07518298724595451, 0.0729553431794077, 0.2522806905364251, 0.9973102798181008, 0.9903141607993982, 0.9944700957485447, 0.997987525293518, 0.9972441470969929, 0.48083742425525494, 0.09978630600230141, 0.1323915262759439, 0.16338440049209854, 0.12343404817878936, 0.3610531868568495, 0.2582137410465595, 0.07186370912044363, 0.2460712522641397, 0.06294269695376786, 0.9992248292171831, 0.9987675209326466, 0.9972267392700078, 0.3236028916900773, 0.44985920444086314, 0.01308060897868502, 0.06199071211637684, 0.15128008644913982, 0.9964204226447809, 0.3624648369094654, 0.29521167417440064, 0.013774744174651814, 0.23444074399211323, 0.0939923720152712], \"Term\": [\"401k\", \"aarp\", \"about\", \"about\", \"about\", \"about\", \"about\", \"accident\", \"accident\", \"accidental_death\", \"account\", \"account\", \"adjuster\", \"advantage\", \"advantage\", \"advantage\", \"advantage\", \"affordable_care\", \"agency\", \"agency\", \"agent\", \"agent\", \"agent\", \"american\", \"american\", \"amount\", \"amount\", \"amount\", \"amount\", \"amount\", \"annuity\", \"answer\", \"answer\", \"answer\", \"answer\", \"answer\", \"apartment\", \"area\", \"area\", \"area\", \"area\", \"assistance\", \"assistance\", \"assistance\", \"auto\", \"beneficiary\", \"benefit\", \"benefit\", \"benefit\", \"benefit\", \"borrow\", \"borrow_from\", \"cancellation\", \"care\", \"care\", \"carrier\", \"carrier\", \"carrier\", \"carrier\", \"cash\", \"cash_value\", \"cause\", \"cause\", \"cause\", \"cause\", \"certificate\", \"cheap\", \"child\", \"child\", \"child\", \"citizen\", \"claim\", \"claim\", \"cobra\", \"coinsurance\", \"coinsurance\", \"college\", \"college\", \"commissioner\", \"community\", \"company\", \"company\", \"company\", \"company\", \"company\", \"condition\", \"condition\", \"condition\", \"condition\", \"consult_with\", \"contact_local\", \"contribution\", \"copay\", \"cost\", \"cost\", \"cost\", \"cost\", \"cost\", \"cover\", \"cover\", \"cover\", \"cover\", \"coverage\", \"coverage\", \"coverage\", \"coverage\", \"coverage\", \"creditor\", \"critical_illness\", \"customer\", \"daily\", \"damage\", \"damage\", \"deal\", \"deal\", \"death\", \"death_benefit\", \"debt\", \"deductible\", \"deductible\", \"deductible\", \"deductible\", \"defer\", \"defer_annuity\", \"disability\", \"disabled\", \"discount\", \"distribution\", \"doctor\", \"drive\", \"driver\", \"driving\", \"driving_record\", \"drug\", \"drug\", \"easy\", \"easy\", \"eligible\", \"elimination\", \"elimination_period\", \"employee\", \"employee\", \"employer\", \"employer\", \"enrollment\", \"enrollment\", \"estate\", \"estimate\", \"estimate\", \"exam\", \"exam\", \"exam\", \"exclusion\", \"existing\", \"existing_condition\", \"expensive\", \"expensive\", \"expensive\", \"expensive\", \"expensive\", \"face\", \"face\", \"face_amount\", \"factor\", \"factor\", \"factor\", \"fault\", \"federal\", \"federal\", \"federal\", \"feel\", \"feel\", \"feel\", \"feel\", \"feel_free\", \"final\", \"final\", \"final_expense\", \"financial\", \"financial\", \"financial\", \"financial\", \"financial\", \"find\", \"find\", \"find\", \"find\", \"find\", \"fire\", \"fixed\", \"flood\", \"free\", \"free\", \"free\", \"free\", \"free\", \"friend\", \"from\", \"from\", \"from\", \"from\", \"from\", \"fund\", \"fund\", \"fund\", \"funeral\", \"good\", \"good\", \"good\", \"good\", \"good\", \"great\", \"great\", \"great\", \"great\", \"great_question\", \"group\", \"group\", \"guarantee\", \"guarantee\", \"guarantee\", \"guarantee\", \"halifax\", \"happy\", \"health\", \"health\", \"health\", \"health\", \"help\", \"help\", \"help\", \"help\", \"help\", \"helpful\", \"helpful\", \"helpful_please\", \"home\", \"home\", \"home\", \"homeowner\", \"homeowner\", \"hope_information\", \"hospital\", \"illness\", \"illness\", \"income\", \"income\", \"income\", \"individual\", \"individual\", \"individual\", \"individual\", \"inpatient\", \"insurable\", \"insurable_interest\", \"insure\", \"insure\", \"insure\", \"insured\", \"insured\", \"insured\", \"insured\", \"insurer\", \"insurer\", \"insurer\", \"interest\", \"interest\", \"investment\", \"investment\", \"item\", \"item\", \"landlord\", \"leak\", \"liability\", \"liability\", \"liability\", \"license\", \"license\", \"life\", \"limit\", \"limit\", \"limit\", \"limit\", \"limit\", \"loan\", \"long\", \"long\", \"long\", \"long\", \"long_term\", \"look\", \"look\", \"look\", \"look\", \"look\", \"loss\", \"loss\", \"loss\", \"loss\", \"love\", \"make\", \"make\", \"make\", \"make\", \"make\", \"many\", \"many\", \"many\", \"many\", \"many\", \"many_factor\", \"medicaid\", \"medical\", \"medical\", \"medical\", \"medical\", \"medicare\", \"medicare\", \"medicare_advantage\", \"medicare_part\", \"medicare_supplement\", \"medicare_supplement\", \"medigap\", \"medigap\", \"medigap_plan\", \"medigap_plan\", \"method\", \"method\", \"money\", \"money\", \"money\", \"money\", \"money\", \"month\", \"month\", \"month\", \"month\", \"more\", \"more\", \"more\", \"more\", \"more\", \"mortgage\", \"mortgage\", \"mortgage\", \"most\", \"most\", \"most\", \"most\", \"most\", \"motor\", \"motor_vehicle\", \"much\", \"much\", \"much\", \"much\", \"much\", \"need\", \"need\", \"need\", \"need\", \"need\", \"network\", \"nursing_home\", \"obamacare\", \"occupation\", \"offer\", \"offer\", \"offer\", \"offer\", \"offer\", \"open\", \"open\", \"open\", \"open_enrollment\", \"original_medicare\", \"other\", \"other\", \"other\", \"other\", \"other\", \"outpatient\", \"ownership\", \"part\", \"part\", \"part\", \"part\", \"part\", \"pas\", \"pas\", \"pas\", \"paycheck\", \"people\", \"people\", \"people\", \"people\", \"people\", \"peril\", \"period\", \"period\", \"period\", \"period\", \"permanent\", \"person\", \"person\", \"person\", \"person\", \"personal\", \"personal\", \"personal\", \"personal\", \"personal_property\", \"plan\", \"plan\", \"plan\", \"planner\", \"please\", \"please\", \"please\", \"please_feel\", \"please_feel\", \"policy_completely\", \"popular\", \"pregnancy\", \"premium\", \"premium\", \"premium\", \"premium\", \"premium\", \"prescription\", \"prescription_drug\", \"price\", \"price\", \"price\", \"price\", \"pricing\", \"probate\", \"procedure\", \"procedure\", \"proceeds\", \"process\", \"process\", \"process\", \"product\", \"product\", \"product\", \"product\", \"profile\", \"property\", \"property\", \"provide\", \"provide\", \"provide\", \"provide\", \"provide\", \"qualified\", \"qualified\", \"qualify\", \"qualify\", \"qualify\", \"question\", \"question\", \"question\", \"question\", \"question\", \"question_thanks\", \"quote\", \"quote\", \"rate\", \"rate\", \"rate\", \"rating\", \"rating\", \"really\", \"really\", \"really\", \"really\", \"record\", \"rental\", \"renter\", \"renter\", \"report\", \"reputable\", \"retirement\", \"retirement\", \"retirement_plan\", \"retirement_planner\", \"risk_tolerance\", \"roof\", \"roth\", \"score\", \"search\", \"secondary\", \"security\", \"security\", \"shall\", \"shall\", \"shall\", \"shall\", \"shall\", \"shall_able\", \"shop\", \"shop\", \"short\", \"short\", \"short\", \"short\", \"short_term\", \"social\", \"social_security\", \"some\", \"some\", \"some\", \"some\", \"some\", \"state\", \"state\", \"state\", \"state\", \"state\", \"student\", \"student\", \"subsidy\", \"suitable\", \"supplement\", \"supplement\", \"surgery\", \"surrender\", \"survivor\", \"take\", \"take\", \"take\", \"take\", \"take\", \"tell\", \"tenant\", \"term\", \"term\", \"term\", \"thanks\", \"thanks\", \"theft\", \"their\", \"their\", \"their\", \"their\", \"their\", \"therapy\", \"there\", \"there\", \"there\", \"there\", \"there\", \"they\", \"they\", \"they\", \"they\", \"they\", \"this\", \"this\", \"this\", \"this\", \"this\", \"time\", \"time\", \"time\", \"time\", \"time\", \"tolerance\", \"unable\", \"under\", \"under\", \"under\", \"under\", \"under\", \"uninsured\", \"unit\", \"universal\", \"universal_life\", \"value\", \"value\", \"value\", \"value\", \"variable\", \"variable\", \"variable_annuity\", \"vehicle\", \"very\", \"very\", \"very\", \"very\", \"very\", \"very_much\", \"voluntary\", \"waiting\", \"waiting_period\", \"water\", \"what\", \"what\", \"what\", \"what\", \"what\", \"when\", \"when\", \"when\", \"when\", \"when\", \"whole\", \"whole_life\", \"withdrawal\", \"work\", \"work\", \"work\", \"work\", \"work\", \"worker\", \"year\", \"year\", \"year\", \"year\", \"year\"]}, \"R\": 30, \"lambda.step\": 0.01, \"plot.opts\": {\"xlab\": \"PC1\", \"ylab\": \"PC2\"}, \"topic.order\": [3, 5, 2, 4, 1]};\n",
       "\n",
       "function LDAvis_load_lib(url, callback){\n",
       "  var s = document.createElement('script');\n",
       "  s.src = url;\n",
       "  s.async = true;\n",
       "  s.onreadystatechange = s.onload = callback;\n",
       "  s.onerror = function(){console.warn(\"failed to load library \" + url);};\n",
       "  document.getElementsByTagName(\"head\")[0].appendChild(s);\n",
       "}\n",
       "\n",
       "if(typeof(LDAvis) !== \"undefined\"){\n",
       "   // already loaded: just create the visualization\n",
       "   !function(LDAvis){\n",
       "       new LDAvis(\"#\" + \"ldavis_el162201986911668144891454214\", ldavis_el162201986911668144891454214_data);\n",
       "   }(LDAvis);\n",
       "}else if(typeof define === \"function\" && define.amd){\n",
       "   // require.js is available: use it to load d3/LDAvis\n",
       "   require.config({paths: {d3: \"https://d3js.org/d3.v5\"}});\n",
       "   require([\"d3\"], function(d3){\n",
       "      window.d3 = d3;\n",
       "      LDAvis_load_lib(\"https://cdn.jsdelivr.net/gh/bmabey/pyLDAvis@3.3.1/pyLDAvis/js/ldavis.v3.0.0.js\", function(){\n",
       "        new LDAvis(\"#\" + \"ldavis_el162201986911668144891454214\", ldavis_el162201986911668144891454214_data);\n",
       "      });\n",
       "    });\n",
       "}else{\n",
       "    // require.js not available: dynamically load d3 & LDAvis\n",
       "    LDAvis_load_lib(\"https://d3js.org/d3.v5.js\", function(){\n",
       "         LDAvis_load_lib(\"https://cdn.jsdelivr.net/gh/bmabey/pyLDAvis@3.3.1/pyLDAvis/js/ldavis.v3.0.0.js\", function(){\n",
       "                 new LDAvis(\"#\" + \"ldavis_el162201986911668144891454214\", ldavis_el162201986911668144891454214_data);\n",
       "            })\n",
       "         });\n",
       "}\n",
       "</script>"
      ],
      "text/plain": [
       "PreparedData(topic_coordinates=              x         y  topics  cluster       Freq\n",
       "topic                                                \n",
       "2     -0.016593  0.031236       1        1  37.725679\n",
       "4      0.045590 -0.100520       2        1  18.003356\n",
       "1     -0.288616  0.006530       3        1  17.048726\n",
       "3      0.132684 -0.170447       4        1  14.826733\n",
       "0      0.126934  0.233201       5        1  12.395506, topic_info=         Term          Freq         Total Category  logprob  loglift\n",
       "13       life  12472.000000  12472.000000  Default  30.0000  30.0000\n",
       "94   medicare   7164.000000   7164.000000  Default  29.0000  29.0000\n",
       "43       plan   8019.000000   8019.000000  Default  28.0000  28.0000\n",
       "92     health   6019.000000   6019.000000  Default  27.0000  27.0000\n",
       "357     cover   6720.000000   6720.000000  Default  26.0000  26.0000\n",
       "..        ...           ...           ...      ...      ...      ...\n",
       "162     offer    455.499303   2289.483084   Topic5  -5.2010   0.4731\n",
       "168     there    492.694888   5501.284214   Topic5  -5.1225  -0.3250\n",
       "334      much    427.137882   2571.485319   Topic5  -5.2653   0.2927\n",
       "312     other    434.706008   3307.136247   Topic5  -5.2478   0.0587\n",
       "10       good    436.050333   4467.717830   Topic5  -5.2447  -0.2390\n",
       "\n",
       "[346 rows x 6 columns], token_table=      Topic      Freq   Term\n",
       "term                        \n",
       "984       5  0.994440   401k\n",
       "1889      5  0.994932   aarp\n",
       "28        1  0.817716  about\n",
       "28        2  0.049882  about\n",
       "28        3  0.102734  about\n",
       "...     ...       ...    ...\n",
       "83        1  0.362465   year\n",
       "83        2  0.295212   year\n",
       "83        3  0.013775   year\n",
       "83        4  0.234441   year\n",
       "83        5  0.093992   year\n",
       "\n",
       "[621 rows x 3 columns], R=30, lambda_step=0.01, plot_opts={'xlab': 'PC1', 'ylab': 'PC2'}, topic_order=[3, 5, 2, 4, 1])"
      ]
     },
     "execution_count": 25,
     "metadata": {},
     "output_type": "execute_result"
    }
   ],
   "source": [
    "vis"
   ]
  }
 ],
 "metadata": {
  "kernelspec": {
   "display_name": "Python 3",
   "language": "python",
   "name": "python3"
  },
  "language_info": {
   "codemirror_mode": {
    "name": "ipython",
    "version": 3
   },
   "file_extension": ".py",
   "mimetype": "text/x-python",
   "name": "python",
   "nbconvert_exporter": "python",
   "pygments_lexer": "ipython3",
   "version": "3.8.5"
  }
 },
 "nbformat": 4,
 "nbformat_minor": 4
}
