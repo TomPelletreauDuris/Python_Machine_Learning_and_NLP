{
 "cells": [
  {
   "cell_type": "code",
   "execution_count": 6,
   "metadata": {},
   "outputs": [
    {
     "name": "stdout",
     "output_type": "stream",
     "text": [
      "Requirement already satisfied: gensim in c:\\users\\tomdu\\anaconda3\\lib\\site-packages (4.0.1)\n",
      "Requirement already satisfied: numpy>=1.11.3 in c:\\users\\tomdu\\appdata\\roaming\\python\\python38\\site-packages (from gensim) (1.20.2)\n",
      "Requirement already satisfied: smart-open>=1.8.1 in c:\\users\\tomdu\\anaconda3\\lib\\site-packages (from gensim) (3.0.0)\n",
      "Requirement already satisfied: scipy>=0.18.1 in c:\\users\\tomdu\\anaconda3\\lib\\site-packages (from gensim) (1.5.2)\n",
      "Requirement already satisfied: Cython==0.29.21 in c:\\users\\tomdu\\anaconda3\\lib\\site-packages (from gensim) (0.29.21)\n",
      "Requirement already satisfied: requests in c:\\users\\tomdu\\anaconda3\\lib\\site-packages (from smart-open>=1.8.1->gensim) (2.24.0)\n",
      "Requirement already satisfied: chardet<4,>=3.0.2 in c:\\users\\tomdu\\anaconda3\\lib\\site-packages (from requests->smart-open>=1.8.1->gensim) (3.0.4)\n",
      "Requirement already satisfied: certifi>=2017.4.17 in c:\\users\\tomdu\\anaconda3\\lib\\site-packages (from requests->smart-open>=1.8.1->gensim) (2020.6.20)\n",
      "Requirement already satisfied: idna<3,>=2.5 in c:\\users\\tomdu\\anaconda3\\lib\\site-packages (from requests->smart-open>=1.8.1->gensim) (2.10)\n",
      "Requirement already satisfied: urllib3!=1.25.0,!=1.25.1,<1.26,>=1.21.1 in c:\\users\\tomdu\\anaconda3\\lib\\site-packages (from requests->smart-open>=1.8.1->gensim) (1.25.11)\n"
     ]
    },
    {
     "name": "stderr",
     "output_type": "stream",
     "text": [
      "WARNING: Value for scheme.headers does not match. Please report this to <https://github.com/pypa/pip/issues/9617>\n",
      "distutils: C:\\Users\\tomdu\\AppData\\Roaming\\Python\\Python38\\Include\\UNKNOWN\n",
      "sysconfig: C:\\Users\\tomdu\\AppData\\Roaming\\Python\\Python38\\Include\n",
      "WARNING: Additional context:\n",
      "user = True\n",
      "home = None\n",
      "root = None\n",
      "prefix = None\n",
      "WARNING: Value for scheme.headers does not match. Please report this to <https://github.com/pypa/pip/issues/9617>\n",
      "distutils: C:\\Users\\tomdu\\AppData\\Roaming\\Python\\Python38\\Include\\UNKNOWN\n",
      "sysconfig: C:\\Users\\tomdu\\AppData\\Roaming\\Python\\Python38\\Include\n",
      "WARNING: Additional context:\n",
      "user = True\n",
      "home = None\n",
      "root = None\n",
      "prefix = None\n"
     ]
    },
    {
     "name": "stdout",
     "output_type": "stream",
     "text": [
      "Requirement already satisfied: pyldavis in c:\\users\\tomdu\\appdata\\roaming\\python\\python38\\site-packages (3.3.1)\n",
      "Requirement already satisfied: joblib in c:\\users\\tomdu\\anaconda3\\lib\\site-packages (from pyldavis) (0.17.0)\n",
      "Requirement already satisfied: pandas>=1.2.0 in c:\\users\\tomdu\\appdata\\roaming\\python\\python38\\site-packages (from pyldavis) (1.2.4)\n",
      "Requirement already satisfied: scipy in c:\\users\\tomdu\\anaconda3\\lib\\site-packages (from pyldavis) (1.5.2)\n",
      "Requirement already satisfied: jinja2 in c:\\users\\tomdu\\anaconda3\\lib\\site-packages (from pyldavis) (2.11.2)\n",
      "Requirement already satisfied: sklearn in c:\\users\\tomdu\\appdata\\roaming\\python\\python38\\site-packages (from pyldavis) (0.0)\n",
      "Requirement already satisfied: numexpr in c:\\users\\tomdu\\anaconda3\\lib\\site-packages (from pyldavis) (2.7.1)\n",
      "Requirement already satisfied: numpy>=1.20.0 in c:\\users\\tomdu\\appdata\\roaming\\python\\python38\\site-packages (from pyldavis) (1.20.2)\n",
      "Requirement already satisfied: funcy in c:\\users\\tomdu\\appdata\\roaming\\python\\python38\\site-packages (from pyldavis) (1.15)\n",
      "Requirement already satisfied: gensim in c:\\users\\tomdu\\anaconda3\\lib\\site-packages (from pyldavis) (4.0.1)\n",
      "Requirement already satisfied: future in c:\\users\\tomdu\\anaconda3\\lib\\site-packages (from pyldavis) (0.18.2)\n",
      "Requirement already satisfied: setuptools in c:\\users\\tomdu\\anaconda3\\lib\\site-packages (from pyldavis) (50.3.1.post20201107)\n",
      "Requirement already satisfied: scikit-learn in c:\\users\\tomdu\\anaconda3\\lib\\site-packages (from pyldavis) (0.23.2)\n",
      "Requirement already satisfied: python-dateutil>=2.7.3 in c:\\users\\tomdu\\anaconda3\\lib\\site-packages (from pandas>=1.2.0->pyldavis) (2.8.1)\n",
      "Requirement already satisfied: pytz>=2017.3 in c:\\users\\tomdu\\anaconda3\\lib\\site-packages (from pandas>=1.2.0->pyldavis) (2020.1)\n",
      "Requirement already satisfied: six>=1.5 in c:\\users\\tomdu\\anaconda3\\lib\\site-packages (from python-dateutil>=2.7.3->pandas>=1.2.0->pyldavis) (1.15.0)\n",
      "Requirement already satisfied: smart-open>=1.8.1 in c:\\users\\tomdu\\anaconda3\\lib\\site-packages (from gensim->pyldavis) (3.0.0)\n",
      "Requirement already satisfied: Cython==0.29.21 in c:\\users\\tomdu\\anaconda3\\lib\\site-packages (from gensim->pyldavis) (0.29.21)\n",
      "Requirement already satisfied: requests in c:\\users\\tomdu\\anaconda3\\lib\\site-packages (from smart-open>=1.8.1->gensim->pyldavis) (2.24.0)\n",
      "Requirement already satisfied: MarkupSafe>=0.23 in c:\\users\\tomdu\\anaconda3\\lib\\site-packages (from jinja2->pyldavis) (1.1.1)\n",
      "Requirement already satisfied: chardet<4,>=3.0.2 in c:\\users\\tomdu\\anaconda3\\lib\\site-packages (from requests->smart-open>=1.8.1->gensim->pyldavis) (3.0.4)\n",
      "Requirement already satisfied: idna<3,>=2.5 in c:\\users\\tomdu\\anaconda3\\lib\\site-packages (from requests->smart-open>=1.8.1->gensim->pyldavis) (2.10)\n",
      "Requirement already satisfied: urllib3!=1.25.0,!=1.25.1,<1.26,>=1.21.1 in c:\\users\\tomdu\\anaconda3\\lib\\site-packages (from requests->smart-open>=1.8.1->gensim->pyldavis) (1.25.11)\n",
      "Requirement already satisfied: certifi>=2017.4.17 in c:\\users\\tomdu\\anaconda3\\lib\\site-packages (from requests->smart-open>=1.8.1->gensim->pyldavis) (2020.6.20)\n",
      "Requirement already satisfied: threadpoolctl>=2.0.0 in c:\\users\\tomdu\\anaconda3\\lib\\site-packages (from scikit-learn->pyldavis) (2.1.0)\n"
     ]
    }
   ],
   "source": [
    "!pip install --upgrade gensim --user\n",
    "!pip install pyldavis --user\n"
   ]
  },
  {
   "cell_type": "code",
   "execution_count": 7,
   "metadata": {},
   "outputs": [
    {
     "name": "stdout",
     "output_type": "stream",
     "text": [
      "Requirement already satisfied: pyLDAvis in c:\\users\\tomdu\\appdata\\roaming\\python\\python38\\site-packages (3.3.1)\n",
      "Requirement already satisfied: jinja2 in c:\\users\\tomdu\\anaconda3\\lib\\site-packages (from pyLDAvis) (2.11.2)\n",
      "Requirement already satisfied: future in c:\\users\\tomdu\\anaconda3\\lib\\site-packages (from pyLDAvis) (0.18.2)\n",
      "Requirement already satisfied: numpy>=1.20.0 in c:\\users\\tomdu\\appdata\\roaming\\python\\python38\\site-packages (from pyLDAvis) (1.20.2)\n",
      "Requirement already satisfied: numexpr in c:\\users\\tomdu\\anaconda3\\lib\\site-packages (from pyLDAvis) (2.7.1)\n",
      "Requirement already satisfied: joblib in c:\\users\\tomdu\\anaconda3\\lib\\site-packages (from pyLDAvis) (0.17.0)\n",
      "Requirement already satisfied: gensim in c:\\users\\tomdu\\anaconda3\\lib\\site-packages (from pyLDAvis) (4.0.1)\n",
      "Requirement already satisfied: funcy in c:\\users\\tomdu\\appdata\\roaming\\python\\python38\\site-packages (from pyLDAvis) (1.15)\n",
      "Requirement already satisfied: pandas>=1.2.0 in c:\\users\\tomdu\\appdata\\roaming\\python\\python38\\site-packages (from pyLDAvis) (1.2.4)\n",
      "Requirement already satisfied: scipy in c:\\users\\tomdu\\anaconda3\\lib\\site-packages (from pyLDAvis) (1.5.2)\n",
      "Requirement already satisfied: setuptools in c:\\users\\tomdu\\anaconda3\\lib\\site-packages (from pyLDAvis) (50.3.1.post20201107)\n",
      "Requirement already satisfied: sklearn in c:\\users\\tomdu\\appdata\\roaming\\python\\python38\\site-packages (from pyLDAvis) (0.0)\n",
      "Requirement already satisfied: scikit-learn in c:\\users\\tomdu\\anaconda3\\lib\\site-packages (from pyLDAvis) (0.23.2)\n",
      "Requirement already satisfied: python-dateutil>=2.7.3 in c:\\users\\tomdu\\anaconda3\\lib\\site-packages (from pandas>=1.2.0->pyLDAvis) (2.8.1)\n"
     ]
    },
    {
     "name": "stderr",
     "output_type": "stream",
     "text": [
      "WARNING: Value for scheme.headers does not match. Please report this to <https://github.com/pypa/pip/issues/9617>\n",
      "distutils: c:\\users\\tomdu\\anaconda3\\Include\\UNKNOWN\n",
      "sysconfig: c:\\users\\tomdu\\anaconda3\\Include\n",
      "WARNING: Additional context:\n",
      "user = False\n",
      "home = None\n",
      "root = None\n",
      "prefix = None\n",
      "WARNING: Value for scheme.headers does not match. Please report this to <https://github.com/pypa/pip/issues/9617>\n",
      "distutils: c:\\users\\tomdu\\anaconda3\\Include\\UNKNOWN\n",
      "sysconfig: c:\\users\\tomdu\\anaconda3\\Include\n",
      "WARNING: Additional context:\n",
      "user = False\n",
      "home = None\n",
      "root = None\n",
      "prefix = None\n"
     ]
    },
    {
     "name": "stdout",
     "output_type": "stream",
     "text": [
      "Requirement already satisfied: pytz>=2017.3 in c:\\users\\tomdu\\anaconda3\\lib\\site-packages (from pandas>=1.2.0->pyLDAvis) (2020.1)\n",
      "Requirement already satisfied: six>=1.5 in c:\\users\\tomdu\\anaconda3\\lib\\site-packages (from python-dateutil>=2.7.3->pandas>=1.2.0->pyLDAvis) (1.15.0)\n",
      "Requirement already satisfied: smart-open>=1.8.1 in c:\\users\\tomdu\\anaconda3\\lib\\site-packages (from gensim->pyLDAvis) (3.0.0)\n",
      "Requirement already satisfied: Cython==0.29.21 in c:\\users\\tomdu\\anaconda3\\lib\\site-packages (from gensim->pyLDAvis) (0.29.21)\n",
      "Requirement already satisfied: requests in c:\\users\\tomdu\\anaconda3\\lib\\site-packages (from smart-open>=1.8.1->gensim->pyLDAvis) (2.24.0)\n",
      "Requirement already satisfied: MarkupSafe>=0.23 in c:\\users\\tomdu\\anaconda3\\lib\\site-packages (from jinja2->pyLDAvis) (1.1.1)\n",
      "Requirement already satisfied: urllib3!=1.25.0,!=1.25.1,<1.26,>=1.21.1 in c:\\users\\tomdu\\anaconda3\\lib\\site-packages (from requests->smart-open>=1.8.1->gensim->pyLDAvis) (1.25.11)\n",
      "Requirement already satisfied: idna<3,>=2.5 in c:\\users\\tomdu\\anaconda3\\lib\\site-packages (from requests->smart-open>=1.8.1->gensim->pyLDAvis) (2.10)\n",
      "Requirement already satisfied: certifi>=2017.4.17 in c:\\users\\tomdu\\anaconda3\\lib\\site-packages (from requests->smart-open>=1.8.1->gensim->pyLDAvis) (2020.6.20)\n",
      "Requirement already satisfied: chardet<4,>=3.0.2 in c:\\users\\tomdu\\anaconda3\\lib\\site-packages (from requests->smart-open>=1.8.1->gensim->pyLDAvis) (3.0.4)\n",
      "Requirement already satisfied: threadpoolctl>=2.0.0 in c:\\users\\tomdu\\anaconda3\\lib\\site-packages (from scikit-learn->pyLDAvis) (2.1.0)\n"
     ]
    }
   ],
   "source": [
    "! pip install pyLDAvis"
   ]
  },
  {
   "cell_type": "code",
   "execution_count": 8,
   "metadata": {},
   "outputs": [
    {
     "name": "stderr",
     "output_type": "stream",
     "text": [
      "C:\\Users\\tomdu\\anaconda3\\lib\\site-packages\\gensim\\similarities\\__init__.py:15: UserWarning: The gensim.similarities.levenshtein submodule is disabled, because the optional Levenshtein package <https://pypi.org/project/python-Levenshtein/> is unavailable. Install Levenhstein (e.g. `pip install python-Levenshtein`) to suppress this warning.\n",
      "  warnings.warn(msg)\n",
      "C:\\Users\\tomdu\\anaconda3\\lib\\site-packages\\sklearn\\decomposition\\_lda.py:28: DeprecationWarning: `np.float` is a deprecated alias for the builtin `float`. To silence this warning, use `float` by itself. Doing this will not modify any behavior and is safe. If you specifically wanted the numpy scalar type, use `np.float64` here.\n",
      "Deprecated in NumPy 1.20; for more details and guidance: https://numpy.org/devdocs/release/1.20.0-notes.html#deprecations\n",
      "  EPS = np.finfo(np.float).eps\n"
     ]
    }
   ],
   "source": [
    "import gensim as gs\n",
    "import pandas as pd\n",
    "import pyLDAvis\n",
    "pyLDAvis.enable_notebook()"
   ]
  },
  {
   "cell_type": "code",
   "execution_count": 9,
   "metadata": {
    "scrolled": true
   },
   "outputs": [
    {
     "name": "stderr",
     "output_type": "stream",
     "text": [
      "C:\\Users\\tomdu\\anaconda3\\lib\\site-packages\\ipykernel\\ipkernel.py:287: DeprecationWarning: `should_run_async` will not call `transform_cell` automatically in the future. Please pass the result to `transformed_cell` argument and any exception that happen during thetransform in `preprocessing_exc_tuple` in IPython 7.17 and above.\n",
      "  and should_run_async(code)\n"
     ]
    }
   ],
   "source": [
    "dataset = pd.read_csv(\"insurance_QA_train.csv\", sep=\";\")"
   ]
  },
  {
   "cell_type": "code",
   "execution_count": 10,
   "metadata": {},
   "outputs": [
    {
     "name": "stderr",
     "output_type": "stream",
     "text": [
      "C:\\Users\\tomdu\\anaconda3\\lib\\site-packages\\ipykernel\\ipkernel.py:287: DeprecationWarning: `should_run_async` will not call `transform_cell` automatically in the future. Please pass the result to `transformed_cell` argument and any exception that happen during thetransform in `preprocessing_exc_tuple` in IPython 7.17 and above.\n",
      "  and should_run_async(code)\n"
     ]
    },
    {
     "data": {
      "text/html": [
       "<div>\n",
       "<style scoped>\n",
       "    .dataframe tbody tr th:only-of-type {\n",
       "        vertical-align: middle;\n",
       "    }\n",
       "\n",
       "    .dataframe tbody tr th {\n",
       "        vertical-align: top;\n",
       "    }\n",
       "\n",
       "    .dataframe thead th {\n",
       "        text-align: right;\n",
       "    }\n",
       "</style>\n",
       "<table border=\"1\" class=\"dataframe\">\n",
       "  <thead>\n",
       "    <tr style=\"text-align: right;\">\n",
       "      <th></th>\n",
       "      <th>Question</th>\n",
       "      <th>Answer</th>\n",
       "    </tr>\n",
       "  </thead>\n",
       "  <tbody>\n",
       "    <tr>\n",
       "      <th>0</th>\n",
       "      <td>be Life Insurance exempt from creditor in Conn...</td>\n",
       "      <td>provided that you have name a primarybeneficia...</td>\n",
       "    </tr>\n",
       "    <tr>\n",
       "      <th>1</th>\n",
       "      <td>which country have the good retirement plan?</td>\n",
       "      <td>not many sovereign nation have retirement plan...</td>\n",
       "    </tr>\n",
       "    <tr>\n",
       "      <th>2</th>\n",
       "      <td>how do I purchase homeowner insurance?</td>\n",
       "      <td>it simple really contact a broker like myself ...</td>\n",
       "    </tr>\n",
       "    <tr>\n",
       "      <th>3</th>\n",
       "      <td>when be Medicare primary or secondary?</td>\n",
       "      <td>the factor that determine whether Medicare be ...</td>\n",
       "    </tr>\n",
       "    <tr>\n",
       "      <th>4</th>\n",
       "      <td>do smoking void Life Insurance?</td>\n",
       "      <td>if you buy a life insurance policy as a nonsmo...</td>\n",
       "    </tr>\n",
       "  </tbody>\n",
       "</table>\n",
       "</div>"
      ],
      "text/plain": [
       "                                            Question  \\\n",
       "0  be Life Insurance exempt from creditor in Conn...   \n",
       "1       which country have the good retirement plan?   \n",
       "2             how do I purchase homeowner insurance?   \n",
       "3             when be Medicare primary or secondary?   \n",
       "4                    do smoking void Life Insurance?   \n",
       "\n",
       "                                              Answer  \n",
       "0  provided that you have name a primarybeneficia...  \n",
       "1  not many sovereign nation have retirement plan...  \n",
       "2  it simple really contact a broker like myself ...  \n",
       "3  the factor that determine whether Medicare be ...  \n",
       "4  if you buy a life insurance policy as a nonsmo...  "
      ]
     },
     "execution_count": 10,
     "metadata": {},
     "output_type": "execute_result"
    }
   ],
   "source": [
    "dataset.head()"
   ]
  },
  {
   "cell_type": "code",
   "execution_count": 11,
   "metadata": {
    "scrolled": true
   },
   "outputs": [
    {
     "name": "stderr",
     "output_type": "stream",
     "text": [
      "C:\\Users\\tomdu\\anaconda3\\lib\\site-packages\\ipykernel\\ipkernel.py:287: DeprecationWarning: `should_run_async` will not call `transform_cell` automatically in the future. Please pass the result to `transformed_cell` argument and any exception that happen during thetransform in `preprocessing_exc_tuple` in IPython 7.17 and above.\n",
      "  and should_run_async(code)\n"
     ]
    }
   ],
   "source": [
    "docs = list(dataset[\"Question\"] + dataset[\"Answer\"])"
   ]
  },
  {
   "cell_type": "code",
   "execution_count": 12,
   "metadata": {},
   "outputs": [
    {
     "name": "stderr",
     "output_type": "stream",
     "text": [
      "C:\\Users\\tomdu\\anaconda3\\lib\\site-packages\\ipykernel\\ipkernel.py:287: DeprecationWarning: `should_run_async` will not call `transform_cell` automatically in the future. Please pass the result to `transformed_cell` argument and any exception that happen during thetransform in `preprocessing_exc_tuple` in IPython 7.17 and above.\n",
      "  and should_run_async(code)\n"
     ]
    }
   ],
   "source": [
    "# Tokenize the documents.\n",
    "from nltk.tokenize import RegexpTokenizer\n",
    "\n",
    "# Split the documents into tokens.\n",
    "tokenizer = RegexpTokenizer(r'\\w+')\n",
    "for idx in range(len(docs)):\n",
    "    docs[idx] = docs[idx].lower()  # Convert to lowercase.\n",
    "    docs[idx] = tokenizer.tokenize(docs[idx])  # Split into words.\n",
    "\n",
    "# Remove numbers, but not words that contain numbers.\n",
    "docs = [[token for token in doc if not token.isnumeric()] for doc in docs]\n",
    "\n",
    "# Remove words that are only one character.\n",
    "docs = [[token for token in doc if len(token) > 1] for doc in docs]"
   ]
  },
  {
   "cell_type": "code",
   "execution_count": 13,
   "metadata": {},
   "outputs": [
    {
     "name": "stderr",
     "output_type": "stream",
     "text": [
      "C:\\Users\\tomdu\\anaconda3\\lib\\site-packages\\ipykernel\\ipkernel.py:287: DeprecationWarning: `should_run_async` will not call `transform_cell` automatically in the future. Please pass the result to `transformed_cell` argument and any exception that happen during thetransform in `preprocessing_exc_tuple` in IPython 7.17 and above.\n",
      "  and should_run_async(code)\n"
     ]
    },
    {
     "data": {
      "text/plain": [
       "['how',\n",
       " 'determine',\n",
       " 'term',\n",
       " 'life',\n",
       " 'insurance',\n",
       " 'amount',\n",
       " 'many',\n",
       " 'life',\n",
       " 'insurance',\n",
       " 'expert',\n",
       " 'recommend',\n",
       " 'about',\n",
       " 'to',\n",
       " 'time',\n",
       " 'your',\n",
       " 'annual',\n",
       " 'salary',\n",
       " 'for',\n",
       " 'the',\n",
       " 'amount',\n",
       " 'of',\n",
       " 'term',\n",
       " 'life',\n",
       " 'insurance',\n",
       " 'that',\n",
       " 'you',\n",
       " 'may',\n",
       " 'need',\n",
       " 'however',\n",
       " 'the',\n",
       " 'figure',\n",
       " 'will',\n",
       " 'depend',\n",
       " 'on',\n",
       " 'your',\n",
       " 'financial',\n",
       " 'need',\n",
       " 'and',\n",
       " 'goal',\n",
       " 'you',\n",
       " 'have',\n",
       " 'factor',\n",
       " 'in',\n",
       " 'that',\n",
       " 'mortgage',\n",
       " 'education',\n",
       " 'expense',\n",
       " 'for',\n",
       " 'child',\n",
       " 'basically',\n",
       " 'whatever',\n",
       " 'your',\n",
       " 'family',\n",
       " 'will',\n",
       " 'need',\n",
       " 'survive',\n",
       " 'and',\n",
       " 'thrive',\n",
       " 'when',\n",
       " 'you',\n",
       " 'be',\n",
       " 'gone',\n",
       " 'of',\n",
       " 'course',\n",
       " 'since',\n",
       " 'term',\n",
       " 'life',\n",
       " 'insurance',\n",
       " 'be',\n",
       " 'for',\n",
       " 'specific',\n",
       " 'period',\n",
       " 'of',\n",
       " 'time',\n",
       " 'you',\n",
       " 'will',\n",
       " 'need',\n",
       " 'calculate',\n",
       " 'how',\n",
       " 'long',\n",
       " 'you',\n",
       " 'need',\n",
       " 'this',\n",
       " 'certain',\n",
       " 'amount',\n",
       " 'of',\n",
       " 'money',\n",
       " 'as',\n",
       " 'well']"
      ]
     },
     "execution_count": 13,
     "metadata": {},
     "output_type": "execute_result"
    }
   ],
   "source": [
    "docs[97]"
   ]
  },
  {
   "cell_type": "code",
   "execution_count": 14,
   "metadata": {},
   "outputs": [
    {
     "name": "stderr",
     "output_type": "stream",
     "text": [
      "C:\\Users\\tomdu\\anaconda3\\lib\\site-packages\\ipykernel\\ipkernel.py:287: DeprecationWarning: `should_run_async` will not call `transform_cell` automatically in the future. Please pass the result to `transformed_cell` argument and any exception that happen during thetransform in `preprocessing_exc_tuple` in IPython 7.17 and above.\n",
      "  and should_run_async(code)\n"
     ]
    }
   ],
   "source": [
    "# Remove words that are only one character.\n",
    "docs = [[token for token in doc if len(token) > 3] for doc in docs]"
   ]
  },
  {
   "cell_type": "code",
   "execution_count": 15,
   "metadata": {},
   "outputs": [
    {
     "name": "stderr",
     "output_type": "stream",
     "text": [
      "C:\\Users\\tomdu\\anaconda3\\lib\\site-packages\\ipykernel\\ipkernel.py:287: DeprecationWarning: `should_run_async` will not call `transform_cell` automatically in the future. Please pass the result to `transformed_cell` argument and any exception that happen during thetransform in `preprocessing_exc_tuple` in IPython 7.17 and above.\n",
      "  and should_run_async(code)\n"
     ]
    },
    {
     "data": {
      "text/plain": [
       "['determine',\n",
       " 'term',\n",
       " 'life',\n",
       " 'insurance',\n",
       " 'amount',\n",
       " 'many',\n",
       " 'life',\n",
       " 'insurance',\n",
       " 'expert',\n",
       " 'recommend',\n",
       " 'about',\n",
       " 'time',\n",
       " 'your',\n",
       " 'annual',\n",
       " 'salary',\n",
       " 'amount',\n",
       " 'term',\n",
       " 'life',\n",
       " 'insurance',\n",
       " 'that',\n",
       " 'need',\n",
       " 'however',\n",
       " 'figure',\n",
       " 'will',\n",
       " 'depend',\n",
       " 'your',\n",
       " 'financial',\n",
       " 'need',\n",
       " 'goal',\n",
       " 'have',\n",
       " 'factor',\n",
       " 'that',\n",
       " 'mortgage',\n",
       " 'education',\n",
       " 'expense',\n",
       " 'child',\n",
       " 'basically',\n",
       " 'whatever',\n",
       " 'your',\n",
       " 'family',\n",
       " 'will',\n",
       " 'need',\n",
       " 'survive',\n",
       " 'thrive',\n",
       " 'when',\n",
       " 'gone',\n",
       " 'course',\n",
       " 'since',\n",
       " 'term',\n",
       " 'life',\n",
       " 'insurance',\n",
       " 'specific',\n",
       " 'period',\n",
       " 'time',\n",
       " 'will',\n",
       " 'need',\n",
       " 'calculate',\n",
       " 'long',\n",
       " 'need',\n",
       " 'this',\n",
       " 'certain',\n",
       " 'amount',\n",
       " 'money',\n",
       " 'well']"
      ]
     },
     "execution_count": 15,
     "metadata": {},
     "output_type": "execute_result"
    }
   ],
   "source": [
    "docs[97]"
   ]
  },
  {
   "cell_type": "code",
   "execution_count": 1,
   "metadata": {},
   "outputs": [
    {
     "name": "stdout",
     "output_type": "stream",
     "text": [
      "Requirement already satisfied: nltk in c:\\users\\tomdu\\appdata\\roaming\\python\\python38\\site-packages (3.6.2)\n",
      "Requirement already satisfied: joblib in c:\\users\\tomdu\\anaconda3\\lib\\site-packages (from nltk) (0.17.0)\n",
      "Requirement already satisfied: regex in c:\\users\\tomdu\\anaconda3\\lib\\site-packages (from nltk) (2020.10.15)\n",
      "Requirement already satisfied: tqdm in c:\\users\\tomdu\\anaconda3\\lib\\site-packages (from nltk) (4.50.2)\n",
      "Requirement already satisfied: click in c:\\users\\tomdu\\anaconda3\\lib\\site-packages (from nltk) (7.1.2)\n"
     ]
    },
    {
     "name": "stderr",
     "output_type": "stream",
     "text": [
      "WARNING: Value for scheme.headers does not match. Please report this to <https://github.com/pypa/pip/issues/9617>\n",
      "distutils: C:\\Users\\tomdu\\AppData\\Roaming\\Python\\Python38\\Include\\UNKNOWN\n",
      "sysconfig: C:\\Users\\tomdu\\AppData\\Roaming\\Python\\Python38\\Include\n",
      "WARNING: Additional context:\n",
      "user = True\n",
      "home = None\n",
      "root = None\n",
      "prefix = None\n"
     ]
    },
    {
     "name": "stdout",
     "output_type": "stream",
     "text": [
      "showing info https://raw.githubusercontent.com/nltk/nltk_data/gh-pages/index.xml\n"
     ]
    },
    {
     "data": {
      "text/plain": [
       "True"
      ]
     },
     "execution_count": 1,
     "metadata": {},
     "output_type": "execute_result"
    }
   ],
   "source": [
    "#!pip install --user -U nltk\n",
    "import nltk\n",
    "nltk.download()"
   ]
  },
  {
   "cell_type": "code",
   "execution_count": 16,
   "metadata": {},
   "outputs": [
    {
     "name": "stderr",
     "output_type": "stream",
     "text": [
      "C:\\Users\\tomdu\\anaconda3\\lib\\site-packages\\ipykernel\\ipkernel.py:287: DeprecationWarning: `should_run_async` will not call `transform_cell` automatically in the future. Please pass the result to `transformed_cell` argument and any exception that happen during thetransform in `preprocessing_exc_tuple` in IPython 7.17 and above.\n",
      "  and should_run_async(code)\n"
     ]
    }
   ],
   "source": [
    "# Lemmatize the documents.\n",
    "from nltk.stem.wordnet import WordNetLemmatizer\n",
    "\n",
    "lemmatizer = WordNetLemmatizer()\n",
    "docs = [[lemmatizer.lemmatize(token) for token in doc] for doc in docs]"
   ]
  },
  {
   "cell_type": "code",
   "execution_count": 17,
   "metadata": {},
   "outputs": [
    {
     "name": "stderr",
     "output_type": "stream",
     "text": [
      "C:\\Users\\tomdu\\anaconda3\\lib\\site-packages\\ipykernel\\ipkernel.py:287: DeprecationWarning: `should_run_async` will not call `transform_cell` automatically in the future. Please pass the result to `transformed_cell` argument and any exception that happen during thetransform in `preprocessing_exc_tuple` in IPython 7.17 and above.\n",
      "  and should_run_async(code)\n"
     ]
    }
   ],
   "source": [
    "# Compute bigrams.\n",
    "from gensim.models import Phrases\n",
    "\n",
    "# Add bigrams and trigrams to docs (only ones that appear 20 times or more).\n",
    "bigram = Phrases(docs, min_count=20)\n",
    "for idx in range(len(docs)):\n",
    "    for token in bigram[docs[idx]]:\n",
    "        if '_' in token:\n",
    "            # Token is a bigram, add to document.\n",
    "            docs[idx].append(token)"
   ]
  },
  {
   "cell_type": "code",
   "execution_count": 18,
   "metadata": {},
   "outputs": [
    {
     "name": "stderr",
     "output_type": "stream",
     "text": [
      "C:\\Users\\tomdu\\anaconda3\\lib\\site-packages\\ipykernel\\ipkernel.py:287: DeprecationWarning: `should_run_async` will not call `transform_cell` automatically in the future. Please pass the result to `transformed_cell` argument and any exception that happen during thetransform in `preprocessing_exc_tuple` in IPython 7.17 and above.\n",
      "  and should_run_async(code)\n"
     ]
    }
   ],
   "source": [
    "# Remove rare and common tokens.\n",
    "from gensim.corpora import Dictionary\n",
    "\n",
    "# Create a dictionary representation of the documents.\n",
    "dictionary = Dictionary(docs)\n",
    "\n",
    "# Filter out words that occur less than 20 documents, or more than 50% of the documents.\n",
    "dictionary.filter_extremes(no_below=20, no_above=0.4)"
   ]
  },
  {
   "cell_type": "code",
   "execution_count": 19,
   "metadata": {},
   "outputs": [
    {
     "name": "stderr",
     "output_type": "stream",
     "text": [
      "C:\\Users\\tomdu\\anaconda3\\lib\\site-packages\\ipykernel\\ipkernel.py:287: DeprecationWarning: `should_run_async` will not call `transform_cell` automatically in the future. Please pass the result to `transformed_cell` argument and any exception that happen during thetransform in `preprocessing_exc_tuple` in IPython 7.17 and above.\n",
      "  and should_run_async(code)\n"
     ]
    }
   ],
   "source": [
    "# Bag-of-words representation of the documents.\n",
    "corpus = [dictionary.doc2bow(doc) for doc in docs]"
   ]
  },
  {
   "cell_type": "code",
   "execution_count": 20,
   "metadata": {},
   "outputs": [
    {
     "name": "stdout",
     "output_type": "stream",
     "text": [
      "Number of unique tokens: 2542\n",
      "Number of documents: 12887\n"
     ]
    },
    {
     "name": "stderr",
     "output_type": "stream",
     "text": [
      "C:\\Users\\tomdu\\anaconda3\\lib\\site-packages\\ipykernel\\ipkernel.py:287: DeprecationWarning: `should_run_async` will not call `transform_cell` automatically in the future. Please pass the result to `transformed_cell` argument and any exception that happen during thetransform in `preprocessing_exc_tuple` in IPython 7.17 and above.\n",
      "  and should_run_async(code)\n"
     ]
    }
   ],
   "source": [
    "print('Number of unique tokens: %d' % len(dictionary))\n",
    "print('Number of documents: %d' % len(corpus))"
   ]
  },
  {
   "cell_type": "code",
   "execution_count": 21,
   "metadata": {},
   "outputs": [
    {
     "name": "stderr",
     "output_type": "stream",
     "text": [
      "C:\\Users\\tomdu\\anaconda3\\lib\\site-packages\\ipykernel\\ipkernel.py:287: DeprecationWarning: `should_run_async` will not call `transform_cell` automatically in the future. Please pass the result to `transformed_cell` argument and any exception that happen during thetransform in `preprocessing_exc_tuple` in IPython 7.17 and above.\n",
      "  and should_run_async(code)\n"
     ]
    }
   ],
   "source": [
    "# Train LDA model.\n",
    "from gensim.models import LdaModel\n",
    "\n",
    "# Set training parameters.\n",
    "num_topics = 5\n",
    "chunksize = 200\n",
    "passes = 2\n",
    "iterations = 10\n",
    "eval_every = None  # Don't evaluate model perplexity, takes too much time.\n",
    "\n",
    "# Make a index to word dictionary.\n",
    "temp = dictionary[0]  # This is only to \"load\" the dictionary.\n",
    "id2word = dictionary.id2token\n",
    "\n",
    "lda_model = LdaModel(\n",
    "    corpus=corpus,\n",
    "    id2word=id2word,\n",
    "    chunksize=chunksize,\n",
    "    alpha='auto',\n",
    "    eta='auto',\n",
    "    iterations=iterations,\n",
    "    num_topics=num_topics,\n",
    "    passes=passes,\n",
    "    eval_every=eval_every\n",
    ")"
   ]
  },
  {
   "cell_type": "code",
   "execution_count": 22,
   "metadata": {},
   "outputs": [
    {
     "name": "stderr",
     "output_type": "stream",
     "text": [
      "C:\\Users\\tomdu\\anaconda3\\lib\\site-packages\\ipykernel\\ipkernel.py:287: DeprecationWarning: `should_run_async` will not call `transform_cell` automatically in the future. Please pass the result to `transformed_cell` argument and any exception that happen during thetransform in `preprocessing_exc_tuple` in IPython 7.17 and above.\n",
      "  and should_run_async(code)\n"
     ]
    },
    {
     "name": "stdout",
     "output_type": "stream",
     "text": [
      "Average topic coherence: -1.9074.\n",
      "[([(0.029152429, 'company'),\n",
      "   (0.01927901, 'good'),\n",
      "   (0.01409205, 'they'),\n",
      "   (0.013256738, 'rate'),\n",
      "   (0.012098501, 'agent'),\n",
      "   (0.011675641, 'there'),\n",
      "   (0.011448213, 'what'),\n",
      "   (0.009670127, 'question'),\n",
      "   (0.0094093885, 'state'),\n",
      "   (0.009014149, 'life'),\n",
      "   (0.008968152, 'carrier'),\n",
      "   (0.0088874595, 'need'),\n",
      "   (0.008474781, 'this'),\n",
      "   (0.008319421, 'more'),\n",
      "   (0.008131633, 'much'),\n",
      "   (0.008019678, 'find'),\n",
      "   (0.007926732, 'cost'),\n",
      "   (0.007921145, 'many'),\n",
      "   (0.0073414133, 'premium'),\n",
      "   (0.0070775864, 'help')],\n",
      "  -1.5046391242444446),\n",
      " ([(0.039847825, 'coverage'),\n",
      "   (0.035579447, 'cover'),\n",
      "   (0.022040457, 'home'),\n",
      "   (0.021904895, 'renter'),\n",
      "   (0.019442307, 'homeowner'),\n",
      "   (0.019002851, 'claim'),\n",
      "   (0.017225645, 'damage'),\n",
      "   (0.01587362, 'property'),\n",
      "   (0.011419094, 'loss'),\n",
      "   (0.0113813095, 'this'),\n",
      "   (0.011005811, 'personal'),\n",
      "   (0.010479993, 'liability'),\n",
      "   (0.0104361065, 'provide'),\n",
      "   (0.010243501, 'auto'),\n",
      "   (0.010105302, 'there'),\n",
      "   (0.008912474, 'limit'),\n",
      "   (0.008322188, 'vehicle'),\n",
      "   (0.0078086876, 'deductible'),\n",
      "   (0.007654666, 'from'),\n",
      "   (0.0068123336, 'what')],\n",
      "  -1.6615207428111507),\n",
      " ([(0.054509744, 'health'),\n",
      "   (0.028433803, 'disability'),\n",
      "   (0.018375756, 'coverage'),\n",
      "   (0.018090008, 'plan'),\n",
      "   (0.012902742, 'cover'),\n",
      "   (0.0128112575, 'medical'),\n",
      "   (0.012404105, 'benefit'),\n",
      "   (0.011948476, 'group'),\n",
      "   (0.011176295, 'care'),\n",
      "   (0.010399433, 'individual'),\n",
      "   (0.010126298, 'condition'),\n",
      "   (0.010123412, 'employer'),\n",
      "   (0.009644947, 'employee'),\n",
      "   (0.009301157, 'their'),\n",
      "   (0.009123818, 'period'),\n",
      "   (0.008791592, 'qualify'),\n",
      "   (0.008754124, 'this'),\n",
      "   (0.007744393, 'premium'),\n",
      "   (0.0074541657, 'under'),\n",
      "   (0.007070285, 'work')],\n",
      "  -1.8226173777742816),\n",
      " ([(0.08140123, 'life'),\n",
      "   (0.03618606, 'term'),\n",
      "   (0.024703164, 'long'),\n",
      "   (0.016824938, 'long_term'),\n",
      "   (0.015670732, 'care'),\n",
      "   (0.014866134, 'cash'),\n",
      "   (0.014308297, 'death'),\n",
      "   (0.013951152, 'value'),\n",
      "   (0.011017159, 'when'),\n",
      "   (0.010581538, 'benefit'),\n",
      "   (0.010329659, 'need'),\n",
      "   (0.010170408, 'premium'),\n",
      "   (0.010065868, 'year'),\n",
      "   (0.009824139, 'whole'),\n",
      "   (0.009212702, 'beneficiary'),\n",
      "   (0.008938802, 'what'),\n",
      "   (0.008499726, 'cash_value'),\n",
      "   (0.007824922, 'amount'),\n",
      "   (0.0078026457, 'whole_life'),\n",
      "   (0.0075177243, 'money')],\n",
      "  -1.857120587609915),\n",
      " ([(0.07470479, 'medicare'),\n",
      "   (0.059701506, 'plan'),\n",
      "   (0.030897085, 'part'),\n",
      "   (0.026232282, 'annuity'),\n",
      "   (0.016984183, 'retirement'),\n",
      "   (0.0162756, 'cover'),\n",
      "   (0.01619398, 'medigap'),\n",
      "   (0.012986376, 'medicare_part'),\n",
      "   (0.009088215, 'benefit'),\n",
      "   (0.008613867, 'security'),\n",
      "   (0.008060198, 'medigap_plan'),\n",
      "   (0.0077616135, 'advantage'),\n",
      "   (0.00761214, 'supplement'),\n",
      "   (0.0070003727, 'income'),\n",
      "   (0.006949502, 'deductible'),\n",
      "   (0.006939297, 'social'),\n",
      "   (0.0068792626, 'what'),\n",
      "   (0.0062283617, 'year'),\n",
      "   (0.0061498974, 'doctor'),\n",
      "   (0.00610271, 'social_security')],\n",
      "  -2.691154853435375)]\n"
     ]
    }
   ],
   "source": [
    "top_topics = lda_model.top_topics(corpus) #, num_words=20)\n",
    "\n",
    "# Average topic coherence is the sum of topic coherences of all topics, divided by the number of topics.\n",
    "avg_topic_coherence = sum([t[1] for t in top_topics]) / num_topics\n",
    "print('Average topic coherence: %.4f.' % avg_topic_coherence)\n",
    "\n",
    "from pprint import pprint\n",
    "pprint(top_topics)"
   ]
  },
  {
   "cell_type": "code",
   "execution_count": 26,
   "metadata": {},
   "outputs": [
    {
     "name": "stderr",
     "output_type": "stream",
     "text": [
      "C:\\Users\\tomdu\\anaconda3\\lib\\site-packages\\ipykernel\\ipkernel.py:287: DeprecationWarning: `should_run_async` will not call `transform_cell` automatically in the future. Please pass the result to `transformed_cell` argument and any exception that happen during thetransform in `preprocessing_exc_tuple` in IPython 7.17 and above.\n",
      "  and should_run_async(code)\n"
     ]
    }
   ],
   "source": [
    "!pip install pyLDAvis.gensim --user"
   ]
  },
  {
   "cell_type": "code",
   "execution_count": 31,
   "metadata": {},
   "outputs": [
    {
     "name": "stderr",
     "output_type": "stream",
     "text": [
      "C:\\Users\\tomdu\\anaconda3\\lib\\site-packages\\ipykernel\\ipkernel.py:287: DeprecationWarning: `should_run_async` will not call `transform_cell` automatically in the future. Please pass the result to `transformed_cell` argument and any exception that happen during thetransform in `preprocessing_exc_tuple` in IPython 7.17 and above.\n",
      "  and should_run_async(code)\n"
     ]
    }
   ],
   "source": [
    "import pyLDAvis.gensim_models"
   ]
  },
  {
   "cell_type": "code",
   "execution_count": 33,
   "metadata": {},
   "outputs": [
    {
     "name": "stderr",
     "output_type": "stream",
     "text": [
      "C:\\Users\\tomdu\\anaconda3\\lib\\site-packages\\ipykernel\\ipkernel.py:287: DeprecationWarning: `should_run_async` will not call `transform_cell` automatically in the future. Please pass the result to `transformed_cell` argument and any exception that happen during thetransform in `preprocessing_exc_tuple` in IPython 7.17 and above.\n",
      "  and should_run_async(code)\n"
     ]
    }
   ],
   "source": [
    "vis = pyLDAvis.gensim_models.prepare(lda_model, corpus, dictionary)"
   ]
  },
  {
   "cell_type": "code",
   "execution_count": 34,
   "metadata": {},
   "outputs": [
    {
     "name": "stderr",
     "output_type": "stream",
     "text": [
      "C:\\Users\\tomdu\\anaconda3\\lib\\site-packages\\ipykernel\\ipkernel.py:287: DeprecationWarning: `should_run_async` will not call `transform_cell` automatically in the future. Please pass the result to `transformed_cell` argument and any exception that happen during thetransform in `preprocessing_exc_tuple` in IPython 7.17 and above.\n",
      "  and should_run_async(code)\n"
     ]
    },
    {
     "data": {
      "text/html": [
       "\n",
       "<link rel=\"stylesheet\" type=\"text/css\" href=\"https://cdn.jsdelivr.net/gh/bmabey/pyLDAvis@3.3.1/pyLDAvis/js/ldavis.v1.0.0.css\">\n",
       "\n",
       "\n",
       "<div id=\"ldavis_el4254425451349400482006667635\"></div>\n",
       "<script type=\"text/javascript\">\n",
       "\n",
       "var ldavis_el4254425451349400482006667635_data = {\"mdsDat\": {\"x\": [-0.1031603253220474, -4.813343689230673e-06, 0.07438827041609497, -0.20758936784422144, 0.23636623609386362], \"y\": [-0.04339863552816642, -0.23417260492362402, 0.04457786492517439, 0.14160420869531917, 0.09138916683129691], \"topics\": [1, 2, 3, 4, 5], \"cluster\": [1, 1, 1, 1, 1], \"Freq\": [33.050528780857306, 19.501518228156943, 16.845760494226532, 15.346458349199057, 15.255734147560151]}, \"tinfo\": {\"Term\": [\"life\", \"medicare\", \"health\", \"plan\", \"term\", \"cover\", \"disability\", \"coverage\", \"annuity\", \"part\", \"company\", \"long\", \"renter\", \"home\", \"homeowner\", \"good\", \"long_term\", \"damage\", \"claim\", \"cash\", \"medigap\", \"property\", \"death\", \"retirement\", \"care\", \"value\", \"medicare_part\", \"benefit\", \"agent\", \"group\", \"quote\", \"record\", \"shop\", \"rating\", \"agency\", \"compare\", \"search\", \"customer\", \"driving\", \"aarp\", \"independent_agent\", \"commissioner\", \"advice\", \"underwriter\", \"happy\", \"prefer\", \"driving_record\", \"reputable\", \"many_factor\", \"independent\", \"hand\", \"score\", \"best\", \"competitive\", \"save_money\", \"farm\", \"represent\", \"florida\", \"medical_record\", \"usaa\", \"cheap\", \"online\", \"mutual\", \"tell\", \"great_question\", \"multiple\", \"good\", \"find\", \"company\", \"rate\", \"factor\", \"look\", \"license\", \"price\", \"sell\", \"website\", \"question\", \"carrier\", \"affect\", \"great\", \"agent\", \"broker\", \"exam\", \"help\", \"answer\", \"state\", \"they\", \"many\", \"much\", \"risk\", \"more\", \"offer\", \"contact\", \"make\", \"there\", \"about\", \"what\", \"cost\", \"need\", \"this\", \"premium\", \"some\", \"year\", \"their\", \"life\", \"other\", \"high\", \"most\", \"from\", \"long_term\", \"cash\", \"death\", \"whole\", \"cash_value\", \"whole_life\", \"loan\", \"death_benefit\", \"universal\", \"permanent\", \"universal_life\", \"debt\", \"borrow\", \"surrender\", \"estate\", \"proceeds\", \"funeral\", \"college\", \"face_amount\", \"lapse\", \"final_expense\", \"insured_person\", \"borrow_from\", \"creditor\", \"accidental_death\", \"survivor\", \"probate\", \"assist_living\", \"participate_whole\", \"love_one\", \"insurable\", \"insurable_interest\", \"beneficiary\", \"term\", \"long\", \"life\", \"asset\", \"value\", \"pas\", \"face\", \"care\", \"money\", \"insured\", \"interest\", \"child\", \"amount\", \"benefit\", \"when\", \"year\", \"premium\", \"need\", \"income\", \"take\", \"what\", \"person\", \"time\", \"from\", \"purchase\", \"there\", \"disability\", \"group\", \"illness\", \"short_term\", \"critical\", \"elimination\", \"cancer\", \"elimination_period\", \"disabled\", \"occupation\", \"critical_illness\", \"obamacare\", \"guarantee_issue\", \"subsidy\", \"waiting\", \"waiting_period\", \"affordable_care\", \"diagnose\", \"existing\", \"health\", \"marketplace\", \"existing_condition\", \"medical_condition\", \"cobra\", \"blue\", \"major_medical\", \"worker\", \"paycheck\", \"voluntary\", \"silver\", \"compensation\", \"employee\", \"condition\", \"employer\", \"individual\", \"qualify\", \"medical\", \"federal\", \"short\", \"open\", \"treatment\", \"disease\", \"affordable\", \"period\", \"exchange\", \"enrollment\", \"benefit\", \"coverage\", \"plan\", \"care\", \"under\", \"work\", \"cover\", \"their\", \"this\", \"through\", \"premium\", \"person\", \"most\", \"income\", \"provide\", \"some\", \"time\", \"there\", \"renter\", \"homeowner\", \"damage\", \"property\", \"liability\", \"personal_property\", \"local_agent\", \"fire\", \"peril\", \"replacement\", \"rent\", \"repair\", \"roof\", \"landlord\", \"water\", \"rental\", \"residence\", \"completely\", \"file_claim\", \"unit\", \"theft\", \"apartment\", \"tenant\", \"leak\", \"policy_completely\", \"collision\", \"flood\", \"property_damage\", \"fault\", \"lease\", \"house\", \"loss\", \"home\", \"personal\", \"claim\", \"exclusion\", \"limit\", \"vehicle\", \"coverage\", \"cover\", \"accident\", \"item\", \"cause\", \"auto\", \"provide\", \"deductible\", \"local\", \"typically\", \"this\", \"there\", \"require\", \"from\", \"most\", \"agent\", \"what\", \"shall\", \"then\", \"other\", \"medicare\", \"annuity\", \"medigap\", \"medicare_part\", \"security\", \"medigap_plan\", \"supplement\", \"social\", \"social_security\", \"medicare_supplement\", \"retirement_plan\", \"medicare_advantage\", \"contribution\", \"prescription_drug\", \"variable_annuity\", \"coinsurance\", \"defer\", \"original_medicare\", \"therapy\", \"roth\", \"outpatient\", \"401k\", \"skilled\", \"distribution\", \"tolerance\", \"inpatient\", \"defer_annuity\", \"risk_tolerance\", \"bracket\", \"nonqualified\", \"fixed\", \"hospital\", \"retirement_planner\", \"advantage\", \"prescription\", \"retirement\", \"part\", \"plan\", \"drug\", \"doctor\", \"original\", \"qualified\", \"cover\", \"deductible\", \"variable\", \"benefit\", \"income\", \"under\", \"service\", \"account\", \"year\", \"what\", \"when\", \"most\", \"other\", \"from\"], \"Freq\": [12572.0, 7600.0, 6150.0, 8107.0, 5044.0, 6755.0, 3194.0, 7741.0, 2669.0, 3705.0, 6997.0, 3450.0, 2242.0, 2675.0, 1990.0, 4432.0, 2188.0, 1763.0, 2545.0, 1934.0, 1648.0, 1625.0, 1861.0, 1923.0, 3626.0, 2074.0, 1321.0, 3694.0, 3301.0, 1343.0, 936.4901646327561, 485.40085609084304, 487.30641461546657, 463.48375165341446, 417.1834413488554, 487.24668631617044, 247.13132882580993, 223.4853620825089, 219.92467799263886, 219.9896915280411, 229.74151658649123, 193.40464603651398, 296.42888113224814, 182.98656052262058, 211.75424175880934, 171.2076678220785, 167.67970858004017, 167.843191708526, 148.6458030644343, 541.0463874644856, 148.2044986778177, 141.1780338396139, 432.06671753661203, 130.4651168174036, 121.3674936659994, 117.13554610592543, 115.57166783296704, 117.76751666789396, 112.9440459959547, 108.58884467736753, 604.647533315082, 617.9708951569598, 276.84797933614664, 325.8739064258115, 601.4445262958682, 396.41726121474545, 4248.853644927162, 1767.4371403790153, 6424.831941988062, 2921.6198174136184, 958.7542473861989, 1379.9682713651343, 692.0232618730566, 1054.7559943990518, 846.7767197007834, 613.4853717179798, 2131.1755045283835, 1976.4689467569767, 458.1207250819056, 1060.393955874022, 2666.3589231361, 953.4689086541526, 457.52847076019066, 1559.8118225609398, 1019.0567388379526, 2073.7119545601854, 3105.7120826830674, 1745.721695921169, 1792.1104697892904, 1084.4643578644261, 1833.496639400556, 1481.9859512040016, 1301.9824061617999, 1492.5436977991744, 2573.1657403274357, 1159.6100500728794, 2523.043434623586, 1746.9530019949752, 1958.6853074582957, 1867.7361435369328, 1617.9559877884712, 1481.8170289004938, 1509.400624825271, 1468.8485988852754, 1986.6061322344253, 1276.8553674539503, 1117.2106545183992, 1180.0221450443664, 1167.0866579571102, 2187.9153868870767, 1933.1924411475266, 1860.6512943611458, 1277.5312794369731, 1105.304536429053, 1014.6562305600783, 852.2911077419632, 731.8150567831026, 658.9995370816746, 538.8864504249091, 506.49542890731493, 476.5134209613085, 453.3732961652544, 408.6079411252837, 577.8561242247199, 390.4279954075348, 247.8158301414108, 234.14511335887372, 288.24570254643436, 194.4423049568832, 192.5252067186404, 217.22561174324508, 162.6416000056844, 144.79801997980448, 138.9898190750704, 112.00186544709037, 105.91042794700894, 105.90333548890368, 103.63146295888585, 104.44303091313235, 184.52524702624277, 129.51041955173594, 1198.0199342927422, 4705.6363430700085, 3212.39999315884, 10585.417756337494, 449.7007502066938, 1814.208092327106, 362.04786870368247, 391.3725564129118, 2037.8223208635704, 977.6050477544242, 838.4765434953576, 627.6257723727049, 574.5500244580393, 1017.553041751874, 1376.0234655040763, 1432.671571783406, 1308.965659305502, 1322.5600470084944, 1343.2691163567574, 905.6335986914519, 909.0632298522389, 1162.4020789863523, 760.9129372194762, 815.4099017124154, 905.9828776528273, 795.656989576378, 862.4694890702832, 3193.9947402007947, 1342.1830219381413, 706.1228554842688, 485.8431859377832, 436.33697278778703, 360.412266132199, 356.52373045051644, 339.38773691129524, 332.3674075771059, 315.3341734017, 308.0128891172886, 272.65268325299047, 267.2994931724735, 231.70703911507792, 206.57783693008648, 196.63578348021008, 192.90541457192353, 193.6189369908411, 187.13536775428, 6123.128619410714, 164.5855197557254, 160.86477554733298, 160.42398783085014, 157.89224713940584, 155.42067389933774, 152.30508269678865, 151.80548754087116, 149.09789992079052, 127.02164992680893, 131.02904280596124, 198.41820990000554, 1083.4255806920855, 1137.4962031505688, 1137.1719972269611, 1168.1776540869855, 987.5674405497874, 1439.1000883014, 327.42345032061996, 666.577735951331, 390.95303429489144, 413.683070798665, 347.9036086078379, 449.557544255404, 1024.8866913077534, 323.8876023510904, 467.6318414179995, 1393.3642467186255, 2064.1652382137177, 2032.0668640668005, 1255.4432387824977, 837.333146035519, 794.2114566370321, 1449.376652380749, 1044.807309297322, 983.358622055867, 574.4981274479036, 869.934619984511, 626.6766594467651, 727.5418404763772, 581.5356138558172, 593.5789903717096, 590.7223899047626, 561.668245564576, 588.1415057048915, 2241.5991844765545, 1989.5945164041477, 1762.7563483410204, 1624.399211030575, 1072.4518009782425, 650.3117878370081, 492.68101827305213, 421.31271575149054, 373.53842394918115, 368.0153882907459, 309.9439578036671, 302.58722493850183, 290.7282711538618, 282.28958521951074, 271.90088199730735, 260.30813965600606, 261.17289201656604, 247.36346824404475, 235.0690170315567, 234.808595383325, 209.21731978898873, 204.18636906201996, 198.59605979665128, 195.34977171538222, 189.02165670809748, 183.61463138865946, 174.69627403416197, 169.17160627299074, 180.22280024808362, 157.5371797895503, 230.92347608225836, 1168.553059839255, 2255.4716288583686, 1126.26048886116, 1944.6235814442578, 371.62514684262555, 912.0424539418727, 851.6365447107783, 4077.7575544797096, 3640.960543980176, 478.07362730739936, 419.44802050593626, 644.0277396035939, 1048.2507433464884, 1067.9607307752703, 799.0884119716253, 556.1098200342885, 455.9168677011052, 1164.6864297604232, 1034.1083944421516, 601.1526151671948, 783.3268741953281, 684.1840429714003, 634.6720025421806, 697.1282616833328, 592.2282774070517, 557.6232677100137, 593.2570977886294, 7599.590141822591, 2668.5650688767273, 1647.3858730849154, 1321.0817735502087, 876.2739051993458, 819.9501597694765, 774.3699506135604, 705.9228012395675, 620.8182345905772, 612.1215959797112, 599.7634217319944, 525.9174554229314, 429.21724430365356, 328.67371162338463, 319.7437948930585, 314.75824190644414, 347.95130949409327, 237.72686512627186, 234.65047883872182, 214.0642117979034, 193.99808935475016, 189.72036457008588, 187.1309987609945, 182.12082473618548, 178.30558229090374, 170.81363367008566, 162.93807529977255, 162.44786912661723, 144.30097970406052, 140.84008361944316, 218.3130521611359, 481.6338832222114, 197.2461241885209, 789.5756385253787, 477.2321295135393, 1727.7718692797876, 3143.1074772768648, 6073.331913081683, 521.5918267905051, 625.6185198900744, 306.57536466111884, 368.79003987893907, 1655.6888593102165, 706.9609350578169, 372.01419976658167, 924.5285820308595, 712.135924372936, 588.4579241764583, 495.77983617404544, 404.58028947828103, 633.6005680994668, 699.8155994941802, 582.2350900034942, 555.7043877150984, 546.1908848759919, 506.5678063755148], \"Total\": [12572.0, 7600.0, 6150.0, 8107.0, 5044.0, 6755.0, 3194.0, 7741.0, 2669.0, 3705.0, 6997.0, 3450.0, 2242.0, 2675.0, 1990.0, 4432.0, 2188.0, 1763.0, 2545.0, 1934.0, 1648.0, 1625.0, 1861.0, 1923.0, 3626.0, 2074.0, 1321.0, 3694.0, 3301.0, 1343.0, 937.3304052155165, 486.21760945244426, 488.1286055885777, 464.2980442167279, 418.0144932649583, 488.79455495394956, 247.96517060323734, 224.30034911669753, 220.73636713231917, 220.82775822050675, 230.63156021868195, 194.22053865906005, 297.70020974007315, 183.8024926351186, 212.71328022140275, 172.03328467803834, 168.48943507287382, 168.662684484398, 149.4600646318339, 544.0890913101518, 149.0516197323218, 141.98858164335056, 434.55330847391724, 131.2884859626284, 122.18826238852031, 117.95241367864053, 116.39123438382715, 118.60483489047533, 113.7636836294341, 109.4130462066082, 612.3350035027398, 630.1081018585136, 280.24965227954084, 330.722030605897, 614.5277974943556, 403.5675693151281, 4432.093105911791, 1840.2379390925635, 6997.793255553887, 3130.9462674006363, 1008.8995630870539, 1473.4873824659437, 724.336577296095, 1135.279501151216, 907.410753792991, 646.4356638223326, 2440.5322470853366, 2321.160049622824, 483.4720819627901, 1202.3189212706598, 3301.703514701493, 1080.02821481703, 484.96465227162344, 2061.3150029386156, 1250.270434725009, 2946.1052724722736, 4879.0890651028385, 2472.288084070263, 2558.9944408210536, 1403.0110309908644, 3004.4604930901937, 2278.7509599476766, 1928.1922050806052, 2339.828871857782, 5475.817956354441, 1678.8881329851993, 5567.915050245031, 3435.393638919847, 4545.121705157481, 5034.142118741169, 4232.3555272397325, 3451.2385573866513, 3710.584915887042, 3561.3591924875327, 12572.652731700928, 3306.7613365414927, 1679.4718231443774, 3589.2363784714425, 3924.3026588495277, 2188.73418914952, 1934.0042441347805, 1861.462486920513, 1278.3434484860832, 1106.113105595872, 1015.4652225498337, 853.1052574999477, 732.6244738000988, 659.8093084381773, 539.7037639413337, 507.30463187639447, 477.3272322348339, 454.18665947651976, 409.4180777049585, 579.0401463899891, 391.236373908868, 248.63116821897057, 234.97772571559508, 289.2789931947561, 195.26129011977852, 193.33653296522243, 218.22464409180566, 163.4497892969133, 145.60686828700983, 139.80431318812367, 112.84704164418049, 106.71863384190787, 106.71605386340369, 104.4395852440896, 105.25870152467455, 186.4251990473834, 130.65477997335012, 1244.3835449465878, 5044.993320083996, 3450.2007300497603, 12572.652731700928, 475.44900379840857, 2074.485837660473, 410.1187106406011, 450.5946755351716, 3626.620388462452, 1476.3739936931506, 1272.3997775449648, 877.8421460143354, 831.1478407000888, 2150.7714074226296, 3694.3740840302394, 4045.723997158182, 3710.584915887042, 4232.3555272397325, 4545.121705157481, 2199.704500487316, 2228.0998349304327, 5567.915050245031, 1808.6957175327464, 2472.1166331282334, 3924.3026588495277, 2354.3334390020973, 5475.817956354441, 3194.8008552796036, 1343.0169284239919, 706.9343540220249, 486.65843602878897, 437.1527215518927, 361.2167589637056, 357.32895370393487, 340.191672024858, 333.1762012580641, 316.1477683726355, 308.81641429464423, 273.45484926411376, 268.14172843708036, 232.5079113355431, 207.38480198488003, 197.4417847634997, 193.70713985397404, 194.43811916986687, 187.9378849359995, 6150.305990381594, 165.3900902960847, 161.6671355019837, 161.23344312156138, 158.69289909975674, 156.24335649171076, 153.11390096837695, 152.62460326424258, 149.92126070708082, 127.82821360404255, 131.86945031206622, 199.705520522411, 1154.374431301561, 1359.59366232034, 1373.962319249109, 1432.8029494706084, 1199.3902531603724, 1847.2087159946304, 358.63134413956845, 817.7045836710332, 455.0644630643821, 496.8877311764669, 401.4756266104486, 568.5457411577856, 1793.6389301939064, 392.48251514088867, 659.4872467957107, 3694.3740840302394, 7741.537864593399, 8107.0564101736845, 3626.620388462452, 1891.2816137206664, 1763.8004133436993, 6755.805720952913, 3561.3591924875327, 5034.142118741169, 1312.9018219717377, 4232.3555272397325, 1808.6957175327464, 3589.2363784714425, 2199.704500487316, 2566.5352796948614, 3451.2385573866513, 2472.1166331282334, 5475.817956354441, 2242.4153875803995, 1990.4116525846223, 1763.570767142957, 1625.219071877818, 1073.2703536651209, 651.1272794256572, 493.5109181460105, 422.1292202315226, 374.3520525136446, 368.8502066324557, 310.7605728848079, 303.40802350810446, 291.5439346189496, 283.1035577518607, 272.7150612333315, 261.1242546436848, 262.00273147447126, 248.19349150321776, 235.89244644419253, 235.6358273822857, 210.0316733110156, 205.0009057139091, 199.40984564273413, 196.1648231456907, 189.83498575959953, 184.4286258462813, 175.51379408276532, 169.9859098716514, 181.10150741590022, 158.3564029039971, 233.56519197865828, 1292.3811540230329, 2675.934516968452, 1331.791402507881, 2545.7527277411723, 410.01212688461203, 1198.6046539362062, 1137.4251781701983, 7741.537864593399, 6755.805720952913, 610.2115847421055, 512.5968227677074, 927.2396796916566, 1850.7645098336745, 2566.5352796948614, 1687.543952919312, 1019.8968366512527, 720.4596804569296, 5034.142118741169, 5475.817956354441, 1529.0129117997349, 3924.3026588495277, 3589.2363784714425, 3301.703514701493, 5567.915050245031, 2657.23618528985, 2033.3310713134401, 3306.7613365414927, 7600.390029096096, 2669.37135333184, 1648.1845778418347, 1321.8786889436765, 877.097173153193, 820.7476511411415, 775.1756762478808, 706.7284117147731, 621.620649542709, 612.9192762301363, 600.561753126063, 526.7146650274549, 430.01970499133654, 329.4748643480118, 320.54244160491794, 315.56126507969816, 348.86555055398617, 238.52328240487958, 235.46161872161025, 214.86312573752045, 194.7972664727345, 190.52465446512255, 187.94018815546892, 182.9235033214968, 179.11900519868826, 171.61448168970284, 163.73664381113187, 163.2499260735165, 145.09999488939275, 141.63798358231358, 219.58055163768037, 488.6195812081813, 198.63352470372308, 833.2117364954979, 500.23083616309617, 1923.6846979208335, 3705.816335070521, 8107.0564101736845, 612.6351411440103, 763.424365404229, 344.56908947249326, 452.1160612921881, 6755.805720952913, 1687.543952919312, 547.2682150468872, 3694.3740840302394, 2199.704500487316, 1891.2816137206664, 1159.248881968151, 663.223742096671, 3710.584915887042, 5567.915050245031, 4045.723997158182, 3589.2363784714425, 3306.7613365414927, 3924.3026588495277], \"Category\": [\"Default\", \"Default\", \"Default\", \"Default\", \"Default\", \"Default\", \"Default\", \"Default\", \"Default\", \"Default\", \"Default\", \"Default\", \"Default\", \"Default\", \"Default\", \"Default\", \"Default\", \"Default\", \"Default\", \"Default\", \"Default\", \"Default\", \"Default\", \"Default\", \"Default\", \"Default\", \"Default\", \"Default\", \"Default\", \"Default\", \"Topic1\", \"Topic1\", \"Topic1\", \"Topic1\", \"Topic1\", \"Topic1\", \"Topic1\", \"Topic1\", \"Topic1\", \"Topic1\", \"Topic1\", \"Topic1\", \"Topic1\", \"Topic1\", \"Topic1\", \"Topic1\", \"Topic1\", \"Topic1\", \"Topic1\", \"Topic1\", \"Topic1\", \"Topic1\", \"Topic1\", \"Topic1\", \"Topic1\", \"Topic1\", \"Topic1\", \"Topic1\", \"Topic1\", \"Topic1\", \"Topic1\", \"Topic1\", \"Topic1\", \"Topic1\", \"Topic1\", \"Topic1\", \"Topic1\", \"Topic1\", \"Topic1\", \"Topic1\", \"Topic1\", \"Topic1\", \"Topic1\", \"Topic1\", \"Topic1\", \"Topic1\", \"Topic1\", \"Topic1\", \"Topic1\", \"Topic1\", \"Topic1\", \"Topic1\", \"Topic1\", \"Topic1\", \"Topic1\", \"Topic1\", \"Topic1\", \"Topic1\", \"Topic1\", \"Topic1\", \"Topic1\", \"Topic1\", \"Topic1\", \"Topic1\", \"Topic1\", \"Topic1\", \"Topic1\", \"Topic1\", \"Topic1\", \"Topic1\", \"Topic1\", \"Topic1\", \"Topic1\", \"Topic1\", \"Topic1\", \"Topic1\", \"Topic1\", \"Topic1\", \"Topic1\", \"Topic2\", \"Topic2\", \"Topic2\", \"Topic2\", \"Topic2\", \"Topic2\", \"Topic2\", \"Topic2\", \"Topic2\", \"Topic2\", \"Topic2\", \"Topic2\", \"Topic2\", \"Topic2\", \"Topic2\", \"Topic2\", \"Topic2\", \"Topic2\", \"Topic2\", \"Topic2\", \"Topic2\", \"Topic2\", \"Topic2\", \"Topic2\", \"Topic2\", \"Topic2\", \"Topic2\", \"Topic2\", \"Topic2\", \"Topic2\", \"Topic2\", \"Topic2\", \"Topic2\", \"Topic2\", \"Topic2\", \"Topic2\", \"Topic2\", \"Topic2\", \"Topic2\", \"Topic2\", \"Topic2\", \"Topic2\", \"Topic2\", \"Topic2\", \"Topic2\", \"Topic2\", \"Topic2\", \"Topic2\", \"Topic2\", \"Topic2\", \"Topic2\", \"Topic2\", \"Topic2\", \"Topic2\", \"Topic2\", \"Topic2\", \"Topic2\", \"Topic2\", \"Topic2\", \"Topic3\", \"Topic3\", \"Topic3\", \"Topic3\", \"Topic3\", \"Topic3\", \"Topic3\", \"Topic3\", \"Topic3\", \"Topic3\", \"Topic3\", \"Topic3\", \"Topic3\", \"Topic3\", \"Topic3\", \"Topic3\", \"Topic3\", \"Topic3\", \"Topic3\", \"Topic3\", \"Topic3\", \"Topic3\", \"Topic3\", \"Topic3\", \"Topic3\", \"Topic3\", \"Topic3\", \"Topic3\", \"Topic3\", \"Topic3\", \"Topic3\", \"Topic3\", \"Topic3\", \"Topic3\", \"Topic3\", \"Topic3\", \"Topic3\", \"Topic3\", \"Topic3\", \"Topic3\", \"Topic3\", \"Topic3\", \"Topic3\", \"Topic3\", \"Topic3\", \"Topic3\", \"Topic3\", \"Topic3\", \"Topic3\", \"Topic3\", \"Topic3\", \"Topic3\", \"Topic3\", \"Topic3\", \"Topic3\", \"Topic3\", \"Topic3\", \"Topic3\", \"Topic3\", \"Topic3\", \"Topic3\", \"Topic3\", \"Topic3\", \"Topic3\", \"Topic4\", \"Topic4\", \"Topic4\", \"Topic4\", \"Topic4\", \"Topic4\", \"Topic4\", \"Topic4\", \"Topic4\", \"Topic4\", \"Topic4\", \"Topic4\", \"Topic4\", \"Topic4\", \"Topic4\", \"Topic4\", \"Topic4\", \"Topic4\", \"Topic4\", \"Topic4\", \"Topic4\", \"Topic4\", \"Topic4\", \"Topic4\", \"Topic4\", \"Topic4\", \"Topic4\", \"Topic4\", \"Topic4\", \"Topic4\", \"Topic4\", \"Topic4\", \"Topic4\", \"Topic4\", \"Topic4\", \"Topic4\", \"Topic4\", \"Topic4\", \"Topic4\", \"Topic4\", \"Topic4\", \"Topic4\", \"Topic4\", \"Topic4\", \"Topic4\", \"Topic4\", \"Topic4\", \"Topic4\", \"Topic4\", \"Topic4\", \"Topic4\", \"Topic4\", \"Topic4\", \"Topic4\", \"Topic4\", \"Topic4\", \"Topic4\", \"Topic4\", \"Topic5\", \"Topic5\", \"Topic5\", \"Topic5\", \"Topic5\", \"Topic5\", \"Topic5\", \"Topic5\", \"Topic5\", \"Topic5\", \"Topic5\", \"Topic5\", \"Topic5\", \"Topic5\", \"Topic5\", \"Topic5\", \"Topic5\", \"Topic5\", \"Topic5\", \"Topic5\", \"Topic5\", \"Topic5\", \"Topic5\", \"Topic5\", \"Topic5\", \"Topic5\", \"Topic5\", \"Topic5\", \"Topic5\", \"Topic5\", \"Topic5\", \"Topic5\", \"Topic5\", \"Topic5\", \"Topic5\", \"Topic5\", \"Topic5\", \"Topic5\", \"Topic5\", \"Topic5\", \"Topic5\", \"Topic5\", \"Topic5\", \"Topic5\", \"Topic5\", \"Topic5\", \"Topic5\", \"Topic5\", \"Topic5\", \"Topic5\", \"Topic5\", \"Topic5\", \"Topic5\", \"Topic5\", \"Topic5\", \"Topic5\"], \"logprob\": [30.0, 29.0, 28.0, 27.0, 26.0, 25.0, 24.0, 23.0, 22.0, 21.0, 20.0, 19.0, 18.0, 17.0, 16.0, 15.0, 14.0, 13.0, 12.0, 11.0, 10.0, 9.0, 8.0, 7.0, 6.0, 5.0, 4.0, 3.0, 2.0, 1.0, -5.461, -6.1182, -6.1142, -6.1644, -6.2696, -6.1144, -6.7932, -6.8938, -6.9099, -6.9096, -6.8662, -7.0384, -6.6113, -7.0937, -6.9477, -7.1603, -7.1811, -7.1801, -7.3016, -6.0096, -7.3045, -7.3531, -6.2346, -7.432, -7.5043, -7.5398, -7.5533, -7.5344, -7.5763, -7.6156, -5.8985, -5.8767, -6.6797, -6.5166, -5.9038, -6.3207, -3.9487, -4.8259, -3.5352, -4.3232, -5.4375, -5.0733, -5.7635, -5.3421, -5.5617, -5.884, -4.6387, -4.7141, -6.176, -5.3367, -4.4147, -5.443, -6.1773, -4.9508, -5.3765, -4.666, -4.2621, -4.8382, -4.812, -5.3143, -4.7892, -5.002, -5.1315, -4.9949, -4.4503, -5.2473, -4.4699, -4.8375, -4.7231, -4.7707, -4.9142, -5.0021, -4.9837, -5.0109, -4.709, -5.151, -5.2846, -5.2299, -5.2409, -4.0849, -4.2087, -4.2469, -4.6229, -4.7677, -4.8533, -5.0277, -5.1801, -5.2849, -5.4861, -5.5481, -5.6091, -5.6589, -5.7628, -5.4163, -5.8084, -6.2629, -6.3197, -6.1118, -6.5055, -6.5154, -6.3947, -6.684, -6.8003, -6.8412, -7.0571, -7.113, -7.1131, -7.1348, -7.127, -6.5578, -6.9118, -4.6872, -3.3191, -3.7008, -2.5084, -5.667, -4.2722, -5.8838, -5.8059, -4.156, -4.8905, -5.044, -5.3337, -5.422, -4.8504, -4.5486, -4.5083, -4.5986, -4.5883, -4.5727, -4.967, -4.9632, -4.7174, -5.1411, -5.0719, -4.9666, -5.0964, -5.0158, -3.5602, -4.4272, -5.0694, -5.4433, -5.5508, -5.742, -5.7528, -5.8021, -5.823, -5.8756, -5.8991, -6.021, -6.0408, -6.1837, -6.2985, -6.3479, -6.367, -6.3633, -6.3974, -2.9094, -6.5258, -6.5486, -6.5514, -6.5673, -6.5831, -6.6033, -6.6066, -6.6246, -6.7848, -6.7538, -6.3388, -4.6413, -4.5926, -4.5929, -4.566, -4.734, -4.3574, -5.8379, -5.127, -5.6606, -5.6041, -5.7773, -5.5209, -4.6969, -5.8488, -5.4815, -4.3897, -3.9967, -4.0124, -4.494, -4.899, -4.9519, -4.3503, -4.6776, -4.7382, -5.2757, -4.8608, -5.1888, -5.0395, -5.2635, -5.243, -5.2479, -5.2983, -5.2522, -3.821, -3.9403, -4.0614, -4.1431, -4.5583, -5.0585, -5.3361, -5.4926, -5.613, -5.6279, -5.7996, -5.8236, -5.8636, -5.8931, -5.9306, -5.9741, -5.9708, -6.0251, -6.0761, -6.0772, -6.1926, -6.217, -6.2447, -6.2612, -6.2941, -6.3232, -6.3729, -6.4051, -6.3418, -6.4763, -6.0939, -4.4725, -3.8149, -4.5093, -3.9632, -5.6181, -4.7203, -4.7888, -3.2227, -3.336, -5.3662, -5.4971, -5.0682, -4.5811, -4.5625, -4.8525, -5.215, -5.4137, -4.4758, -4.5947, -5.1371, -4.8724, -5.0078, -5.0829, -4.989, -5.1521, -5.2123, -5.1504, -2.5942, -3.6408, -4.1231, -4.3439, -4.7544, -4.8208, -4.878, -4.9706, -5.099, -5.1131, -5.1335, -5.2649, -5.4681, -5.735, -5.7625, -5.7783, -5.678, -6.0589, -6.072, -6.1638, -6.2622, -6.2845, -6.2983, -6.3254, -6.3466, -6.3895, -6.4367, -6.4397, -6.5582, -6.5824, -6.1441, -5.3529, -6.2456, -4.8586, -5.3621, -4.0755, -3.4771, -2.8184, -5.2732, -5.0913, -5.8046, -5.6198, -4.1181, -4.9691, -5.6111, -4.7008, -4.9618, -5.1526, -5.3239, -5.5272, -5.0786, -4.9792, -5.1632, -5.2098, -5.2271, -5.3024], \"loglift\": [30.0, 29.0, 28.0, 27.0, 26.0, 25.0, 24.0, 23.0, 22.0, 21.0, 20.0, 19.0, 18.0, 17.0, 16.0, 15.0, 14.0, 13.0, 12.0, 11.0, 10.0, 9.0, 8.0, 7.0, 6.0, 5.0, 4.0, 3.0, 2.0, 1.0, 1.1062, 1.1055, 1.1054, 1.1054, 1.1051, 1.104, 1.1038, 1.1035, 1.1034, 1.1033, 1.1033, 1.1029, 1.1029, 1.1027, 1.1026, 1.1023, 1.1023, 1.1023, 1.1017, 1.1015, 1.1014, 1.1014, 1.1014, 1.1008, 1.1004, 1.1002, 1.1001, 1.1, 1.0999, 1.0996, 1.0945, 1.0877, 1.0949, 1.0924, 1.0856, 1.0893, 1.0649, 1.0668, 1.0217, 1.0379, 1.0562, 1.0416, 1.0615, 1.0336, 1.038, 1.0548, 0.9716, 0.9464, 1.0533, 0.9815, 0.8934, 0.9825, 1.0489, 0.8284, 0.9027, 0.756, 0.6554, 0.7592, 0.7509, 0.8496, 0.6133, 0.6769, 0.7144, 0.6575, 0.3519, 0.7371, 0.3156, 0.4309, 0.2654, 0.1156, 0.1455, 0.2617, 0.2077, 0.2215, -0.738, 0.1556, 0.6995, -0.0053, -0.1055, 1.6343, 1.6343, 1.6342, 1.634, 1.6339, 1.6339, 1.6337, 1.6336, 1.6334, 1.6332, 1.6331, 1.633, 1.6329, 1.6327, 1.6326, 1.6326, 1.6314, 1.6311, 1.6311, 1.6305, 1.6305, 1.6301, 1.6297, 1.6291, 1.6288, 1.6272, 1.6271, 1.627, 1.6269, 1.6269, 1.6244, 1.6259, 1.5967, 1.565, 1.5633, 1.4626, 1.579, 1.5006, 1.51, 1.4938, 1.0583, 1.2224, 1.2176, 1.2992, 1.2655, 0.8863, 0.6471, 0.5966, 0.5927, 0.4715, 0.4157, 0.7472, 0.7382, 0.0681, 0.7688, 0.5255, 0.1688, 0.5498, -0.2136, 1.7808, 1.7805, 1.7799, 1.7794, 1.7792, 1.7788, 1.7788, 1.7787, 1.7786, 1.7785, 1.7785, 1.7781, 1.7779, 1.7776, 1.7772, 1.777, 1.7769, 1.7768, 1.7768, 1.7766, 1.7762, 1.7761, 1.776, 1.776, 1.7758, 1.7758, 1.7757, 1.7756, 1.7747, 1.7747, 1.7746, 1.7176, 1.6027, 1.5919, 1.5769, 1.5867, 1.5314, 1.69, 1.5767, 1.6292, 1.5978, 1.6378, 1.5463, 1.2214, 1.589, 1.4373, 0.806, 0.4592, 0.3974, 0.7203, 0.9663, 0.9832, 0.2418, 0.5548, 0.148, 0.9546, 0.199, 0.7211, 0.185, 0.4507, 0.3169, 0.0159, 0.2992, -0.4501, 1.8739, 1.8739, 1.8738, 1.8738, 1.8735, 1.873, 1.8726, 1.8723, 1.8721, 1.872, 1.8717, 1.8716, 1.8715, 1.8714, 1.8713, 1.8712, 1.8711, 1.8709, 1.8708, 1.8708, 1.8704, 1.8703, 1.8702, 1.8701, 1.87, 1.8699, 1.8696, 1.8695, 1.8694, 1.8691, 1.8629, 1.7736, 1.7033, 1.7067, 1.6049, 1.776, 1.6011, 1.5849, 1.2332, 1.2561, 1.6302, 1.6737, 1.5098, 1.3058, 0.9975, 1.1267, 1.2678, 1.4167, 0.4105, 0.2075, 0.9408, 0.2629, 0.2168, 0.2252, -0.2035, 0.3731, 0.5805, 0.1562, 1.8801, 1.8799, 1.8797, 1.8796, 1.8793, 1.8792, 1.8792, 1.8791, 1.8789, 1.8789, 1.8789, 1.8787, 1.8783, 1.8778, 1.8777, 1.8777, 1.8776, 1.8769, 1.8768, 1.8765, 1.8761, 1.876, 1.8759, 1.8758, 1.8757, 1.8755, 1.8753, 1.8753, 1.8747, 1.8746, 1.8744, 1.8658, 1.8732, 1.8264, 1.8331, 1.7728, 1.7155, 1.5914, 1.7193, 1.6811, 1.7634, 1.6765, 0.474, 1.0102, 1.4942, 0.4949, 0.7524, 0.7127, 1.0308, 1.386, 0.1127, -0.1937, -0.0583, 0.0148, 0.0795, -0.1671]}, \"token.table\": {\"Topic\": [5, 1, 1, 2, 3, 4, 5, 1, 3, 4, 2, 1, 2, 5, 2, 5, 1, 3, 1, 2, 1, 3, 3, 1, 1, 4, 1, 2, 3, 4, 5, 5, 1, 2, 3, 4, 5, 4, 1, 2, 3, 2, 1, 4, 2, 5, 2, 3, 5, 1, 3, 5, 3, 2, 2, 5, 1, 3, 3, 2, 3, 5, 1, 3, 4, 5, 2, 2, 1, 2, 3, 4, 1, 2, 3, 4, 2, 3, 1, 2, 3, 4, 3, 5, 2, 4, 1, 1, 2, 3, 4, 5, 1, 5, 3, 5, 1, 4, 1, 2, 3, 4, 5, 1, 2, 3, 4, 5, 5, 1, 2, 3, 4, 5, 2, 3, 4, 5, 1, 2, 3, 4, 5, 2, 3, 3, 1, 4, 2, 2, 2, 3, 4, 5, 5, 5, 3, 3, 3, 1, 3, 5, 5, 3, 5, 1, 1, 1, 5, 3, 3, 3, 5, 3, 5, 3, 5, 1, 2, 1, 3, 5, 2, 3, 5, 3, 4, 3, 3, 1, 2, 2, 1, 3, 1, 4, 2, 3, 5, 4, 2, 1, 3, 4, 4, 2, 5, 4, 1, 1, 2, 3, 4, 5, 2, 1, 2, 3, 4, 5, 1, 2, 3, 4, 5, 1, 2, 4, 3, 3, 1, 1, 1, 3, 5, 1, 2, 3, 4, 5, 1, 2, 3, 4, 5, 1, 2, 4, 4, 3, 5, 1, 4, 3, 2, 3, 5, 1, 3, 1, 1, 3, 4, 5, 5, 1, 2, 1, 2, 1, 2, 3, 4, 5, 2, 1, 2, 4, 5, 1, 4, 5, 4, 2, 4, 4, 4, 1, 4, 1, 2, 2, 3, 4, 5, 2, 1, 4, 5, 4, 1, 2, 3, 2, 1, 2, 3, 4, 5, 2, 3, 4, 2, 3, 1, 2, 3, 4, 5, 1, 2, 3, 4, 5, 1, 3, 1, 3, 4, 5, 3, 1, 5, 5, 5, 5, 5, 5, 1, 2, 4, 5, 1, 2, 3, 4, 5, 1, 2, 3, 4, 5, 1, 2, 3, 4, 5, 1, 3, 1, 5, 1, 2, 3, 4, 5, 5, 3, 3, 1, 2, 3, 4, 5, 1, 4, 3, 4, 5, 2, 5, 5, 1, 2, 3, 4, 5, 5, 1, 2, 3, 4, 5, 2, 1, 2, 3, 5, 3, 4, 2, 3, 5, 2, 1, 2, 3, 4, 5, 1, 3, 4, 5, 4, 1, 3, 5, 4, 1, 1, 2, 3, 4, 5, 1, 5, 5, 1, 2, 2, 2, 4, 4, 1, 2, 3, 4, 5, 1, 2, 3, 4, 5, 2, 3, 5, 1, 3, 5, 1, 2, 3, 4, 5, 1, 1, 2, 5, 1, 1, 4, 4, 4, 4, 4, 1, 1, 1, 2, 3, 4, 5, 4, 2, 5, 5, 1, 5, 1, 2, 3, 4, 5, 5, 4, 5, 1, 1, 1, 5, 1, 2, 3, 5, 1, 2, 3, 4, 5, 1, 2, 3, 4, 5, 1, 2, 3, 4, 3, 3, 5, 5, 5, 1, 2, 3, 4, 5, 1, 2, 3, 4, 5, 3, 5, 2, 2, 1, 2, 3, 4, 5, 1, 2, 4, 4, 1, 2, 3, 4, 1, 2, 3, 4, 5, 1, 2, 3, 4, 5, 5, 1, 2, 3, 4, 5, 1, 2, 3, 4, 5, 1, 2, 3, 4, 5, 1, 2, 3, 4, 5, 1, 2, 3, 4, 5, 5, 3, 5, 1, 2, 3, 4, 5, 2, 3, 4, 5, 1, 4, 2, 2, 1, 1, 2, 4, 1, 2, 5, 5, 1, 4, 3, 3, 3, 4, 1, 3, 5, 1, 2, 3, 4, 5, 1, 2, 3, 4, 5, 2, 2, 1, 2, 3, 4, 5, 3, 1, 2, 3, 5], \"Freq\": [0.9972462647073396, 0.9962515662560855, 0.6909334679359642, 0.0542025392949765, 0.06432828839403805, 0.14235611968680642, 0.048246216295528534, 0.14748982525141147, 0.06718980928119855, 0.7833348496686076, 0.9942468642792059, 0.05126475100622104, 0.33774424192333863, 0.6106536516917507, 0.051607530375002514, 0.9481383487500462, 0.9942888527302093, 0.003359083961926383, 0.9473142650566728, 0.051709293944141525, 0.20754706518371766, 0.7914930451921436, 0.9963494383608827, 0.9975730667684882, 0.8074619626290197, 0.19232496109130814, 0.18597978316967623, 0.47331854816682595, 0.078111508931264, 0.2208509925139905, 0.04184545121317715, 0.9998608836004116, 0.8150236714380311, 0.01839602006189864, 0.09038044639106724, 0.07518373416602053, 0.0007998269592129844, 0.9951175546740954, 0.027342574905282645, 0.9464737467213223, 0.025239299912568597, 0.9932901017468259, 0.43333443868127475, 0.5662524834638104, 0.9627256844282855, 0.03696609472763033, 0.37245822125812017, 0.3770598126544778, 0.2503807083312218, 0.9941242917172025, 0.0023012136382342652, 0.0023012136382342652, 0.9920421800988592, 0.9973872868087155, 0.997248150035261, 0.9924190563188424, 0.8823843552656168, 0.116663618849389, 0.9990794093215087, 0.5619557002667251, 0.34605220992872426, 0.09182102462650613, 0.8512984704872417, 0.0646228596017643, 0.07237760275397602, 0.011201295664305812, 0.9994807435723959, 0.9989936783225506, 0.02156939617451529, 0.187653746718283, 0.09598381297659303, 0.6945345568193922, 0.9880212572190363, 0.001633092987138903, 0.001633092987138903, 0.008165464935694516, 0.6918143461886017, 0.3080077784770123, 0.19247745260584417, 0.013355578344078982, 0.029853645710294197, 0.7640176435068712, 0.9956337107476928, 0.9982213752389527, 0.9958390706497071, 0.9976759256090832, 0.9937157075791937, 0.9181465878404906, 0.02643690564209973, 0.0014290219265999855, 0.05387412663281945, 0.00014290219265999853, 0.9963286109966617, 0.0020458493038945824, 0.9914598228534217, 0.0050073728426940495, 0.9901858418643416, 0.9951912860567406, 0.022065416183832995, 0.0029420554911777324, 0.8362792733672705, 0.1331280109757924, 0.0044130832367665985, 0.6752438872895308, 0.002074481988600709, 0.040971019274864004, 0.18618475847691363, 0.0959447919727828, 0.9976287017094785, 0.5085297883212271, 0.13331805555301776, 0.15136547792045685, 0.12691413148715228, 0.08004905082331852, 0.0014802083442076084, 0.21448218907568245, 0.5389438581259902, 0.24512250180077996, 0.13356519312901505, 0.0346184446407892, 0.2666136930544362, 0.5267687210639491, 0.038493643667743216, 0.9958321451855305, 0.997363114776455, 0.9973563118511398, 0.994202643367171, 0.9996763571082086, 0.9997515464728607, 0.999147620885691, 0.9993144488461264, 0.10725646563864895, 0.47346914942143925, 0.41895205086477794, 0.997518956650745, 0.9955010448853369, 0.9977467423993949, 0.9997493254459726, 0.9964697320708298, 0.0024908112316623866, 0.8668023086185106, 0.1320129952781065, 0.9949514233833926, 0.17945458149932017, 0.8199895475808353, 0.9966640425323401, 0.9970951586806488, 0.1469063622957338, 0.8520569013152561, 0.9966314991386436, 0.9964970570332746, 0.9381704676002863, 0.060638903723010194, 0.8275336114176607, 0.17176599146399993, 0.7096422292832788, 0.28961894400236377, 0.0017269959712370106, 0.9982036713749921, 0.9443987264941511, 0.004124011906087996, 0.05155014882609995, 0.12229844170961231, 0.825514481539883, 0.05095768404567179, 0.09268018555630228, 0.9072902375511698, 0.9950096015163792, 0.9958734006147124, 0.13093807628757634, 0.8677421665837686, 0.9955786862342437, 0.9505406039285317, 0.04955894702442814, 0.9919254413798148, 0.9939177346913486, 0.05019081654222322, 0.9117998338503884, 0.03624892305827233, 0.9962167230971355, 0.9982593410564419, 0.9602019187102089, 0.004890671911936548, 0.03423470338355584, 0.9973249418012256, 0.004554137388497199, 0.9928019506923893, 0.9970726284765798, 0.9949004196073975, 0.2973776748254491, 0.23086904318068283, 0.14295533468472743, 0.19952589493429873, 0.12919492813753441, 0.9974614276098535, 0.9586892464719275, 0.030459648922972517, 0.0040612865230630025, 0.0020306432615315013, 0.004738167610240169, 0.8816296418921434, 0.0914898684982413, 0.014139343313364566, 0.00998071292708087, 0.0024951782317702174, 0.977986679285277, 0.01627265689326584, 0.004881797067979752, 0.9992428029740584, 0.9957420710169388, 0.9929445937306124, 0.9966467527525299, 0.0042274319425181705, 0.9955602224630291, 0.00016259353625069887, 0.756798450395044, 0.02377123337779305, 0.09751056957013067, 0.014068689141959152, 0.10769824101775627, 0.6650900506974305, 0.05061114978449561, 0.07264188557304076, 0.03215296574544427, 0.17922301276627267, 0.0201798660085211, 0.13677464739108747, 0.842696256466946, 0.9997931821871683, 0.01227949151191229, 0.9864524847902874, 0.008562919770094627, 0.9890172334459294, 0.9986783015753741, 0.41187350382712196, 0.26458099252470746, 0.32367983965221947, 0.9943224531432648, 0.0036758685883299994, 0.9972616054017798, 0.0774705272912875, 0.8151853682542686, 0.018146249635797074, 0.0893353828223856, 0.9964194065462734, 0.00536408170735455, 0.9923551158605917, 0.007653757483683121, 0.9949884728788058, 0.012574664254399072, 0.6585980403241514, 0.04636907443809658, 0.2695693649536801, 0.012574664254399072, 0.9943881494370065, 0.033035552156693127, 0.7153905777380443, 0.025061453360249956, 0.22669223721317006, 0.0019508509526075784, 0.8174065491425754, 0.1794782876398972, 0.9961019290586663, 0.9935405009410477, 0.9940620182201292, 0.9977493622142127, 0.9988163712332286, 0.9553569731121332, 0.044178357138133326, 0.15804142867876564, 0.8419066545368566, 0.0625727588773335, 0.05840124161884461, 0.7608847479483755, 0.11847109014108477, 0.9987044300920302, 0.4039624256045034, 0.5451531763012231, 0.05098554886270431, 0.998964727775568, 0.010724013729910251, 0.9309603270397764, 0.057967641783298655, 0.9996645599300457, 0.9365536593129908, 0.011537255223420901, 0.02035986215897806, 0.008143944863591225, 0.023074510446841803, 0.07660278834291608, 0.019344138470433352, 0.9045319148774635, 0.988041829260268, 0.992725017380316, 0.6380808519618723, 0.16796100121970248, 0.03632744301189494, 0.09744302360837702, 0.06026081723149631, 0.7062283765593631, 0.07280704912983126, 0.11972714745794473, 0.0772563687988765, 0.024269016376610417, 0.9969218223411909, 0.9976413925684038, 0.07200052644207348, 0.7790132146627349, 0.03572958455020188, 0.11314368440897261, 0.9923499548376484, 0.9932871052952041, 0.9999486830156606, 0.9986431647438226, 0.9993352726305175, 0.9985001675330061, 0.9992812832629548, 0.9990890608823527, 0.16052843047386953, 0.6624337763858413, 0.016933378741969356, 0.15985109532419073, 0.6100928949525626, 0.09652315304759583, 0.16342368326334328, 0.0755543301441526, 0.05425266878192455, 0.3287607378209316, 0.1231459712854676, 0.202828658587829, 0.19056978361823493, 0.15490760188850677, 0.7002750656328259, 0.07620180680714345, 0.08597126921831569, 0.03595162167311383, 0.10160240907619127, 0.9812483214942901, 0.017345298612272804, 0.9884044377821407, 0.010704741203416687, 0.431011560763503, 0.2954816366030549, 0.07590555817427694, 0.09526697591148381, 0.1023074914522863, 0.9954956744922677, 0.9983366567996955, 0.9963695192961709, 0.6503562811594071, 0.010093248627980002, 0.21854077464061047, 0.033351604162020876, 0.08732854247687045, 0.9807840879639532, 0.019044351222601036, 0.8592189277251511, 0.03515985381995503, 0.10547956145986509, 0.10738049677248744, 0.8909679056528013, 0.9978061579582351, 0.38617845983877414, 0.1164281182755897, 0.15301981259077505, 0.17932954321409011, 0.16511624046356357, 0.9959071988679775, 0.004587383308535309, 0.03427045177552849, 0.04047691154589979, 0.07258859470564695, 0.8481262199250869, 0.9957910092896077, 0.08534114414173001, 0.8826712622658933, 0.02925982084859315, 0.002438318404049429, 0.9938550362854752, 0.9990595683627733, 0.2954886800671208, 0.5714639567335826, 0.13269114312448066, 0.9986960180966791, 0.13877403344681477, 0.4207451771036894, 0.3466586413193341, 0.08846153526490186, 0.005528845954056366, 0.09836375257665383, 0.004505210041678802, 0.8454777511550551, 0.05105904713902642, 0.9982687264667339, 0.00012334933290276392, 0.25064584445841626, 0.7491004987184853, 0.9956015180433762, 0.9939936932555108, 0.38229302561810796, 0.31259188683112293, 0.2055592906599221, 0.009687276916157249, 0.09002079280624174, 0.04397969579153869, 0.9535597678438161, 0.9985587235950412, 0.9292865756231751, 0.07046722848327394, 0.9932660884417575, 0.9968398288315697, 0.9992499030445112, 0.994200049448829, 0.1550728732033322, 0.13130542278774612, 0.2314404188009531, 0.41612519744009746, 0.06662678723057741, 0.2556987001191991, 0.3380999423503031, 0.20982584361940923, 0.14059181019843006, 0.056066824610854285, 0.0552955361252767, 0.12828564381064195, 0.816162113209084, 0.03418403634010341, 0.8237519000981017, 0.14173868726384342, 0.8731701875871533, 0.012702147261943571, 0.034828468298877535, 0.027043281267363734, 0.052447575791250874, 0.998580644340444, 0.9332641797222195, 0.018524751000646385, 0.04790883879477513, 0.997204286701406, 0.997495752048521, 0.9975525438193543, 0.9956945606404165, 0.9998147588610478, 0.998655198687936, 0.9976949812764971, 0.9966386267325169, 0.9960709478422934, 0.2753410365282391, 0.05362937053519146, 0.20993936514385925, 0.39306404502012277, 0.06736372152591122, 0.9961728205319532, 0.1013679633729794, 0.898276106197479, 0.9990646205437843, 0.0050343968949429635, 0.9917761883037639, 0.7726240037004088, 0.0506054467368349, 0.0028510110837653463, 0.06842426601036831, 0.10548741009931781, 0.992343481534236, 0.9981342962265343, 0.9959829043045066, 0.9902751511045962, 0.9930375975877153, 0.996107636403575, 0.9987490859772713, 0.9334251290934418, 0.052897764104468954, 0.013224441026117239, 0.0011020367521764366, 0.341600501979936, 0.003450510121009455, 0.21565688256309093, 0.01121415789328073, 0.4278632550051724, 0.36391194932283377, 0.24085175549804924, 0.09445904785939119, 0.22278787383569557, 0.0779004896689003, 0.9976878929535038, 0.18221739608095858, 0.8156980079597274, 0.0012229355441675074, 0.9986470263740583, 0.9934067343876183, 0.9949974076077269, 0.9989693187613532, 0.9990015622177841, 0.42941105790212336, 0.17240187547352456, 0.17124287126866053, 0.10691813789870683, 0.12024668625464317, 0.7039802750359861, 0.014934972083694981, 0.1812562521066618, 0.09945333683005976, 0.000678862367440681, 0.997815509448149, 0.998483342184353, 0.998978848937736, 0.9924938958803076, 0.4883084603944465, 0.4079709471494043, 0.04802298277776266, 0.019298955695736395, 0.036353846775689494, 0.9857220560806125, 0.003023687288590836, 0.012094749154363343, 0.997944707085986, 0.00019821631795210199, 0.932805992282592, 0.06699711546781047, 0.9950880107997431, 0.4124829652394414, 0.18139141970366177, 0.2934272965794529, 0.06767079279966329, 0.045207459090231494, 0.3260659365086729, 0.19868874562519434, 0.12295095645123412, 0.2744265347991546, 0.07770500447717997, 0.9980395160616133, 0.46988413795132633, 0.15741940416402772, 0.1073812176896152, 0.18883023654942535, 0.07633562754125706, 0.6365942409650466, 0.14039505958179552, 0.09468980660845187, 0.0662008821093722, 0.062101756282166486, 0.37106620272911756, 0.1400437221220706, 0.1952666366609864, 0.2314197677620032, 0.062175439750649784, 0.380074116471705, 0.08835390282708976, 0.43719948467887515, 0.026658505163346044, 0.0670270986964129, 0.33574467679937586, 0.32967700191745947, 0.22733555224246896, 0.028315816115610015, 0.07887977346491361, 0.9937527277049859, 0.8331861988618314, 0.16703974518244447, 0.23040845241293664, 0.005552010901516545, 0.08883217442426472, 0.6329292427728862, 0.04164008176137409, 0.0010574839756758673, 0.4425570438203504, 0.2453362823568012, 0.31090028884870496, 0.9956339404128121, 0.9973016523448527, 0.9987734207022739, 0.9974283067915841, 0.9962248907152422, 0.0009640943137290948, 0.874433542552289, 0.12436816647105323, 0.157144152785544, 0.16262592555713276, 0.6797398236770043, 0.9983077385877452, 0.2505659321332116, 0.7490602602719167, 0.9935208857208315, 0.9981445024842849, 0.9977624555813812, 0.9973779914094305, 0.9482768886471553, 0.0030938887068422687, 0.047955274956055165, 0.4531319133342325, 0.20869571276035598, 0.08728581445915061, 0.1251815075679588, 0.1257203088917807, 0.25854457712259576, 0.3542011271669978, 0.1369346995467668, 0.10653223015280953, 0.14385558688848063, 0.9997313331667715, 0.9995418626462996, 0.38609810659302657, 0.08787842367389005, 0.4501643122391529, 0.012473066585971491, 0.06293229050194707, 0.995907584682391, 0.4066744284813821, 0.35277457049842886, 0.06953081679800967, 0.17086254980596172], \"Term\": [\"401k\", \"aarp\", \"about\", \"about\", \"about\", \"about\", \"about\", \"accident\", \"accident\", \"accident\", \"accidental_death\", \"account\", \"account\", \"account\", \"advantage\", \"advantage\", \"advice\", \"advice\", \"affect\", \"affect\", \"affordable\", \"affordable\", \"affordable_care\", \"agency\", \"agent\", \"agent\", \"amount\", \"amount\", \"amount\", \"amount\", \"amount\", \"annuity\", \"answer\", \"answer\", \"answer\", \"answer\", \"answer\", \"apartment\", \"asset\", \"asset\", \"asset\", \"assist_living\", \"auto\", \"auto\", \"beneficiary\", \"beneficiary\", \"benefit\", \"benefit\", \"benefit\", \"best\", \"best\", \"best\", \"blue\", \"borrow\", \"borrow_from\", \"bracket\", \"broker\", \"broker\", \"cancer\", \"care\", \"care\", \"care\", \"carrier\", \"carrier\", \"carrier\", \"carrier\", \"cash\", \"cash_value\", \"cause\", \"cause\", \"cause\", \"cause\", \"cheap\", \"cheap\", \"cheap\", \"cheap\", \"child\", \"child\", \"claim\", \"claim\", \"claim\", \"claim\", \"cobra\", \"coinsurance\", \"college\", \"collision\", \"commissioner\", \"company\", \"company\", \"company\", \"company\", \"company\", \"compare\", \"compare\", \"compensation\", \"compensation\", \"competitive\", \"completely\", \"condition\", \"condition\", \"condition\", \"condition\", \"condition\", \"contact\", \"contact\", \"contact\", \"contact\", \"contact\", \"contribution\", \"cost\", \"cost\", \"cost\", \"cost\", \"cost\", \"cover\", \"cover\", \"cover\", \"cover\", \"coverage\", \"coverage\", \"coverage\", \"coverage\", \"coverage\", \"creditor\", \"critical\", \"critical_illness\", \"customer\", \"damage\", \"death\", \"death_benefit\", \"debt\", \"deductible\", \"deductible\", \"deductible\", \"defer\", \"defer_annuity\", \"diagnose\", \"disability\", \"disabled\", \"disease\", \"disease\", \"disease\", \"distribution\", \"doctor\", \"doctor\", \"driving\", \"driving_record\", \"drug\", \"drug\", \"elimination\", \"elimination_period\", \"employee\", \"employee\", \"employer\", \"employer\", \"enrollment\", \"enrollment\", \"estate\", \"estate\", \"exam\", \"exam\", \"exam\", \"exchange\", \"exchange\", \"exchange\", \"exclusion\", \"exclusion\", \"existing\", \"existing_condition\", \"face\", \"face\", \"face_amount\", \"factor\", \"factor\", \"farm\", \"fault\", \"federal\", \"federal\", \"federal\", \"file_claim\", \"final_expense\", \"find\", \"find\", \"find\", \"fire\", \"fixed\", \"fixed\", \"flood\", \"florida\", \"from\", \"from\", \"from\", \"from\", \"from\", \"funeral\", \"good\", \"good\", \"good\", \"good\", \"good\", \"great\", \"great\", \"great\", \"great\", \"great\", \"great_question\", \"great_question\", \"great_question\", \"group\", \"guarantee_issue\", \"hand\", \"happy\", \"health\", \"health\", \"health\", \"help\", \"help\", \"help\", \"help\", \"help\", \"high\", \"high\", \"high\", \"high\", \"high\", \"home\", \"home\", \"home\", \"homeowner\", \"hospital\", \"hospital\", \"house\", \"house\", \"illness\", \"income\", \"income\", \"income\", \"independent\", \"independent\", \"independent_agent\", \"individual\", \"individual\", \"individual\", \"individual\", \"inpatient\", \"insurable\", \"insurable\", \"insurable_interest\", \"insurable_interest\", \"insured\", \"insured\", \"insured\", \"insured\", \"insured\", \"insured_person\", \"interest\", \"interest\", \"interest\", \"interest\", \"item\", \"item\", \"item\", \"landlord\", \"lapse\", \"leak\", \"lease\", \"liability\", \"license\", \"license\", \"life\", \"life\", \"limit\", \"limit\", \"limit\", \"limit\", \"loan\", \"local\", \"local\", \"local\", \"local_agent\", \"long\", \"long\", \"long\", \"long_term\", \"look\", \"look\", \"look\", \"look\", \"look\", \"loss\", \"loss\", \"loss\", \"love_one\", \"major_medical\", \"make\", \"make\", \"make\", \"make\", \"make\", \"many\", \"many\", \"many\", \"many\", \"many\", \"many_factor\", \"marketplace\", \"medical\", \"medical\", \"medical\", \"medical\", \"medical_condition\", \"medical_record\", \"medicare\", \"medicare_advantage\", \"medicare_part\", \"medicare_supplement\", \"medigap\", \"medigap_plan\", \"money\", \"money\", \"money\", \"money\", \"more\", \"more\", \"more\", \"more\", \"more\", \"most\", \"most\", \"most\", \"most\", \"most\", \"much\", \"much\", \"much\", \"much\", \"much\", \"multiple\", \"multiple\", \"mutual\", \"mutual\", \"need\", \"need\", \"need\", \"need\", \"need\", \"nonqualified\", \"obamacare\", \"occupation\", \"offer\", \"offer\", \"offer\", \"offer\", \"offer\", \"online\", \"online\", \"open\", \"open\", \"open\", \"original\", \"original\", \"original_medicare\", \"other\", \"other\", \"other\", \"other\", \"other\", \"outpatient\", \"part\", \"part\", \"part\", \"part\", \"part\", \"participate_whole\", \"pas\", \"pas\", \"pas\", \"pas\", \"paycheck\", \"peril\", \"period\", \"period\", \"period\", \"permanent\", \"person\", \"person\", \"person\", \"person\", \"person\", \"personal\", \"personal\", \"personal\", \"personal\", \"personal_property\", \"plan\", \"plan\", \"plan\", \"policy_completely\", \"prefer\", \"premium\", \"premium\", \"premium\", \"premium\", \"premium\", \"prescription\", \"prescription\", \"prescription_drug\", \"price\", \"price\", \"probate\", \"proceeds\", \"property\", \"property_damage\", \"provide\", \"provide\", \"provide\", \"provide\", \"provide\", \"purchase\", \"purchase\", \"purchase\", \"purchase\", \"purchase\", \"qualified\", \"qualified\", \"qualified\", \"qualify\", \"qualify\", \"qualify\", \"question\", \"question\", \"question\", \"question\", \"question\", \"quote\", \"rate\", \"rate\", \"rate\", \"rating\", \"record\", \"rent\", \"rental\", \"renter\", \"repair\", \"replacement\", \"represent\", \"reputable\", \"require\", \"require\", \"require\", \"require\", \"require\", \"residence\", \"retirement\", \"retirement\", \"retirement_plan\", \"retirement_planner\", \"retirement_planner\", \"risk\", \"risk\", \"risk\", \"risk\", \"risk\", \"risk_tolerance\", \"roof\", \"roth\", \"save_money\", \"score\", \"search\", \"security\", \"sell\", \"sell\", \"sell\", \"sell\", \"service\", \"service\", \"service\", \"service\", \"service\", \"shall\", \"shall\", \"shall\", \"shall\", \"shall\", \"shop\", \"short\", \"short\", \"short\", \"short_term\", \"silver\", \"skilled\", \"social\", \"social_security\", \"some\", \"some\", \"some\", \"some\", \"some\", \"state\", \"state\", \"state\", \"state\", \"state\", \"subsidy\", \"supplement\", \"surrender\", \"survivor\", \"take\", \"take\", \"take\", \"take\", \"take\", \"tell\", \"tell\", \"tell\", \"tenant\", \"term\", \"term\", \"term\", \"theft\", \"their\", \"their\", \"their\", \"their\", \"their\", \"then\", \"then\", \"then\", \"then\", \"then\", \"therapy\", \"there\", \"there\", \"there\", \"there\", \"there\", \"they\", \"they\", \"they\", \"they\", \"they\", \"this\", \"this\", \"this\", \"this\", \"this\", \"through\", \"through\", \"through\", \"through\", \"through\", \"time\", \"time\", \"time\", \"time\", \"time\", \"tolerance\", \"treatment\", \"treatment\", \"typically\", \"typically\", \"typically\", \"typically\", \"typically\", \"under\", \"under\", \"under\", \"under\", \"underwriter\", \"unit\", \"universal\", \"universal_life\", \"usaa\", \"value\", \"value\", \"value\", \"variable\", \"variable\", \"variable\", \"variable_annuity\", \"vehicle\", \"vehicle\", \"voluntary\", \"waiting\", \"waiting_period\", \"water\", \"website\", \"website\", \"website\", \"what\", \"what\", \"what\", \"what\", \"what\", \"when\", \"when\", \"when\", \"when\", \"when\", \"whole\", \"whole_life\", \"work\", \"work\", \"work\", \"work\", \"work\", \"worker\", \"year\", \"year\", \"year\", \"year\"]}, \"R\": 30, \"lambda.step\": 0.01, \"plot.opts\": {\"xlab\": \"PC1\", \"ylab\": \"PC2\"}, \"topic.order\": [5, 1, 4, 3, 2]};\n",
       "\n",
       "function LDAvis_load_lib(url, callback){\n",
       "  var s = document.createElement('script');\n",
       "  s.src = url;\n",
       "  s.async = true;\n",
       "  s.onreadystatechange = s.onload = callback;\n",
       "  s.onerror = function(){console.warn(\"failed to load library \" + url);};\n",
       "  document.getElementsByTagName(\"head\")[0].appendChild(s);\n",
       "}\n",
       "\n",
       "if(typeof(LDAvis) !== \"undefined\"){\n",
       "   // already loaded: just create the visualization\n",
       "   !function(LDAvis){\n",
       "       new LDAvis(\"#\" + \"ldavis_el4254425451349400482006667635\", ldavis_el4254425451349400482006667635_data);\n",
       "   }(LDAvis);\n",
       "}else if(typeof define === \"function\" && define.amd){\n",
       "   // require.js is available: use it to load d3/LDAvis\n",
       "   require.config({paths: {d3: \"https://d3js.org/d3.v5\"}});\n",
       "   require([\"d3\"], function(d3){\n",
       "      window.d3 = d3;\n",
       "      LDAvis_load_lib(\"https://cdn.jsdelivr.net/gh/bmabey/pyLDAvis@3.3.1/pyLDAvis/js/ldavis.v3.0.0.js\", function(){\n",
       "        new LDAvis(\"#\" + \"ldavis_el4254425451349400482006667635\", ldavis_el4254425451349400482006667635_data);\n",
       "      });\n",
       "    });\n",
       "}else{\n",
       "    // require.js not available: dynamically load d3 & LDAvis\n",
       "    LDAvis_load_lib(\"https://d3js.org/d3.v5.js\", function(){\n",
       "         LDAvis_load_lib(\"https://cdn.jsdelivr.net/gh/bmabey/pyLDAvis@3.3.1/pyLDAvis/js/ldavis.v3.0.0.js\", function(){\n",
       "                 new LDAvis(\"#\" + \"ldavis_el4254425451349400482006667635\", ldavis_el4254425451349400482006667635_data);\n",
       "            })\n",
       "         });\n",
       "}\n",
       "</script>"
      ],
      "text/plain": [
       "PreparedData(topic_coordinates=              x         y  topics  cluster       Freq\n",
       "topic                                                \n",
       "4     -0.103160 -0.043399       1        1  33.050529\n",
       "0     -0.000005 -0.234173       2        1  19.501518\n",
       "3      0.074388  0.044578       3        1  16.845760\n",
       "2     -0.207589  0.141604       4        1  15.346458\n",
       "1      0.236366  0.091389       5        1  15.255734, topic_info=         Term          Freq         Total Category  logprob  loglift\n",
       "13       life  12572.000000  12572.000000  Default  30.0000  30.0000\n",
       "94   medicare   7600.000000   7600.000000  Default  29.0000  29.0000\n",
       "92     health   6150.000000   6150.000000  Default  28.0000  28.0000\n",
       "43       plan   8107.000000   8107.000000  Default  27.0000  27.0000\n",
       "324      term   5044.000000   5044.000000  Default  26.0000  26.0000\n",
       "..        ...           ...           ...      ...      ...      ...\n",
       "143      what    699.815599   5567.915050   Topic5  -4.9792  -0.1937\n",
       "107      when    582.235090   4045.723997   Topic5  -5.1632  -0.0583\n",
       "408      most    555.704388   3589.236378   Topic5  -5.2098   0.0148\n",
       "312     other    546.190885   3306.761337   Topic5  -5.2271   0.0795\n",
       "9        from    506.567806   3924.302659   Topic5  -5.3024  -0.1671\n",
       "\n",
       "[346 rows x 6 columns], token_table=      Topic      Freq    Term\n",
       "term                         \n",
       "984       5  0.997246    401k\n",
       "1889      1  0.996252    aarp\n",
       "28        1  0.690933   about\n",
       "28        2  0.054203   about\n",
       "28        3  0.064328   about\n",
       "...     ...       ...     ...\n",
       "1773      3  0.995908  worker\n",
       "83        1  0.406674    year\n",
       "83        2  0.352775    year\n",
       "83        3  0.069531    year\n",
       "83        5  0.170863    year\n",
       "\n",
       "[611 rows x 3 columns], R=30, lambda_step=0.01, plot_opts={'xlab': 'PC1', 'ylab': 'PC2'}, topic_order=[5, 1, 4, 3, 2])"
      ]
     },
     "execution_count": 34,
     "metadata": {},
     "output_type": "execute_result"
    }
   ],
   "source": [
    "vis"
   ]
  },
  {
   "cell_type": "code",
   "execution_count": null,
   "metadata": {},
   "outputs": [],
   "source": []
  }
 ],
 "metadata": {
  "kernelspec": {
   "display_name": "Python 3",
   "language": "python",
   "name": "python3"
  },
  "language_info": {
   "codemirror_mode": {
    "name": "ipython",
    "version": 3
   },
   "file_extension": ".py",
   "mimetype": "text/x-python",
   "name": "python",
   "nbconvert_exporter": "python",
   "pygments_lexer": "ipython3",
   "version": "3.8.5"
  }
 },
 "nbformat": 4,
 "nbformat_minor": 4
}
