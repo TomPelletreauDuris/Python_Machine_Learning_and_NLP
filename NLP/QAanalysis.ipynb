{
 "cells": [
  {
   "cell_type": "code",
   "execution_count": 133,
   "metadata": {},
   "outputs": [],
   "source": [
    "import warnings\n",
    "warnings.filterwarnings('ignore')"
   ]
  },
  {
   "cell_type": "code",
   "execution_count": 134,
   "metadata": {
    "scrolled": true
   },
   "outputs": [],
   "source": [
    "import pandas as pd\n",
    "import gensim as gs\n",
    "import numpy as np"
   ]
  },
  {
   "cell_type": "code",
   "execution_count": 135,
   "metadata": {},
   "outputs": [],
   "source": [
    "dataset = pd.read_csv(\"./insurance_QA_train.csv\", sep=\";\")"
   ]
  },
  {
   "cell_type": "code",
   "execution_count": 136,
   "metadata": {
    "scrolled": true
   },
   "outputs": [
    {
     "data": {
      "text/html": [
       "<div>\n",
       "<style scoped>\n",
       "    .dataframe tbody tr th:only-of-type {\n",
       "        vertical-align: middle;\n",
       "    }\n",
       "\n",
       "    .dataframe tbody tr th {\n",
       "        vertical-align: top;\n",
       "    }\n",
       "\n",
       "    .dataframe thead th {\n",
       "        text-align: right;\n",
       "    }\n",
       "</style>\n",
       "<table border=\"1\" class=\"dataframe\">\n",
       "  <thead>\n",
       "    <tr style=\"text-align: right;\">\n",
       "      <th></th>\n",
       "      <th>Question</th>\n",
       "      <th>Answer</th>\n",
       "    </tr>\n",
       "  </thead>\n",
       "  <tbody>\n",
       "    <tr>\n",
       "      <th>0</th>\n",
       "      <td>be Life Insurance exempt from creditor in Conn...</td>\n",
       "      <td>provided that you have name a primarybeneficia...</td>\n",
       "    </tr>\n",
       "    <tr>\n",
       "      <th>1</th>\n",
       "      <td>which country have the good retirement plan?</td>\n",
       "      <td>not many sovereign nation have retirement plan...</td>\n",
       "    </tr>\n",
       "    <tr>\n",
       "      <th>2</th>\n",
       "      <td>how do I purchase homeowner insurance?</td>\n",
       "      <td>it simple really contact a broker like myself ...</td>\n",
       "    </tr>\n",
       "    <tr>\n",
       "      <th>3</th>\n",
       "      <td>when be Medicare primary or secondary?</td>\n",
       "      <td>the factor that determine whether Medicare be ...</td>\n",
       "    </tr>\n",
       "    <tr>\n",
       "      <th>4</th>\n",
       "      <td>do smoking void Life Insurance?</td>\n",
       "      <td>if you buy a life insurance policy as a nonsmo...</td>\n",
       "    </tr>\n",
       "  </tbody>\n",
       "</table>\n",
       "</div>"
      ],
      "text/plain": [
       "                                            Question  \\\n",
       "0  be Life Insurance exempt from creditor in Conn...   \n",
       "1       which country have the good retirement plan?   \n",
       "2             how do I purchase homeowner insurance?   \n",
       "3             when be Medicare primary or secondary?   \n",
       "4                    do smoking void Life Insurance?   \n",
       "\n",
       "                                              Answer  \n",
       "0  provided that you have name a primarybeneficia...  \n",
       "1  not many sovereign nation have retirement plan...  \n",
       "2  it simple really contact a broker like myself ...  \n",
       "3  the factor that determine whether Medicare be ...  \n",
       "4  if you buy a life insurance policy as a nonsmo...  "
      ]
     },
     "execution_count": 136,
     "metadata": {},
     "output_type": "execute_result"
    }
   ],
   "source": [
    "dataset.head()"
   ]
  },
  {
   "cell_type": "code",
   "execution_count": 137,
   "metadata": {},
   "outputs": [],
   "source": [
    "from keras.preprocessing.text import Tokenizer"
   ]
  },
  {
   "cell_type": "code",
   "execution_count": 138,
   "metadata": {},
   "outputs": [],
   "source": [
    "from nltk.stem import SnowballStemmer\n",
    "import nltk\n",
    "pd.options.mode.chained_assignment = None  # default='warn'"
   ]
  },
  {
   "cell_type": "code",
   "execution_count": 139,
   "metadata": {},
   "outputs": [],
   "source": [
    "toktok = nltk.tokenize.toktok.ToktokTokenizer()\n",
    "stop = nltk.corpus.stopwords.words('english')"
   ]
  },
  {
   "cell_type": "code",
   "execution_count": 140,
   "metadata": {},
   "outputs": [],
   "source": [
    "dataset['AnswerTok'] = dataset['Answer'].apply(toktok.tokenize)\n",
    "dataset['AnswerTokStop'] = dataset['AnswerTok'].apply(lambda x: [word for word in x if word not in stop])"
   ]
  },
  {
   "cell_type": "code",
   "execution_count": 141,
   "metadata": {},
   "outputs": [
    {
     "data": {
      "text/html": [
       "<div>\n",
       "<style scoped>\n",
       "    .dataframe tbody tr th:only-of-type {\n",
       "        vertical-align: middle;\n",
       "    }\n",
       "\n",
       "    .dataframe tbody tr th {\n",
       "        vertical-align: top;\n",
       "    }\n",
       "\n",
       "    .dataframe thead th {\n",
       "        text-align: right;\n",
       "    }\n",
       "</style>\n",
       "<table border=\"1\" class=\"dataframe\">\n",
       "  <thead>\n",
       "    <tr style=\"text-align: right;\">\n",
       "      <th></th>\n",
       "      <th>Question</th>\n",
       "      <th>Answer</th>\n",
       "      <th>AnswerTok</th>\n",
       "      <th>AnswerTokStop</th>\n",
       "    </tr>\n",
       "  </thead>\n",
       "  <tbody>\n",
       "    <tr>\n",
       "      <th>0</th>\n",
       "      <td>be Life Insurance exempt from creditor in Conn...</td>\n",
       "      <td>provided that you have name a primarybeneficia...</td>\n",
       "      <td>[provided, that, you, have, name, a, primarybe...</td>\n",
       "      <td>[provided, name, primarybeneficiary, life, pol...</td>\n",
       "    </tr>\n",
       "    <tr>\n",
       "      <th>1</th>\n",
       "      <td>which country have the good retirement plan?</td>\n",
       "      <td>not many sovereign nation have retirement plan...</td>\n",
       "      <td>[not, many, sovereign, nation, have, retiremen...</td>\n",
       "      <td>[many, sovereign, nation, retirement, plan, su...</td>\n",
       "    </tr>\n",
       "    <tr>\n",
       "      <th>2</th>\n",
       "      <td>how do I purchase homeowner insurance?</td>\n",
       "      <td>it simple really contact a broker like myself ...</td>\n",
       "      <td>[it, simple, really, contact, a, broker, like,...</td>\n",
       "      <td>[simple, really, contact, broker, like, licens...</td>\n",
       "    </tr>\n",
       "    <tr>\n",
       "      <th>3</th>\n",
       "      <td>when be Medicare primary or secondary?</td>\n",
       "      <td>the factor that determine whether Medicare be ...</td>\n",
       "      <td>[the, factor, that, determine, whether, Medica...</td>\n",
       "      <td>[factor, determine, whether, Medicare, primary...</td>\n",
       "    </tr>\n",
       "    <tr>\n",
       "      <th>4</th>\n",
       "      <td>do smoking void Life Insurance?</td>\n",
       "      <td>if you buy a life insurance policy as a nonsmo...</td>\n",
       "      <td>[if, you, buy, a, life, insurance, policy, as,...</td>\n",
       "      <td>[buy, life, insurance, policy, nonsmoker, legi...</td>\n",
       "    </tr>\n",
       "  </tbody>\n",
       "</table>\n",
       "</div>"
      ],
      "text/plain": [
       "                                            Question  \\\n",
       "0  be Life Insurance exempt from creditor in Conn...   \n",
       "1       which country have the good retirement plan?   \n",
       "2             how do I purchase homeowner insurance?   \n",
       "3             when be Medicare primary or secondary?   \n",
       "4                    do smoking void Life Insurance?   \n",
       "\n",
       "                                              Answer  \\\n",
       "0  provided that you have name a primarybeneficia...   \n",
       "1  not many sovereign nation have retirement plan...   \n",
       "2  it simple really contact a broker like myself ...   \n",
       "3  the factor that determine whether Medicare be ...   \n",
       "4  if you buy a life insurance policy as a nonsmo...   \n",
       "\n",
       "                                           AnswerTok  \\\n",
       "0  [provided, that, you, have, name, a, primarybe...   \n",
       "1  [not, many, sovereign, nation, have, retiremen...   \n",
       "2  [it, simple, really, contact, a, broker, like,...   \n",
       "3  [the, factor, that, determine, whether, Medica...   \n",
       "4  [if, you, buy, a, life, insurance, policy, as,...   \n",
       "\n",
       "                                       AnswerTokStop  \n",
       "0  [provided, name, primarybeneficiary, life, pol...  \n",
       "1  [many, sovereign, nation, retirement, plan, su...  \n",
       "2  [simple, really, contact, broker, like, licens...  \n",
       "3  [factor, determine, whether, Medicare, primary...  \n",
       "4  [buy, life, insurance, policy, nonsmoker, legi...  "
      ]
     },
     "execution_count": 141,
     "metadata": {},
     "output_type": "execute_result"
    }
   ],
   "source": [
    "dataset.head()"
   ]
  },
  {
   "cell_type": "code",
   "execution_count": 142,
   "metadata": {},
   "outputs": [],
   "source": [
    "sentences = dataset['AnswerTokStop'].values"
   ]
  },
  {
   "cell_type": "code",
   "execution_count": 143,
   "metadata": {},
   "outputs": [],
   "source": [
    "model = gs.models.Word2Vec(sentences, min_count=40)"
   ]
  },
  {
   "cell_type": "code",
   "execution_count": 144,
   "metadata": {},
   "outputs": [
    {
     "data": {
      "text/plain": [
       "array([-3.0391872e-01, -4.0259063e-02, -5.0038373e-01, -3.2221457e-01,\n",
       "       -2.4400483e-01,  4.6724480e-01,  5.9797513e-01,  1.2166169e+00,\n",
       "        1.3511615e+00, -8.5258342e-02, -1.3196304e+00,  1.7724092e-01,\n",
       "        1.0661708e+00, -2.2433572e+00, -2.6280320e-01, -1.1862894e+00,\n",
       "        8.2861203e-01, -3.5324365e-01, -3.8553450e-01, -5.9117705e-01,\n",
       "       -6.5829033e-01, -1.1717794e+00,  5.7562214e-01,  2.8608108e-01,\n",
       "       -1.3644720e+00, -1.4868903e+00,  6.3115996e-01, -1.4147116e+00,\n",
       "       -6.3579988e-01, -8.8152152e-01, -1.2398890e+00, -5.9847677e-01,\n",
       "        1.1743565e+00, -6.7230558e-01, -9.1903585e-01, -5.0652307e-01,\n",
       "       -1.1967834e+00, -4.6847853e-01, -2.3540935e-01,  5.3406179e-01,\n",
       "       -2.1591897e-01,  1.2182440e+00, -1.1036173e+00, -1.1764721e+00,\n",
       "        7.8155768e-01, -5.8013022e-01,  3.1921830e+00, -1.3905989e+00,\n",
       "        6.8527853e-01,  5.4264325e-01,  3.9141381e-01, -1.5367045e+00,\n",
       "        2.4271775e-02,  1.6315511e+00, -3.0491881e+00,  7.1740210e-02,\n",
       "       -9.1085535e-01, -6.5854609e-01, -8.3448923e-01, -1.9037783e-01,\n",
       "       -1.6288549e+00,  1.9305561e+00,  1.1942501e-03,  1.6084043e+00,\n",
       "       -3.5013828e-01,  1.1380545e+00, -2.4131419e-01, -1.7844944e-01,\n",
       "       -4.3762183e-01,  2.3988913e-01,  4.3334082e-02,  1.1784412e+00,\n",
       "        1.7879493e+00,  2.6656017e-01,  5.9771633e-01,  1.0008867e+00,\n",
       "        1.3289472e-01,  7.7067673e-02, -5.0234902e-01, -9.4603688e-01,\n",
       "       -4.2296195e-01,  3.4939516e-01, -5.8615410e-01, -1.3190591e+00,\n",
       "       -1.3779792e+00, -5.1505101e-01, -8.2910633e-01,  1.4205611e+00,\n",
       "        2.3036840e+00,  1.4496289e-01,  1.0351558e+00, -1.1963053e+00,\n",
       "        8.0572462e-01, -1.2592693e-01, -3.9091724e-01, -3.8913146e-01,\n",
       "        2.9400223e-01, -2.1864609e-01, -1.4270070e+00, -1.7532742e+00],\n",
       "      dtype=float32)"
      ]
     },
     "execution_count": 144,
     "metadata": {},
     "output_type": "execute_result"
    }
   ],
   "source": [
    "model.wv.get_vector('medical')"
   ]
  },
  {
   "cell_type": "code",
   "execution_count": 145,
   "metadata": {},
   "outputs": [
    {
     "data": {
      "text/plain": [
       "[('mental', 0.8450204730033875),\n",
       " ('preventive', 0.7479002475738525),\n",
       " ('VA', 0.7473461031913757),\n",
       " ('dental', 0.7416678667068481),\n",
       " ('vision', 0.7289652228355408),\n",
       " ('longer', 0.7070941925048828),\n",
       " ('kick', 0.686384379863739),\n",
       " ('skilled', 0.6829015612602234),\n",
       " ('childbirth', 0.6823986768722534),\n",
       " ('routine', 0.6770808696746826)]"
      ]
     },
     "execution_count": 145,
     "metadata": {},
     "output_type": "execute_result"
    }
   ],
   "source": [
    "model.wv.most_similar('maternity',topn=10)"
   ]
  },
  {
   "cell_type": "code",
   "execution_count": 146,
   "metadata": {},
   "outputs": [
    {
     "data": {
      "text/plain": [
       "[('woman', 0.8431228995323181),\n",
       " ('young', 0.765759289264679),\n",
       " ('adult', 0.756263017654419),\n",
       " ('perfect', 0.7224392890930176),\n",
       " ('decade', 0.7215998768806458)]"
      ]
     },
     "execution_count": 146,
     "metadata": {},
     "output_type": "execute_result"
    }
   ],
   "source": [
    "model.wv.most_similar('man',topn=5)"
   ]
  },
  {
   "cell_type": "code",
   "execution_count": 89,
   "metadata": {},
   "outputs": [],
   "source": [
    "def analogy(x1, x2, y1):\n",
    "    result = model.wv.most_similar(positive=[y1, x2], negative=[x1])\n",
    "    return result[0][0]"
   ]
  },
  {
   "cell_type": "code",
   "execution_count": 90,
   "metadata": {},
   "outputs": [
    {
     "data": {
      "text/plain": [
       "'inpatient'"
      ]
     },
     "execution_count": 90,
     "metadata": {},
     "output_type": "execute_result"
    }
   ],
   "source": [
    "analogy('woman', 'hospital', 'baby')"
   ]
  },
  {
   "cell_type": "code",
   "execution_count": 91,
   "metadata": {
    "scrolled": true
   },
   "outputs": [
    {
     "data": {
      "text/plain": [
       "'wait'"
      ]
     },
     "execution_count": 91,
     "metadata": {},
     "output_type": "execute_result"
    }
   ],
   "source": [
    "analogy('nurse', 'hospital', 'baby')"
   ]
  },
  {
   "cell_type": "code",
   "execution_count": 92,
   "metadata": {
    "scrolled": false
   },
   "outputs": [
    {
     "data": {
      "text/plain": [
       "'inpatient'"
      ]
     },
     "execution_count": 92,
     "metadata": {},
     "output_type": "execute_result"
    }
   ],
   "source": [
    "analogy('doctor', 'hospital', 'routine')"
   ]
  },
  {
   "cell_type": "code",
   "execution_count": 93,
   "metadata": {
    "scrolled": false
   },
   "outputs": [
    {
     "data": {
      "text/plain": [
       "'inpatient'"
      ]
     },
     "execution_count": 93,
     "metadata": {},
     "output_type": "execute_result"
    }
   ],
   "source": [
    "analogy('man', 'woman', 'hospital')"
   ]
  },
  {
   "cell_type": "code",
   "execution_count": 94,
   "metadata": {
    "scrolled": true
   },
   "outputs": [
    {
     "data": {
      "text/plain": [
       "'childbirth'"
      ]
     },
     "execution_count": 94,
     "metadata": {},
     "output_type": "execute_result"
    }
   ],
   "source": [
    "analogy('doctor', 'pregnancy', 'hospital')"
   ]
  },
  {
   "cell_type": "code",
   "execution_count": 95,
   "metadata": {
    "scrolled": true
   },
   "outputs": [
    {
     "data": {
      "text/plain": [
       "'therapy'"
      ]
     },
     "execution_count": 95,
     "metadata": {},
     "output_type": "execute_result"
    }
   ],
   "source": [
    "analogy('baby', 'chronic', 'hospital')"
   ]
  },
  {
   "cell_type": "code",
   "execution_count": 96,
   "metadata": {
    "scrolled": true
   },
   "outputs": [
    {
     "data": {
      "text/plain": [
       "'complication'"
      ]
     },
     "execution_count": 96,
     "metadata": {},
     "output_type": "execute_result"
    }
   ],
   "source": [
    "analogy('baby', 'woman', 'pregnancy')"
   ]
  },
  {
   "cell_type": "code",
   "execution_count": 97,
   "metadata": {
    "scrolled": true
   },
   "outputs": [
    {
     "data": {
      "text/plain": [
       "'adult'"
      ]
     },
     "execution_count": 97,
     "metadata": {},
     "output_type": "execute_result"
    }
   ],
   "source": [
    "analogy('doctor', 'man', 'nursing')"
   ]
  },
  {
   "cell_type": "code",
   "execution_count": 98,
   "metadata": {
    "scrolled": true
   },
   "outputs": [
    {
     "data": {
      "text/plain": [
       "'maternity'"
      ]
     },
     "execution_count": 98,
     "metadata": {},
     "output_type": "execute_result"
    }
   ],
   "source": [
    "analogy('woman', 'childbirth', 'baby')"
   ]
  },
  {
   "cell_type": "code",
   "execution_count": 108,
   "metadata": {},
   "outputs": [],
   "source": [
    "from sklearn.decomposition import PCA\n",
    "# Get the interactive Tools for Matplotlib\n",
    "%matplotlib inline\n",
    "import matplotlib.pyplot as plt"
   ]
  },
  {
   "cell_type": "code",
   "execution_count": 111,
   "metadata": {},
   "outputs": [],
   "source": [
    "def display_pca_scatterplot(model, words=None, sample=0):\n",
    "    if words == None:\n",
    "        if sample > 0:\n",
    "            words = np.random.choice(list(model.vocab.keys()), sample)\n",
    "        else:\n",
    "            words = [ word for word in model.vocab ]\n",
    "        \n",
    "    word_vectors = np.array([model.wv[w] for w in words])\n",
    "\n",
    "    twodim = PCA().fit_transform(word_vectors)[:,:2]\n",
    "    \n",
    "    plt.figure(figsize=(5,5))\n",
    "    plt.scatter(twodim[:,0], twodim[:,1], edgecolors='k', c='r')\n",
    "    for word, (x,y) in zip(words, twodim):\n",
    "        plt.text(x+0.05, y+0.05, word)"
   ]
  },
  {
   "cell_type": "code",
   "execution_count": 114,
   "metadata": {},
   "outputs": [
    {
     "data": {
      "image/png": "[encoded data removed]",
      "text/plain": [
       "<Figure size 360x360 with 1 Axes>"
      ]
     },
     "metadata": {
      "needs_background": "light"
     },
     "output_type": "display_data"
    }
   ],
   "source": [
    "display_pca_scatterplot(model,['woman', 'man','policy', 'therapy', 'pregnant','hospital', 'baby' ])"
   ]
  },
  {
   "cell_type": "code",
   "execution_count": 115,
   "metadata": {},
   "outputs": [],
   "source": [
    "dataset = pd.read_csv(\"./insurance_QA_train.csv\", sep=\";\")"
   ]
  },
  {
   "cell_type": "code",
   "execution_count": 116,
   "metadata": {},
   "outputs": [
    {
     "data": {
      "text/html": [
       "<div>\n",
       "<style scoped>\n",
       "    .dataframe tbody tr th:only-of-type {\n",
       "        vertical-align: middle;\n",
       "    }\n",
       "\n",
       "    .dataframe tbody tr th {\n",
       "        vertical-align: top;\n",
       "    }\n",
       "\n",
       "    .dataframe thead th {\n",
       "        text-align: right;\n",
       "    }\n",
       "</style>\n",
       "<table border=\"1\" class=\"dataframe\">\n",
       "  <thead>\n",
       "    <tr style=\"text-align: right;\">\n",
       "      <th></th>\n",
       "      <th>Question</th>\n",
       "      <th>Answer</th>\n",
       "    </tr>\n",
       "  </thead>\n",
       "  <tbody>\n",
       "    <tr>\n",
       "      <th>0</th>\n",
       "      <td>be Life Insurance exempt from creditor in Conn...</td>\n",
       "      <td>provided that you have name a primarybeneficia...</td>\n",
       "    </tr>\n",
       "    <tr>\n",
       "      <th>1</th>\n",
       "      <td>which country have the good retirement plan?</td>\n",
       "      <td>not many sovereign nation have retirement plan...</td>\n",
       "    </tr>\n",
       "    <tr>\n",
       "      <th>2</th>\n",
       "      <td>how do I purchase homeowner insurance?</td>\n",
       "      <td>it simple really contact a broker like myself ...</td>\n",
       "    </tr>\n",
       "    <tr>\n",
       "      <th>3</th>\n",
       "      <td>when be Medicare primary or secondary?</td>\n",
       "      <td>the factor that determine whether Medicare be ...</td>\n",
       "    </tr>\n",
       "    <tr>\n",
       "      <th>4</th>\n",
       "      <td>do smoking void Life Insurance?</td>\n",
       "      <td>if you buy a life insurance policy as a nonsmo...</td>\n",
       "    </tr>\n",
       "  </tbody>\n",
       "</table>\n",
       "</div>"
      ],
      "text/plain": [
       "                                            Question  \\\n",
       "0  be Life Insurance exempt from creditor in Conn...   \n",
       "1       which country have the good retirement plan?   \n",
       "2             how do I purchase homeowner insurance?   \n",
       "3             when be Medicare primary or secondary?   \n",
       "4                    do smoking void Life Insurance?   \n",
       "\n",
       "                                              Answer  \n",
       "0  provided that you have name a primarybeneficia...  \n",
       "1  not many sovereign nation have retirement plan...  \n",
       "2  it simple really contact a broker like myself ...  \n",
       "3  the factor that determine whether Medicare be ...  \n",
       "4  if you buy a life insurance policy as a nonsmo...  "
      ]
     },
     "execution_count": 116,
     "metadata": {},
     "output_type": "execute_result"
    }
   ],
   "source": [
    "dataset.head()"
   ]
  },
  {
   "cell_type": "code",
   "execution_count": 148,
   "metadata": {},
   "outputs": [],
   "source": [
    "from keras.preprocessing.text import Tokenizer"
   ]
  },
  {
   "cell_type": "code",
   "execution_count": 149,
   "metadata": {},
   "outputs": [],
   "source": [
    "from nltk.stem import SnowballStemmer\n",
    "import nltk\n",
    "pd.options.mode.chained_assignment = None  # default='warn'"
   ]
  },
  {
   "cell_type": "code",
   "execution_count": 150,
   "metadata": {},
   "outputs": [],
   "source": [
    "toktok = nltk.tokenize.toktok.ToktokTokenizer()\n",
    "stop = nltk.corpus.stopwords.words('english')"
   ]
  },
  {
   "cell_type": "code",
   "execution_count": 151,
   "metadata": {},
   "outputs": [],
   "source": [
    "dataset['AnswerTok'] = dataset['Answer'].apply(toktok.tokenize)\n",
    "dataset['AnswerTokStop'] = dataset['AnswerTok'].apply(lambda x: [word for word in x if word not in stop])"
   ]
  },
  {
   "cell_type": "code",
   "execution_count": 152,
   "metadata": {},
   "outputs": [
    {
     "data": {
      "text/html": [
       "<div>\n",
       "<style scoped>\n",
       "    .dataframe tbody tr th:only-of-type {\n",
       "        vertical-align: middle;\n",
       "    }\n",
       "\n",
       "    .dataframe tbody tr th {\n",
       "        vertical-align: top;\n",
       "    }\n",
       "\n",
       "    .dataframe thead th {\n",
       "        text-align: right;\n",
       "    }\n",
       "</style>\n",
       "<table border=\"1\" class=\"dataframe\">\n",
       "  <thead>\n",
       "    <tr style=\"text-align: right;\">\n",
       "      <th></th>\n",
       "      <th>Question</th>\n",
       "      <th>Answer</th>\n",
       "      <th>AnswerTok</th>\n",
       "      <th>AnswerTokStop</th>\n",
       "    </tr>\n",
       "  </thead>\n",
       "  <tbody>\n",
       "    <tr>\n",
       "      <th>0</th>\n",
       "      <td>be Life Insurance exempt from creditor in Conn...</td>\n",
       "      <td>provided that you have name a primarybeneficia...</td>\n",
       "      <td>[provided, that, you, have, name, a, primarybe...</td>\n",
       "      <td>[provided, name, primarybeneficiary, life, pol...</td>\n",
       "    </tr>\n",
       "    <tr>\n",
       "      <th>1</th>\n",
       "      <td>which country have the good retirement plan?</td>\n",
       "      <td>not many sovereign nation have retirement plan...</td>\n",
       "      <td>[not, many, sovereign, nation, have, retiremen...</td>\n",
       "      <td>[many, sovereign, nation, retirement, plan, su...</td>\n",
       "    </tr>\n",
       "    <tr>\n",
       "      <th>2</th>\n",
       "      <td>how do I purchase homeowner insurance?</td>\n",
       "      <td>it simple really contact a broker like myself ...</td>\n",
       "      <td>[it, simple, really, contact, a, broker, like,...</td>\n",
       "      <td>[simple, really, contact, broker, like, licens...</td>\n",
       "    </tr>\n",
       "    <tr>\n",
       "      <th>3</th>\n",
       "      <td>when be Medicare primary or secondary?</td>\n",
       "      <td>the factor that determine whether Medicare be ...</td>\n",
       "      <td>[the, factor, that, determine, whether, Medica...</td>\n",
       "      <td>[factor, determine, whether, Medicare, primary...</td>\n",
       "    </tr>\n",
       "    <tr>\n",
       "      <th>4</th>\n",
       "      <td>do smoking void Life Insurance?</td>\n",
       "      <td>if you buy a life insurance policy as a nonsmo...</td>\n",
       "      <td>[if, you, buy, a, life, insurance, policy, as,...</td>\n",
       "      <td>[buy, life, insurance, policy, nonsmoker, legi...</td>\n",
       "    </tr>\n",
       "  </tbody>\n",
       "</table>\n",
       "</div>"
      ],
      "text/plain": [
       "                                            Question  \\\n",
       "0  be Life Insurance exempt from creditor in Conn...   \n",
       "1       which country have the good retirement plan?   \n",
       "2             how do I purchase homeowner insurance?   \n",
       "3             when be Medicare primary or secondary?   \n",
       "4                    do smoking void Life Insurance?   \n",
       "\n",
       "                                              Answer  \\\n",
       "0  provided that you have name a primarybeneficia...   \n",
       "1  not many sovereign nation have retirement plan...   \n",
       "2  it simple really contact a broker like myself ...   \n",
       "3  the factor that determine whether Medicare be ...   \n",
       "4  if you buy a life insurance policy as a nonsmo...   \n",
       "\n",
       "                                           AnswerTok  \\\n",
       "0  [provided, that, you, have, name, a, primarybe...   \n",
       "1  [not, many, sovereign, nation, have, retiremen...   \n",
       "2  [it, simple, really, contact, a, broker, like,...   \n",
       "3  [the, factor, that, determine, whether, Medica...   \n",
       "4  [if, you, buy, a, life, insurance, policy, as,...   \n",
       "\n",
       "                                       AnswerTokStop  \n",
       "0  [provided, name, primarybeneficiary, life, pol...  \n",
       "1  [many, sovereign, nation, retirement, plan, su...  \n",
       "2  [simple, really, contact, broker, like, licens...  \n",
       "3  [factor, determine, whether, Medicare, primary...  \n",
       "4  [buy, life, insurance, policy, nonsmoker, legi...  "
      ]
     },
     "execution_count": 152,
     "metadata": {},
     "output_type": "execute_result"
    }
   ],
   "source": [
    "dataset.head()"
   ]
  },
  {
   "cell_type": "code",
   "execution_count": 153,
   "metadata": {},
   "outputs": [],
   "source": [
    "sentences = dataset['AnswerTokStop'].values"
   ]
  },
  {
   "cell_type": "code",
   "execution_count": 154,
   "metadata": {
    "scrolled": false
   },
   "outputs": [],
   "source": [
    "model = gs.models.Word2Vec(sentences, min_count=140)"
   ]
  },
  {
   "cell_type": "code",
   "execution_count": 155,
   "metadata": {},
   "outputs": [
    {
     "data": {
      "text/plain": [
       "array([-0.20221938, -0.02374227,  0.4294325 ,  0.72575134, -0.12481324,\n",
       "       -0.45833498,  0.19245708, -0.2845943 , -1.0363452 , -0.33642387,\n",
       "        0.8977222 , -0.67270035,  0.08350114,  0.93273145, -0.5910558 ,\n",
       "        0.39305586,  0.5037639 ,  0.44427443, -1.3483157 , -0.6869313 ,\n",
       "        0.30205348,  0.07534172,  0.06023426,  0.10376425,  0.50570595,\n",
       "       -0.4544424 , -0.21950695,  0.2685764 , -0.5786718 , -0.608981  ,\n",
       "       -1.1492242 , -1.0265621 ,  0.5462844 , -0.4871827 ,  0.2656727 ,\n",
       "       -0.1407572 ,  0.7746882 , -0.20191108,  0.32446375, -0.9067844 ,\n",
       "       -0.30964234,  1.4619209 , -0.14520052,  0.0084077 , -0.3684978 ,\n",
       "        0.43051106, -0.12975416,  0.7816395 ,  0.3667818 ,  1.000025  ,\n",
       "       -0.54624367, -0.02331143,  0.2547281 ,  0.16231187, -0.06767589,\n",
       "       -0.01727659,  0.96018034, -0.5777775 , -0.15331484,  0.7080603 ,\n",
       "        0.23067361,  0.5886484 ,  0.3721311 , -0.9512438 ,  1.0719564 ,\n",
       "        0.55645806,  0.01477952,  0.09041067, -0.92767096,  0.27868563,\n",
       "        0.36023796,  0.53969455, -0.27108106, -1.2799668 ,  0.10917781,\n",
       "       -0.42456797,  0.80193263, -0.42120546, -0.37134364, -0.71472865,\n",
       "       -0.9417703 , -0.02575185,  0.48050788,  0.9506969 , -0.5816081 ,\n",
       "        0.6142112 ,  1.2910815 , -0.19298868, -0.9514551 ,  0.9314406 ,\n",
       "        0.43090093,  0.0450046 , -0.04174821,  0.411237  ,  1.4772213 ,\n",
       "        0.97566   , -0.84557676, -0.1620045 ,  0.4191433 ,  0.6378216 ],\n",
       "      dtype=float32)"
      ]
     },
     "execution_count": 155,
     "metadata": {},
     "output_type": "execute_result"
    }
   ],
   "source": [
    "model.wv.get_vector('insurance')"
   ]
  },
  {
   "cell_type": "code",
   "execution_count": 156,
   "metadata": {},
   "outputs": [
    {
     "data": {
      "text/plain": [
       "[('sell', 0.5496290922164917),\n",
       " ('policy', 0.4301226735115051),\n",
       " ('multiple', 0.4293840527534485),\n",
       " ('purchase', 0.39120593667030334),\n",
       " ('directly', 0.36383503675460815)]"
      ]
     },
     "execution_count": 156,
     "metadata": {},
     "output_type": "execute_result"
    }
   ],
   "source": [
    "model.wv.most_similar('insurance',topn=5)"
   ]
  },
  {
   "cell_type": "code",
   "execution_count": null,
   "metadata": {},
   "outputs": [],
   "source": []
  }
 ],
 "metadata": {
  "kernelspec": {
   "display_name": "Python 3",
   "language": "python",
   "name": "python3"
  },
  "language_info": {
   "codemirror_mode": {
    "name": "ipython",
    "version": 3
   },
   "file_extension": ".py",
   "mimetype": "text/x-python",
   "name": "python",
   "nbconvert_exporter": "python",
   "pygments_lexer": "ipython3",
   "version": "3.8.5"
  }
 },
 "nbformat": 4,
 "nbformat_minor": 2
}
